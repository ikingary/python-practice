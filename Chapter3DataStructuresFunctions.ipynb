{
 "cells": [
  {
   "cell_type": "markdown",
   "id": "d90d9fe6",
   "metadata": {},
   "source": [
    "# Data Structures and Sequences "
   ]
  },
  {
   "cell_type": "markdown",
   "id": "3c40311f",
   "metadata": {},
   "source": [
    "## Tuples"
   ]
  },
  {
   "cell_type": "code",
   "execution_count": 54,
   "id": "bf6e2192",
   "metadata": {},
   "outputs": [
    {
     "data": {
      "text/plain": [
       "(1, 2, 3)"
      ]
     },
     "execution_count": 54,
     "metadata": {},
     "output_type": "execute_result"
    }
   ],
   "source": [
    "a = (1,2,3)\n",
    "a"
   ]
  },
  {
   "cell_type": "markdown",
   "id": "8429625c",
   "metadata": {},
   "source": [
    "Tuples are inmutable, means that once created we cannot modify them"
   ]
  },
  {
   "cell_type": "code",
   "execution_count": 55,
   "id": "95babb95",
   "metadata": {},
   "outputs": [
    {
     "ename": "TypeError",
     "evalue": "'tuple' object does not support item assignment",
     "output_type": "error",
     "traceback": [
      "\u001b[0;31m---------------------------------------------------------------------------\u001b[0m",
      "\u001b[0;31mTypeError\u001b[0m                                 Traceback (most recent call last)",
      "Cell \u001b[0;32mIn[55], line 1\u001b[0m\n\u001b[0;32m----> 1\u001b[0m a[\u001b[38;5;241m0\u001b[39m] \u001b[38;5;241m=\u001b[39m \u001b[38;5;241m0\u001b[39m\n",
      "\u001b[0;31mTypeError\u001b[0m: 'tuple' object does not support item assignment"
     ]
    }
   ],
   "source": [
    "a[0] = 0"
   ]
  },
  {
   "cell_type": "markdown",
   "id": "62337193",
   "metadata": {},
   "source": [
    "Variables are just names of objects. Here a and b are two different names for the same object"
   ]
  },
  {
   "cell_type": "code",
   "execution_count": 56,
   "id": "b6d2e799",
   "metadata": {},
   "outputs": [
    {
     "data": {
      "text/plain": [
       "(1, 2, 3)"
      ]
     },
     "execution_count": 56,
     "metadata": {},
     "output_type": "execute_result"
    }
   ],
   "source": [
    "b = a\n",
    "b"
   ]
  },
  {
   "cell_type": "code",
   "execution_count": 57,
   "id": "720c8bff",
   "metadata": {},
   "outputs": [
    {
     "data": {
      "text/plain": [
       "True"
      ]
     },
     "execution_count": 57,
     "metadata": {},
     "output_type": "execute_result"
    }
   ],
   "source": [
    "b is a"
   ]
  },
  {
   "cell_type": "markdown",
   "id": "8ae5f42f",
   "metadata": {},
   "source": [
    "Here b is a different object that is identical to the object named a "
   ]
  },
  {
   "cell_type": "code",
   "execution_count": 58,
   "id": "5bb1da97",
   "metadata": {},
   "outputs": [
    {
     "ename": "TypeError",
     "evalue": "'tuple' object is not callable",
     "output_type": "error",
     "traceback": [
      "\u001b[0;31m---------------------------------------------------------------------------\u001b[0m",
      "\u001b[0;31mTypeError\u001b[0m                                 Traceback (most recent call last)",
      "Cell \u001b[0;32mIn[58], line 1\u001b[0m\n\u001b[0;32m----> 1\u001b[0m b \u001b[38;5;241m=\u001b[39m \u001b[38;5;28mlist\u001b[39m(a)\n\u001b[1;32m      2\u001b[0m b \u001b[38;5;241m=\u001b[39m \u001b[38;5;28mtuple\u001b[39m(b)\n",
      "\u001b[0;31mTypeError\u001b[0m: 'tuple' object is not callable"
     ]
    }
   ],
   "source": [
    "b = list(a)\n",
    "b = tuple(b)"
   ]
  },
  {
   "cell_type": "code",
   "execution_count": 16,
   "id": "1b446f27",
   "metadata": {},
   "outputs": [
    {
     "data": {
      "text/plain": [
       "False"
      ]
     },
     "execution_count": 16,
     "metadata": {},
     "output_type": "execute_result"
    }
   ],
   "source": [
    "b is a"
   ]
  },
  {
   "cell_type": "code",
   "execution_count": 17,
   "id": "e9cde1d1",
   "metadata": {},
   "outputs": [
    {
     "data": {
      "text/plain": [
       "True"
      ]
     },
     "execution_count": 17,
     "metadata": {},
     "output_type": "execute_result"
    }
   ],
   "source": [
    "b == a"
   ]
  },
  {
   "cell_type": "markdown",
   "id": "c5692775",
   "metadata": {},
   "source": [
    "We can convert sequence and iterators to tuples"
   ]
  },
  {
   "cell_type": "code",
   "execution_count": 6,
   "id": "290c70c4",
   "metadata": {},
   "outputs": [
    {
     "data": {
      "text/plain": [
       "(1, 2, 3)"
      ]
     },
     "execution_count": 6,
     "metadata": {},
     "output_type": "execute_result"
    }
   ],
   "source": [
    "tuple([1,2,3])"
   ]
  },
  {
   "cell_type": "code",
   "execution_count": 7,
   "id": "a0a13e33",
   "metadata": {},
   "outputs": [
    {
     "data": {
      "text/plain": [
       "('F', 'G', 'H', 'K', 'J', 'L')"
      ]
     },
     "execution_count": 7,
     "metadata": {},
     "output_type": "execute_result"
    }
   ],
   "source": [
    "tuple(\"FGHKJL\")"
   ]
  },
  {
   "cell_type": "markdown",
   "id": "d54efbde",
   "metadata": {},
   "source": [
    "We can acces values of tuples using square brackets "
   ]
  },
  {
   "cell_type": "code",
   "execution_count": 6,
   "id": "05a792a5",
   "metadata": {},
   "outputs": [
    {
     "data": {
      "text/plain": [
       "(3, 4, 5)"
      ]
     },
     "execution_count": 6,
     "metadata": {},
     "output_type": "execute_result"
    }
   ],
   "source": [
    "a = (1,2,(3,4,5))\n",
    "a[2]"
   ]
  },
  {
   "cell_type": "code",
   "execution_count": 7,
   "id": "982d8f16",
   "metadata": {},
   "outputs": [
    {
     "data": {
      "text/plain": [
       "3"
      ]
     },
     "execution_count": 7,
     "metadata": {},
     "output_type": "execute_result"
    }
   ],
   "source": [
    "a[2][0]"
   ]
  },
  {
   "cell_type": "markdown",
   "id": "24fe5428",
   "metadata": {},
   "source": [
    "We can sum tuples "
   ]
  },
  {
   "cell_type": "code",
   "execution_count": 14,
   "id": "c4d006f0",
   "metadata": {},
   "outputs": [],
   "source": [
    "a = (1, 2, (3,4,5), \"A\", True)\n",
    "b = (6, 7, (8,9,10), \"B\", False)"
   ]
  },
  {
   "cell_type": "code",
   "execution_count": 15,
   "id": "24a52c1c",
   "metadata": {},
   "outputs": [
    {
     "data": {
      "text/plain": [
       "(1, 2, (3, 4, 5), 'A', True, 6, 7, (8, 9, 10), 'B', False)"
      ]
     },
     "execution_count": 15,
     "metadata": {},
     "output_type": "execute_result"
    }
   ],
   "source": [
    "a + b"
   ]
  },
  {
   "cell_type": "markdown",
   "id": "d77733f8",
   "metadata": {},
   "source": [
    "We can repeat the values of the tuple and get a larger tuple "
   ]
  },
  {
   "cell_type": "code",
   "execution_count": 16,
   "id": "fe587f9c",
   "metadata": {},
   "outputs": [],
   "source": [
    "a = (1, 2, (3, 4, 5))"
   ]
  },
  {
   "cell_type": "code",
   "execution_count": 17,
   "id": "e723dd6b",
   "metadata": {},
   "outputs": [
    {
     "data": {
      "text/plain": [
       "(1, 2, (3, 4, 5), 1, 2, (3, 4, 5), 1, 2, (3, 4, 5))"
      ]
     },
     "execution_count": 17,
     "metadata": {},
     "output_type": "execute_result"
    }
   ],
   "source": [
    "a*3"
   ]
  },
  {
   "cell_type": "markdown",
   "id": "e09bc609",
   "metadata": {},
   "source": [
    "We can unpack the values of the tuples "
   ]
  },
  {
   "cell_type": "code",
   "execution_count": 27,
   "id": "99438dfe",
   "metadata": {},
   "outputs": [
    {
     "data": {
      "text/plain": [
       "(1, 2, (3, 4, 5))"
      ]
     },
     "execution_count": 27,
     "metadata": {},
     "output_type": "execute_result"
    }
   ],
   "source": [
    "tup = (1, 2, (3, 4, 5))\n",
    "a, b, (c, d, f) = tup\n",
    "tup"
   ]
  },
  {
   "cell_type": "code",
   "execution_count": 28,
   "id": "6f274393",
   "metadata": {},
   "outputs": [
    {
     "data": {
      "text/plain": [
       "5"
      ]
     },
     "execution_count": 28,
     "metadata": {},
     "output_type": "execute_result"
    }
   ],
   "source": [
    "f"
   ]
  },
  {
   "cell_type": "markdown",
   "id": "1bba84e4",
   "metadata": {},
   "source": [
    "We can swap variables"
   ]
  },
  {
   "cell_type": "code",
   "execution_count": 32,
   "id": "fd400c59",
   "metadata": {},
   "outputs": [],
   "source": [
    "a, b = 1, 2"
   ]
  },
  {
   "cell_type": "code",
   "execution_count": 33,
   "id": "959c47be",
   "metadata": {},
   "outputs": [
    {
     "data": {
      "text/plain": [
       "1"
      ]
     },
     "execution_count": 33,
     "metadata": {},
     "output_type": "execute_result"
    }
   ],
   "source": [
    "a"
   ]
  },
  {
   "cell_type": "code",
   "execution_count": 34,
   "id": "6cf5ba94",
   "metadata": {},
   "outputs": [
    {
     "data": {
      "text/plain": [
       "2"
      ]
     },
     "execution_count": 34,
     "metadata": {},
     "output_type": "execute_result"
    }
   ],
   "source": [
    "b"
   ]
  },
  {
   "cell_type": "code",
   "execution_count": 35,
   "id": "ea8a09ea",
   "metadata": {},
   "outputs": [],
   "source": [
    "a, b = b, a"
   ]
  },
  {
   "cell_type": "code",
   "execution_count": 36,
   "id": "aa2634a2",
   "metadata": {},
   "outputs": [
    {
     "data": {
      "text/plain": [
       "2"
      ]
     },
     "execution_count": 36,
     "metadata": {},
     "output_type": "execute_result"
    }
   ],
   "source": [
    "a"
   ]
  },
  {
   "cell_type": "code",
   "execution_count": 37,
   "id": "286ff09b",
   "metadata": {},
   "outputs": [
    {
     "data": {
      "text/plain": [
       "1"
      ]
     },
     "execution_count": 37,
     "metadata": {},
     "output_type": "execute_result"
    }
   ],
   "source": [
    "b"
   ]
  },
  {
   "cell_type": "markdown",
   "id": "262f6ff2",
   "metadata": {},
   "source": [
    "We can save the n next values of a tuple inside a single variable"
   ]
  },
  {
   "cell_type": "code",
   "execution_count": 38,
   "id": "caed3cce",
   "metadata": {},
   "outputs": [],
   "source": [
    "values = 1, 2, 3, 4, 5\n",
    "a, b, *rest = values "
   ]
  },
  {
   "cell_type": "code",
   "execution_count": 39,
   "id": "62a71365",
   "metadata": {},
   "outputs": [
    {
     "data": {
      "text/plain": [
       "[3, 4, 5]"
      ]
     },
     "execution_count": 39,
     "metadata": {},
     "output_type": "execute_result"
    }
   ],
   "source": [
    "rest"
   ]
  },
  {
   "cell_type": "markdown",
   "id": "e57cfc6d",
   "metadata": {},
   "source": [
    "We can also discard the next n values of a tuple "
   ]
  },
  {
   "cell_type": "code",
   "execution_count": 40,
   "id": "53ff9a42",
   "metadata": {},
   "outputs": [],
   "source": [
    "values = 1, 2, 3, 4, 5\n",
    "a, b, *_ = values "
   ]
  },
  {
   "cell_type": "markdown",
   "id": "b925654e",
   "metadata": {},
   "source": [
    "We can count the number of repeated values "
   ]
  },
  {
   "cell_type": "code",
   "execution_count": 41,
   "id": "b3615a17",
   "metadata": {},
   "outputs": [],
   "source": [
    "a = (1, 2, 2, 3, 3, 3)"
   ]
  },
  {
   "cell_type": "code",
   "execution_count": 42,
   "id": "85e334a6",
   "metadata": {},
   "outputs": [
    {
     "data": {
      "text/plain": [
       "3"
      ]
     },
     "execution_count": 42,
     "metadata": {},
     "output_type": "execute_result"
    }
   ],
   "source": [
    "a.count(3)"
   ]
  },
  {
   "cell_type": "markdown",
   "id": "cd5ca985",
   "metadata": {},
   "source": [
    "## List"
   ]
  },
  {
   "cell_type": "markdown",
   "id": "bf32e610",
   "metadata": {},
   "source": [
    "List are mutable, we can modify them. Tuples can't be modified "
   ]
  },
  {
   "cell_type": "code",
   "execution_count": 1,
   "id": "447e5a77",
   "metadata": {},
   "outputs": [
    {
     "data": {
      "text/plain": [
       "[1, (2, 3), None, True]"
      ]
     },
     "execution_count": 1,
     "metadata": {},
     "output_type": "execute_result"
    }
   ],
   "source": [
    "a_list = [1, (2,3), None, True]\n",
    "a_list"
   ]
  },
  {
   "cell_type": "code",
   "execution_count": 2,
   "id": "6f746c75",
   "metadata": {},
   "outputs": [
    {
     "data": {
      "text/plain": [
       "[1, 'A', None, True]"
      ]
     },
     "execution_count": 2,
     "metadata": {},
     "output_type": "execute_result"
    }
   ],
   "source": [
    "a_list[1] = \"A\"\n",
    "a_list"
   ]
  },
  {
   "cell_type": "markdown",
   "id": "97bfc609",
   "metadata": {},
   "source": [
    "We can convert sequence and iterators to lists"
   ]
  },
  {
   "cell_type": "code",
   "execution_count": 3,
   "id": "2c9898ff",
   "metadata": {},
   "outputs": [
    {
     "data": {
      "text/plain": [
       "['A', ',', 'B', ',', 'C']"
      ]
     },
     "execution_count": 3,
     "metadata": {},
     "output_type": "execute_result"
    }
   ],
   "source": [
    "a = \"A,B,C\"\n",
    "list(a)"
   ]
  },
  {
   "cell_type": "code",
   "execution_count": 5,
   "id": "bdba0efd",
   "metadata": {},
   "outputs": [
    {
     "data": {
      "text/plain": [
       "['foo', 'bar', 'baz']"
      ]
     },
     "execution_count": 5,
     "metadata": {},
     "output_type": "execute_result"
    }
   ],
   "source": [
    "tup = (\"foo\", \"bar\", \"baz\")\n",
    "list(tup)"
   ]
  },
  {
   "cell_type": "markdown",
   "id": "da8d6031",
   "metadata": {},
   "source": [
    "### Adding and removing elements"
   ]
  },
  {
   "cell_type": "markdown",
   "id": "3e1c0c9f",
   "metadata": {},
   "source": [
    "We can append elemts to the end of a list "
   ]
  },
  {
   "cell_type": "code",
   "execution_count": 6,
   "id": "abeee697",
   "metadata": {},
   "outputs": [],
   "source": [
    "b_list = [\"A\", \"B\", \"C\"]"
   ]
  },
  {
   "cell_type": "code",
   "execution_count": 7,
   "id": "49328a99",
   "metadata": {},
   "outputs": [
    {
     "data": {
      "text/plain": [
       "['A', 'B', 'C', 'D']"
      ]
     },
     "execution_count": 7,
     "metadata": {},
     "output_type": "execute_result"
    }
   ],
   "source": [
    "b_list.append(\"D\")\n",
    "b_list"
   ]
  },
  {
   "cell_type": "markdown",
   "id": "8bcbe67d",
   "metadata": {},
   "source": [
    "We can insert elements in a specific part of a list "
   ]
  },
  {
   "cell_type": "code",
   "execution_count": 9,
   "id": "8e7702fe",
   "metadata": {},
   "outputs": [
    {
     "data": {
      "text/plain": [
       "['A', 13, 13, 'B', 'C', 'D']"
      ]
     },
     "execution_count": 9,
     "metadata": {},
     "output_type": "execute_result"
    }
   ],
   "source": [
    "b_list.insert(1, 13)\n",
    "b_list"
   ]
  },
  {
   "cell_type": "markdown",
   "id": "1d372198",
   "metadata": {},
   "source": [
    "We can remove any element of a list given their index "
   ]
  },
  {
   "cell_type": "code",
   "execution_count": 10,
   "id": "01d0dd8b",
   "metadata": {},
   "outputs": [
    {
     "data": {
      "text/plain": [
       "'D'"
      ]
     },
     "execution_count": 10,
     "metadata": {},
     "output_type": "execute_result"
    }
   ],
   "source": [
    "b_list.pop()"
   ]
  },
  {
   "cell_type": "code",
   "execution_count": 11,
   "id": "140a3d08",
   "metadata": {},
   "outputs": [
    {
     "data": {
      "text/plain": [
       "13"
      ]
     },
     "execution_count": 11,
     "metadata": {},
     "output_type": "execute_result"
    }
   ],
   "source": [
    "b_list.pop(1)"
   ]
  },
  {
   "cell_type": "code",
   "execution_count": 12,
   "id": "d877a345",
   "metadata": {},
   "outputs": [
    {
     "data": {
      "text/plain": [
       "['A', 13, 'B', 'C']"
      ]
     },
     "execution_count": 12,
     "metadata": {},
     "output_type": "execute_result"
    }
   ],
   "source": [
    "b_list"
   ]
  },
  {
   "cell_type": "markdown",
   "id": "9a08c6b7",
   "metadata": {},
   "source": [
    "We can also remove elemts from a list using their value "
   ]
  },
  {
   "cell_type": "code",
   "execution_count": 13,
   "id": "717ea8cd",
   "metadata": {},
   "outputs": [],
   "source": [
    "b_list.remove(\"A\")"
   ]
  },
  {
   "cell_type": "code",
   "execution_count": 14,
   "id": "fc8b44df",
   "metadata": {},
   "outputs": [
    {
     "data": {
      "text/plain": [
       "[13, 'B', 'C']"
      ]
     },
     "execution_count": 14,
     "metadata": {},
     "output_type": "execute_result"
    }
   ],
   "source": [
    "b_list"
   ]
  },
  {
   "cell_type": "markdown",
   "id": "f7a6c343",
   "metadata": {},
   "source": [
    "We can ask if an element is in the list"
   ]
  },
  {
   "cell_type": "code",
   "execution_count": 15,
   "id": "98fc784c",
   "metadata": {},
   "outputs": [
    {
     "data": {
      "text/plain": [
       "True"
      ]
     },
     "execution_count": 15,
     "metadata": {},
     "output_type": "execute_result"
    }
   ],
   "source": [
    "13 in b_list"
   ]
  },
  {
   "cell_type": "markdown",
   "id": "e85a7210",
   "metadata": {},
   "source": [
    "### Concatenating and removing "
   ]
  },
  {
   "cell_type": "markdown",
   "id": "d1350f4e",
   "metadata": {},
   "source": [
    "We can concatenate lists "
   ]
  },
  {
   "cell_type": "code",
   "execution_count": 16,
   "id": "9f7baee6",
   "metadata": {},
   "outputs": [
    {
     "data": {
      "text/plain": [
       "['A', 1, 'B', 2]"
      ]
     },
     "execution_count": 16,
     "metadata": {},
     "output_type": "execute_result"
    }
   ],
   "source": [
    "a_list = [\"A\", 1]\n",
    "b_list = [\"B\", 2]\n",
    "\n",
    "a_list + b_list "
   ]
  },
  {
   "cell_type": "markdown",
   "id": "9f8a0f25",
   "metadata": {},
   "source": [
    "We can also extend an existing list, its like appending multiple elements "
   ]
  },
  {
   "cell_type": "code",
   "execution_count": 17,
   "id": "543c5a91",
   "metadata": {},
   "outputs": [
    {
     "data": {
      "text/plain": [
       "['A', 1, 'B', 2]"
      ]
     },
     "execution_count": 17,
     "metadata": {},
     "output_type": "execute_result"
    }
   ],
   "source": [
    "a_list.extend([\"B\", 2])\n",
    "a_list"
   ]
  },
  {
   "cell_type": "markdown",
   "id": "55d6cdad",
   "metadata": {},
   "source": [
    "### Sorting"
   ]
  },
  {
   "cell_type": "markdown",
   "id": "98c13f7e",
   "metadata": {},
   "source": [
    "We can sort elements of a list "
   ]
  },
  {
   "cell_type": "code",
   "execution_count": 18,
   "id": "4263a272",
   "metadata": {},
   "outputs": [],
   "source": [
    "a_list = [5,3,7,9,4,1]"
   ]
  },
  {
   "cell_type": "code",
   "execution_count": 20,
   "id": "95a518f2",
   "metadata": {},
   "outputs": [
    {
     "data": {
      "text/plain": [
       "[1, 3, 4, 5, 7, 9]"
      ]
     },
     "execution_count": 20,
     "metadata": {},
     "output_type": "execute_result"
    }
   ],
   "source": [
    "a_list.sort()\n",
    "a_list"
   ]
  },
  {
   "cell_type": "markdown",
   "id": "b34f109a",
   "metadata": {},
   "source": [
    "We can also sort strings by length "
   ]
  },
  {
   "cell_type": "code",
   "execution_count": 21,
   "id": "0c136191",
   "metadata": {},
   "outputs": [],
   "source": [
    "a_list = [\"BCD\", \"BCDEF\", \"A\", \"AB\"]\n",
    "a_list.sort(key=len)"
   ]
  },
  {
   "cell_type": "code",
   "execution_count": 22,
   "id": "06fe4dcd",
   "metadata": {},
   "outputs": [
    {
     "data": {
      "text/plain": [
       "['A', 'AB', 'BCD', 'BCDEF']"
      ]
     },
     "execution_count": 22,
     "metadata": {},
     "output_type": "execute_result"
    }
   ],
   "source": [
    "a_list"
   ]
  },
  {
   "cell_type": "markdown",
   "id": "245d6196",
   "metadata": {},
   "source": [
    "### Slicing"
   ]
  },
  {
   "cell_type": "markdown",
   "id": "9095f9b9",
   "metadata": {},
   "source": [
    "We can select sections of lists "
   ]
  },
  {
   "cell_type": "code",
   "execution_count": 57,
   "id": "7325d22d",
   "metadata": {},
   "outputs": [
    {
     "data": {
      "text/plain": [
       "['H', 'E', 'L', 'L', 'O']"
      ]
     },
     "execution_count": 57,
     "metadata": {},
     "output_type": "execute_result"
    }
   ],
   "source": [
    "seq = list(\"HELLO:)\")\n",
    "seq[0:5]"
   ]
  },
  {
   "cell_type": "code",
   "execution_count": 33,
   "id": "6878c522",
   "metadata": {},
   "outputs": [
    {
     "data": {
      "text/plain": [
       "['H', 'E', 'L', 'L', 'O']"
      ]
     },
     "execution_count": 33,
     "metadata": {},
     "output_type": "execute_result"
    }
   ],
   "source": [
    "seq[:5]"
   ]
  },
  {
   "cell_type": "code",
   "execution_count": 39,
   "id": "d0023fb4",
   "metadata": {},
   "outputs": [
    {
     "data": {
      "text/plain": [
       "[':', ')']"
      ]
     },
     "execution_count": 39,
     "metadata": {},
     "output_type": "execute_result"
    }
   ],
   "source": [
    "seq[5:]"
   ]
  },
  {
   "cell_type": "code",
   "execution_count": 40,
   "id": "d75df43b",
   "metadata": {},
   "outputs": [
    {
     "data": {
      "text/plain": [
       "[':', ')']"
      ]
     },
     "execution_count": 40,
     "metadata": {},
     "output_type": "execute_result"
    }
   ],
   "source": [
    "seq[-2:]"
   ]
  },
  {
   "cell_type": "code",
   "execution_count": 42,
   "id": "35d026d7",
   "metadata": {
    "scrolled": true
   },
   "outputs": [
    {
     "data": {
      "text/plain": [
       "['H', 'E', 'L', 'L', 'O']"
      ]
     },
     "execution_count": 42,
     "metadata": {},
     "output_type": "execute_result"
    }
   ],
   "source": [
    "seq[-7:-2]"
   ]
  },
  {
   "cell_type": "markdown",
   "id": "fa51c363",
   "metadata": {},
   "source": [
    "We can skip one elements "
   ]
  },
  {
   "cell_type": "code",
   "execution_count": 53,
   "id": "c5d8b108",
   "metadata": {
    "scrolled": true
   },
   "outputs": [
    {
     "data": {
      "text/plain": [
       "['H', 'L', 'O', ')']"
      ]
     },
     "execution_count": 53,
     "metadata": {},
     "output_type": "execute_result"
    }
   ],
   "source": [
    "seq[::2]"
   ]
  },
  {
   "cell_type": "markdown",
   "id": "3130ba25",
   "metadata": {},
   "source": [
    "We can reverse a sequence "
   ]
  },
  {
   "cell_type": "code",
   "execution_count": 55,
   "id": "79db6cd7",
   "metadata": {},
   "outputs": [
    {
     "data": {
      "text/plain": [
       "[')', ':', 'O', 'L', 'L', 'E', 'H']"
      ]
     },
     "execution_count": 55,
     "metadata": {},
     "output_type": "execute_result"
    }
   ],
   "source": [
    "seq[::-1]"
   ]
  },
  {
   "cell_type": "markdown",
   "id": "4cb5f810",
   "metadata": {},
   "source": [
    "We can modify sections of lists "
   ]
  },
  {
   "cell_type": "code",
   "execution_count": 58,
   "id": "62c117c3",
   "metadata": {},
   "outputs": [
    {
     "data": {
      "text/plain": [
       "['H', 'E', 'A', 'B', 'C', ':', ')']"
      ]
     },
     "execution_count": 58,
     "metadata": {},
     "output_type": "execute_result"
    }
   ],
   "source": [
    "seq[2:5] = list(\"ABC\")\n",
    "seq"
   ]
  },
  {
   "cell_type": "markdown",
   "id": "c9a76dcd",
   "metadata": {},
   "source": [
    "## Dictionary"
   ]
  },
  {
   "cell_type": "code",
   "execution_count": 112,
   "id": "112a9317",
   "metadata": {},
   "outputs": [
    {
     "data": {
      "text/plain": [
       "{'a': 'ABC', 'b': (1, 2, 3)}"
      ]
     },
     "execution_count": 112,
     "metadata": {},
     "output_type": "execute_result"
    }
   ],
   "source": [
    "d1 = {\"a\":\"ABC\", \"b\":(1,2,3)}\n",
    "d1"
   ]
  },
  {
   "cell_type": "code",
   "execution_count": 113,
   "id": "50d30773",
   "metadata": {},
   "outputs": [
    {
     "data": {
      "text/plain": [
       "'ABC'"
      ]
     },
     "execution_count": 113,
     "metadata": {},
     "output_type": "execute_result"
    }
   ],
   "source": [
    "d1[\"a\"]"
   ]
  },
  {
   "cell_type": "code",
   "execution_count": 114,
   "id": "2bab44bf",
   "metadata": {},
   "outputs": [
    {
     "data": {
      "text/plain": [
       "True"
      ]
     },
     "execution_count": 114,
     "metadata": {},
     "output_type": "execute_result"
    }
   ],
   "source": [
    "\"b\" in d1"
   ]
  },
  {
   "cell_type": "markdown",
   "id": "9ea8cfe8",
   "metadata": {},
   "source": [
    "We can modify dictionaries "
   ]
  },
  {
   "cell_type": "code",
   "execution_count": 115,
   "id": "f3a320fb",
   "metadata": {},
   "outputs": [
    {
     "data": {
      "text/plain": [
       "{'a': 'ABC', 'b': (1, 2, 3), 1: ['A', 'B', 'C']}"
      ]
     },
     "execution_count": 115,
     "metadata": {},
     "output_type": "execute_result"
    }
   ],
   "source": [
    "d1[1] = list(\"ABC\")\n",
    "d1"
   ]
  },
  {
   "cell_type": "markdown",
   "id": "53fa5321",
   "metadata": {},
   "source": [
    "We can delete elements of dictionaries "
   ]
  },
  {
   "cell_type": "code",
   "execution_count": 116,
   "id": "cfc5a17d",
   "metadata": {},
   "outputs": [
    {
     "data": {
      "text/plain": [
       "{'a': 'ABC', 'b': (1, 2, 3), 1: ['A', 'B', 'C'], 2: 3742, 'c': 42.42}"
      ]
     },
     "execution_count": 116,
     "metadata": {},
     "output_type": "execute_result"
    }
   ],
   "source": [
    "d1[2] = 3742\n",
    "d1[\"c\"] = 42.42\n",
    "d1"
   ]
  },
  {
   "cell_type": "code",
   "execution_count": 117,
   "id": "ff2c0c94",
   "metadata": {},
   "outputs": [],
   "source": [
    "del d1[\"c\"]"
   ]
  },
  {
   "cell_type": "code",
   "execution_count": 118,
   "id": "ab399ae5",
   "metadata": {},
   "outputs": [
    {
     "data": {
      "text/plain": [
       "{'a': 'ABC', 'b': (1, 2, 3), 1: ['A', 'B', 'C'], 2: 3742}"
      ]
     },
     "execution_count": 118,
     "metadata": {},
     "output_type": "execute_result"
    }
   ],
   "source": [
    "d1"
   ]
  },
  {
   "cell_type": "code",
   "execution_count": 119,
   "id": "b6b68d05",
   "metadata": {},
   "outputs": [
    {
     "data": {
      "text/plain": [
       "3742"
      ]
     },
     "execution_count": 119,
     "metadata": {},
     "output_type": "execute_result"
    }
   ],
   "source": [
    "d1.pop(2)"
   ]
  },
  {
   "cell_type": "code",
   "execution_count": 120,
   "id": "28d8a170",
   "metadata": {},
   "outputs": [
    {
     "data": {
      "text/plain": [
       "{'a': 'ABC', 'b': (1, 2, 3), 1: ['A', 'B', 'C']}"
      ]
     },
     "execution_count": 120,
     "metadata": {},
     "output_type": "execute_result"
    }
   ],
   "source": [
    "d1"
   ]
  },
  {
   "cell_type": "markdown",
   "id": "b3002eba",
   "metadata": {},
   "source": [
    "We can get the keys "
   ]
  },
  {
   "cell_type": "code",
   "execution_count": 121,
   "id": "c313df0f",
   "metadata": {},
   "outputs": [
    {
     "data": {
      "text/plain": [
       "['a', 'b', 1]"
      ]
     },
     "execution_count": 121,
     "metadata": {},
     "output_type": "execute_result"
    }
   ],
   "source": [
    "list(d1.keys())"
   ]
  },
  {
   "cell_type": "markdown",
   "id": "b4dc6147",
   "metadata": {},
   "source": [
    "We can get the values"
   ]
  },
  {
   "cell_type": "code",
   "execution_count": 122,
   "id": "f65523f5",
   "metadata": {},
   "outputs": [
    {
     "data": {
      "text/plain": [
       "['ABC', (1, 2, 3), ['A', 'B', 'C']]"
      ]
     },
     "execution_count": 122,
     "metadata": {},
     "output_type": "execute_result"
    }
   ],
   "source": [
    "list(d1.values())"
   ]
  },
  {
   "cell_type": "markdown",
   "id": "35e70bac",
   "metadata": {},
   "source": [
    "We can geet both the keys and values"
   ]
  },
  {
   "cell_type": "code",
   "execution_count": 123,
   "id": "ac0803e2",
   "metadata": {},
   "outputs": [
    {
     "data": {
      "text/plain": [
       "[('a', 'ABC'), ('b', (1, 2, 3)), (1, ['A', 'B', 'C'])]"
      ]
     },
     "execution_count": 123,
     "metadata": {},
     "output_type": "execute_result"
    }
   ],
   "source": [
    "list(d1.items())"
   ]
  },
  {
   "cell_type": "markdown",
   "id": "2fcb9c45",
   "metadata": {},
   "source": [
    "We can merge (update) dictionares"
   ]
  },
  {
   "cell_type": "code",
   "execution_count": 124,
   "id": "53c72dfe",
   "metadata": {},
   "outputs": [],
   "source": [
    "d1.update({\"a\":\"XYZ\", 2:list(\"XYZ\")})"
   ]
  },
  {
   "cell_type": "code",
   "execution_count": 125,
   "id": "025b8410",
   "metadata": {},
   "outputs": [
    {
     "data": {
      "text/plain": [
       "{'a': 'XYZ', 'b': (1, 2, 3), 1: ['A', 'B', 'C'], 2: ['X', 'Y', 'Z']}"
      ]
     },
     "execution_count": 125,
     "metadata": {},
     "output_type": "execute_result"
    }
   ],
   "source": [
    "d1"
   ]
  },
  {
   "cell_type": "markdown",
   "id": "509ec625",
   "metadata": {},
   "source": [
    "### Creating dictionaries from sequences"
   ]
  },
  {
   "cell_type": "code",
   "execution_count": 126,
   "id": "8492fead",
   "metadata": {},
   "outputs": [],
   "source": [
    "tups = zip((\"A\",\"B\",\"C\"),(1,2,3))"
   ]
  },
  {
   "cell_type": "code",
   "execution_count": 127,
   "id": "3ad6bbbb",
   "metadata": {},
   "outputs": [
    {
     "data": {
      "text/plain": [
       "{'A': 1, 'B': 2, 'C': 3}"
      ]
     },
     "execution_count": 127,
     "metadata": {},
     "output_type": "execute_result"
    }
   ],
   "source": [
    "dict(tups)"
   ]
  },
  {
   "cell_type": "markdown",
   "id": "741a147b",
   "metadata": {},
   "source": [
    "### Default values"
   ]
  },
  {
   "cell_type": "markdown",
   "id": "07df0840",
   "metadata": {},
   "source": [
    "We can get the values given a key. We can also specify a default value if the element is not present "
   ]
  },
  {
   "cell_type": "code",
   "execution_count": 128,
   "id": "07350f6c",
   "metadata": {},
   "outputs": [
    {
     "data": {
      "text/plain": [
       "'?'"
      ]
     },
     "execution_count": 128,
     "metadata": {},
     "output_type": "execute_result"
    }
   ],
   "source": [
    "d1.get(\"c\", \"?\")"
   ]
  },
  {
   "cell_type": "code",
   "execution_count": 129,
   "id": "a361921c",
   "metadata": {},
   "outputs": [
    {
     "data": {
      "text/plain": [
       "'XYZ'"
      ]
     },
     "execution_count": 129,
     "metadata": {},
     "output_type": "execute_result"
    }
   ],
   "source": [
    "d1.get(\"a\", \"?\")"
   ]
  },
  {
   "cell_type": "markdown",
   "id": "92f0122d",
   "metadata": {},
   "source": [
    "We can set elemets of a dictionary given a key and also specify a default value to set if the key isn't there"
   ]
  },
  {
   "cell_type": "code",
   "execution_count": 148,
   "id": "83f81485",
   "metadata": {},
   "outputs": [
    {
     "data": {
      "text/plain": [
       "{'a': ['apple'], 'b': ['bee']}"
      ]
     },
     "execution_count": 148,
     "metadata": {},
     "output_type": "execute_result"
    }
   ],
   "source": [
    "d1 = {\"a\":[\"apple\"], \"b\":[\"bee\"]}\n",
    "d1"
   ]
  },
  {
   "cell_type": "code",
   "execution_count": 149,
   "id": "479eaaff",
   "metadata": {},
   "outputs": [
    {
     "data": {
      "text/plain": [
       "{'a': ['apple', 'art'], 'b': ['bee']}"
      ]
     },
     "execution_count": 149,
     "metadata": {},
     "output_type": "execute_result"
    }
   ],
   "source": [
    "d1[\"a\"].append(\"art\")\n",
    "d1"
   ]
  },
  {
   "cell_type": "code",
   "execution_count": 150,
   "id": "4732176d",
   "metadata": {},
   "outputs": [
    {
     "ename": "KeyError",
     "evalue": "'c'",
     "output_type": "error",
     "traceback": [
      "\u001b[0;31m---------------------------------------------------------------------------\u001b[0m",
      "\u001b[0;31mKeyError\u001b[0m                                  Traceback (most recent call last)",
      "Cell \u001b[0;32mIn[150], line 1\u001b[0m\n\u001b[0;32m----> 1\u001b[0m d1[\u001b[38;5;124m\"\u001b[39m\u001b[38;5;124mc\u001b[39m\u001b[38;5;124m\"\u001b[39m]\u001b[38;5;241m.\u001b[39mappend(\u001b[38;5;124m\"\u001b[39m\u001b[38;5;124mcar\u001b[39m\u001b[38;5;124m\"\u001b[39m)\n\u001b[1;32m      2\u001b[0m d1\n",
      "\u001b[0;31mKeyError\u001b[0m: 'c'"
     ]
    }
   ],
   "source": [
    "d1[\"c\"].append(\"car\") #c is not a key for any element so youll get a mistake, thats why you need the default value\n",
    "d1"
   ]
  },
  {
   "cell_type": "code",
   "execution_count": 134,
   "id": "3a697ae0",
   "metadata": {},
   "outputs": [],
   "source": [
    "d1.setdefault(\"a\", []).append(\"atom\") #a is in the dictionary, so it will append the word to the existing list in the dicitonary"
   ]
  },
  {
   "cell_type": "code",
   "execution_count": 135,
   "id": "2e1eddb0",
   "metadata": {},
   "outputs": [
    {
     "data": {
      "text/plain": [
       "{'a': ['apple', 'atom'], 'b': ['bee']}"
      ]
     },
     "execution_count": 135,
     "metadata": {},
     "output_type": "execute_result"
    }
   ],
   "source": [
    "d1"
   ]
  },
  {
   "cell_type": "code",
   "execution_count": 136,
   "id": "8bccdb58",
   "metadata": {},
   "outputs": [],
   "source": [
    "d1.setdefault(\"c\", []).append(\"car\") #c is not in the dictionary so it will create a new empty list [] and append the word to this new dictionary"
   ]
  },
  {
   "cell_type": "code",
   "execution_count": 137,
   "id": "0253a5c7",
   "metadata": {},
   "outputs": [
    {
     "data": {
      "text/plain": [
       "{'a': ['apple', 'atom'], 'b': ['bee'], 'c': ['car']}"
      ]
     },
     "execution_count": 137,
     "metadata": {},
     "output_type": "execute_result"
    }
   ],
   "source": [
    "d1"
   ]
  },
  {
   "cell_type": "markdown",
   "id": "eb023ccd",
   "metadata": {},
   "source": [
    "We can also set elements using the class defauldict"
   ]
  },
  {
   "cell_type": "code",
   "execution_count": 138,
   "id": "018010ce",
   "metadata": {},
   "outputs": [],
   "source": [
    "from collections import defaultdict\n",
    "d1 = defaultdict(list)"
   ]
  },
  {
   "cell_type": "code",
   "execution_count": 139,
   "id": "e180e1ee",
   "metadata": {},
   "outputs": [],
   "source": [
    "d1[\"a\"].append(\"apple\") #even if \"a\" is not in the dictionary, it wil create the new list"
   ]
  },
  {
   "cell_type": "code",
   "execution_count": 140,
   "id": "48a8fbcc",
   "metadata": {},
   "outputs": [
    {
     "data": {
      "text/plain": [
       "defaultdict(list, {'a': ['apple']})"
      ]
     },
     "execution_count": 140,
     "metadata": {},
     "output_type": "execute_result"
    }
   ],
   "source": [
    "d1"
   ]
  },
  {
   "cell_type": "code",
   "execution_count": 141,
   "id": "cb38fc29",
   "metadata": {},
   "outputs": [],
   "source": [
    "d1[\"a\"].append(\"atom\")"
   ]
  },
  {
   "cell_type": "code",
   "execution_count": 142,
   "id": "8828410a",
   "metadata": {},
   "outputs": [
    {
     "data": {
      "text/plain": [
       "defaultdict(list, {'a': ['apple', 'atom']})"
      ]
     },
     "execution_count": 142,
     "metadata": {},
     "output_type": "execute_result"
    }
   ],
   "source": [
    "d1"
   ]
  },
  {
   "cell_type": "markdown",
   "id": "9f7c8602",
   "metadata": {},
   "source": [
    "## Set"
   ]
  },
  {
   "cell_type": "markdown",
   "id": "01eebce3",
   "metadata": {},
   "source": [
    "Ordered collection of unique elements "
   ]
  },
  {
   "cell_type": "code",
   "execution_count": 153,
   "id": "69090da8",
   "metadata": {},
   "outputs": [
    {
     "data": {
      "text/plain": [
       "{'A', 'C', 'E', 'I', 'M', 'N', 'O', 'S', 'T'}"
      ]
     },
     "execution_count": 153,
     "metadata": {},
     "output_type": "execute_result"
    }
   ],
   "source": [
    "set(list(\"ESTACIONAMIENTO\"))"
   ]
  },
  {
   "cell_type": "code",
   "execution_count": 154,
   "id": "e05b2f86",
   "metadata": {},
   "outputs": [
    {
     "data": {
      "text/plain": [
       "{1, 2, 3, 4, 5, 6, 7, 8, 9}"
      ]
     },
     "execution_count": 154,
     "metadata": {},
     "output_type": "execute_result"
    }
   ],
   "source": [
    "set([6,6,5,4,3,1,2,3,2,7,9,8])"
   ]
  },
  {
   "cell_type": "markdown",
   "id": "e6629aa4",
   "metadata": {},
   "source": [
    "we can do the union of two sets "
   ]
  },
  {
   "cell_type": "code",
   "execution_count": 155,
   "id": "c37b7b36",
   "metadata": {},
   "outputs": [],
   "source": [
    "a = {7,5,3,1}\n",
    "b = {8,7,3,2}"
   ]
  },
  {
   "cell_type": "code",
   "execution_count": 156,
   "id": "6a10c70d",
   "metadata": {},
   "outputs": [
    {
     "data": {
      "text/plain": [
       "{1, 2, 3, 5, 7, 8}"
      ]
     },
     "execution_count": 156,
     "metadata": {},
     "output_type": "execute_result"
    }
   ],
   "source": [
    "a.union(b)"
   ]
  },
  {
   "cell_type": "code",
   "execution_count": 157,
   "id": "2e0e78db",
   "metadata": {},
   "outputs": [
    {
     "data": {
      "text/plain": [
       "{1, 2, 3, 5, 7, 8}"
      ]
     },
     "execution_count": 157,
     "metadata": {},
     "output_type": "execute_result"
    }
   ],
   "source": [
    "a | b"
   ]
  },
  {
   "cell_type": "code",
   "execution_count": 160,
   "id": "f3645505",
   "metadata": {},
   "outputs": [
    {
     "data": {
      "text/plain": [
       "{1, 2, 3, 5, 7, 8}"
      ]
     },
     "execution_count": 160,
     "metadata": {},
     "output_type": "execute_result"
    }
   ],
   "source": [
    "c = a.copy()\n",
    "c |= b\n",
    "c"
   ]
  },
  {
   "cell_type": "markdown",
   "id": "2be4005b",
   "metadata": {},
   "source": [
    "We can also do the intersection"
   ]
  },
  {
   "cell_type": "code",
   "execution_count": 158,
   "id": "692a4102",
   "metadata": {},
   "outputs": [
    {
     "data": {
      "text/plain": [
       "{3, 7}"
      ]
     },
     "execution_count": 158,
     "metadata": {},
     "output_type": "execute_result"
    }
   ],
   "source": [
    "a.intersection(b)"
   ]
  },
  {
   "cell_type": "code",
   "execution_count": 159,
   "id": "03a8e0f4",
   "metadata": {
    "scrolled": true
   },
   "outputs": [
    {
     "data": {
      "text/plain": [
       "{3, 7}"
      ]
     },
     "execution_count": 159,
     "metadata": {},
     "output_type": "execute_result"
    }
   ],
   "source": [
    "a & b"
   ]
  },
  {
   "cell_type": "code",
   "execution_count": 161,
   "id": "44cae8f3",
   "metadata": {},
   "outputs": [
    {
     "data": {
      "text/plain": [
       "{3, 7}"
      ]
     },
     "execution_count": 161,
     "metadata": {},
     "output_type": "execute_result"
    }
   ],
   "source": [
    "c = a.copy()\n",
    "c &= b\n",
    "c"
   ]
  },
  {
   "cell_type": "markdown",
   "id": "54d26e7c",
   "metadata": {},
   "source": [
    "book page 60 has a list of all possible opertaors for sets "
   ]
  },
  {
   "cell_type": "markdown",
   "id": "8b34cec3",
   "metadata": {},
   "source": [
    "Set elements must be inmutable "
   ]
  },
  {
   "cell_type": "code",
   "execution_count": 162,
   "id": "735b64aa",
   "metadata": {},
   "outputs": [
    {
     "data": {
      "text/plain": [
       "{(1, 2, 3, 4)}"
      ]
     },
     "execution_count": 162,
     "metadata": {},
     "output_type": "execute_result"
    }
   ],
   "source": [
    "{tuple([1,2,3,4])}"
   ]
  },
  {
   "cell_type": "markdown",
   "id": "f1239d78",
   "metadata": {},
   "source": [
    "You can check if a set is a subset or a superset "
   ]
  },
  {
   "cell_type": "code",
   "execution_count": 163,
   "id": "f8cec357",
   "metadata": {},
   "outputs": [],
   "source": [
    "a_set = {1,2,3,4,5}"
   ]
  },
  {
   "cell_type": "code",
   "execution_count": 164,
   "id": "8c08291f",
   "metadata": {},
   "outputs": [
    {
     "data": {
      "text/plain": [
       "True"
      ]
     },
     "execution_count": 164,
     "metadata": {},
     "output_type": "execute_result"
    }
   ],
   "source": [
    "{1,2,3}.issubset(a_set)"
   ]
  },
  {
   "cell_type": "code",
   "execution_count": 165,
   "id": "48284548",
   "metadata": {},
   "outputs": [
    {
     "data": {
      "text/plain": [
       "True"
      ]
     },
     "execution_count": 165,
     "metadata": {},
     "output_type": "execute_result"
    }
   ],
   "source": [
    "{1,2,3,4,5,6,7}.issuperset(a_set)"
   ]
  },
  {
   "cell_type": "markdown",
   "id": "09a52102",
   "metadata": {},
   "source": [
    "sets are iqual iff contents are equal "
   ]
  },
  {
   "cell_type": "code",
   "execution_count": 166,
   "id": "55edec0b",
   "metadata": {},
   "outputs": [
    {
     "data": {
      "text/plain": [
       "True"
      ]
     },
     "execution_count": 166,
     "metadata": {},
     "output_type": "execute_result"
    }
   ],
   "source": [
    "a_set = {1,2,3,4,5}\n",
    "b_set = {1,2,3,4,5}\n",
    "a_set == b_set"
   ]
  },
  {
   "cell_type": "markdown",
   "id": "fe86a71a",
   "metadata": {},
   "source": [
    "## Built in sequence functions "
   ]
  },
  {
   "cell_type": "markdown",
   "id": "7e13002b",
   "metadata": {},
   "source": [
    "### enumerate"
   ]
  },
  {
   "cell_type": "markdown",
   "id": "82c5ef7e",
   "metadata": {},
   "source": [
    "We can iterate over a sequence "
   ]
  },
  {
   "cell_type": "code",
   "execution_count": 167,
   "id": "f9cbb5e0",
   "metadata": {},
   "outputs": [
    {
     "name": "stdout",
     "output_type": "stream",
     "text": [
      "0 A\n",
      "1 B\n",
      "2 C\n",
      "3 D\n",
      "4 E\n"
     ]
    }
   ],
   "source": [
    "collection = list(\"ABCDE\")\n",
    "for index, value in enumerate(collection):\n",
    "    print(index, value)"
   ]
  },
  {
   "cell_type": "markdown",
   "id": "fb8f194b",
   "metadata": {},
   "source": [
    "### sorted "
   ]
  },
  {
   "cell_type": "markdown",
   "id": "30787749",
   "metadata": {},
   "source": [
    "We can get a sorted list of element of any sequence "
   ]
  },
  {
   "cell_type": "code",
   "execution_count": 169,
   "id": "54a67090",
   "metadata": {},
   "outputs": [
    {
     "data": {
      "text/plain": [
       "['A', 'C', 'E', 'G', 'I', 'L', 'M', 'O', 'R', 'U']"
      ]
     },
     "execution_count": 169,
     "metadata": {},
     "output_type": "execute_result"
    }
   ],
   "source": [
    "sorted(tuple(\"MURCIELAGO\"))"
   ]
  },
  {
   "cell_type": "code",
   "execution_count": 170,
   "id": "f9fd9c93",
   "metadata": {},
   "outputs": [
    {
     "data": {
      "text/plain": [
       "['2', '3', '4', '5', '7', '8', '9']"
      ]
     },
     "execution_count": 170,
     "metadata": {},
     "output_type": "execute_result"
    }
   ],
   "source": [
    "sorted(set(\"77732894582735\"))"
   ]
  },
  {
   "cell_type": "markdown",
   "id": "2e7c13b9",
   "metadata": {},
   "source": [
    "### zip"
   ]
  },
  {
   "cell_type": "markdown",
   "id": "73cd8d9c",
   "metadata": {},
   "source": [
    "zip pairs elements and returns a list of tuples "
   ]
  },
  {
   "cell_type": "code",
   "execution_count": 173,
   "id": "192dcca3",
   "metadata": {
    "scrolled": true
   },
   "outputs": [
    {
     "data": {
      "text/plain": [
       "[('B', 1), ('D', 2), ('A', 3), ('C', 4)]"
      ]
     },
     "execution_count": 173,
     "metadata": {},
     "output_type": "execute_result"
    }
   ],
   "source": [
    "list(zip(set(\"ABCD\"),[1,2,3,4]))"
   ]
  },
  {
   "cell_type": "code",
   "execution_count": 175,
   "id": "48214568",
   "metadata": {},
   "outputs": [
    {
     "data": {
      "text/plain": [
       "[('B', 1, True), ('D', 2, False)]"
      ]
     },
     "execution_count": 175,
     "metadata": {},
     "output_type": "execute_result"
    }
   ],
   "source": [
    "list(zip(set(\"ABCD\"),[1,2,3,4], (True, False)))"
   ]
  },
  {
   "cell_type": "markdown",
   "id": "c7282479",
   "metadata": {},
   "source": [
    "### reversed"
   ]
  },
  {
   "cell_type": "markdown",
   "id": "3201e12e",
   "metadata": {},
   "source": [
    "iterates over the elements of a sequence in reverse order "
   ]
  },
  {
   "cell_type": "code",
   "execution_count": 178,
   "id": "5547d1b9",
   "metadata": {},
   "outputs": [
    {
     "data": {
      "text/plain": [
       "[0, 1, 2, 3, 4, 5, 6, 7, 8, 9]"
      ]
     },
     "execution_count": 178,
     "metadata": {},
     "output_type": "execute_result"
    }
   ],
   "source": [
    "list(range(10))"
   ]
  },
  {
   "cell_type": "code",
   "execution_count": 179,
   "id": "34a2927d",
   "metadata": {},
   "outputs": [
    {
     "data": {
      "text/plain": [
       "[9, 8, 7, 6, 5, 4, 3, 2, 1, 0]"
      ]
     },
     "execution_count": 179,
     "metadata": {},
     "output_type": "execute_result"
    }
   ],
   "source": [
    "list(reversed(range(10)))"
   ]
  },
  {
   "cell_type": "markdown",
   "id": "5a9581d5",
   "metadata": {},
   "source": [
    "## List, Set and Dictonary Comprehensions "
   ]
  },
  {
   "cell_type": "markdown",
   "id": "f8361e78",
   "metadata": {},
   "source": [
    "We can create a list given a collection, this new list can modify and filter the origianl collection "
   ]
  },
  {
   "cell_type": "code",
   "execution_count": 181,
   "id": "aecb480f",
   "metadata": {},
   "outputs": [
    {
     "data": {
      "text/plain": [
       "['BAT', 'CAR', 'DOVE', 'PYTHON']"
      ]
     },
     "execution_count": 181,
     "metadata": {},
     "output_type": "execute_result"
    }
   ],
   "source": [
    "strings = [\"a\", \"as\", \"bat\", \"car\", \"dove\", \"python\"]\n",
    "[x.upper() for x in strings if len(x)>2]"
   ]
  },
  {
   "cell_type": "markdown",
   "id": "ba1159f4",
   "metadata": {},
   "source": [
    "We can also create a set"
   ]
  },
  {
   "cell_type": "code",
   "execution_count": 184,
   "id": "31f458a1",
   "metadata": {},
   "outputs": [
    {
     "data": {
      "text/plain": [
       "{3, 4, 6}"
      ]
     },
     "execution_count": 184,
     "metadata": {},
     "output_type": "execute_result"
    }
   ],
   "source": [
    "strings = [\"a\", \"as\", \"bat\", \"car\", \"dove\", \"python\"]\n",
    "{len(x) for x in strings if len(x)>2}"
   ]
  },
  {
   "cell_type": "markdown",
   "id": "086c579f",
   "metadata": {},
   "source": [
    "If we dont want to filter we can just use the map function"
   ]
  },
  {
   "cell_type": "code",
   "execution_count": 185,
   "id": "21772311",
   "metadata": {},
   "outputs": [
    {
     "data": {
      "text/plain": [
       "{1, 2, 3, 4, 6}"
      ]
     },
     "execution_count": 185,
     "metadata": {},
     "output_type": "execute_result"
    }
   ],
   "source": [
    "strings = [\"a\", \"as\", \"bat\", \"car\", \"dove\", \"python\"]\n",
    "set(map(len, strings))"
   ]
  },
  {
   "cell_type": "markdown",
   "id": "2b39af55",
   "metadata": {},
   "source": [
    "We can also create dictionaries"
   ]
  },
  {
   "cell_type": "code",
   "execution_count": 188,
   "id": "bc7654df",
   "metadata": {},
   "outputs": [
    {
     "data": {
      "text/plain": [
       "[(0, 'a'), (1, 'as'), (2, 'bat'), (3, 'car'), (4, 'dove'), (5, 'python')]"
      ]
     },
     "execution_count": 188,
     "metadata": {},
     "output_type": "execute_result"
    }
   ],
   "source": [
    "strings = [\"a\", \"as\", \"bat\", \"car\", \"dove\", \"python\"]\n",
    "list(enumerate(strings))"
   ]
  },
  {
   "cell_type": "code",
   "execution_count": 189,
   "id": "c80233da",
   "metadata": {},
   "outputs": [
    {
     "data": {
      "text/plain": [
       "{'a': 0, 'as': 1, 'bat': 2, 'car': 3, 'dove': 4, 'python': 5}"
      ]
     },
     "execution_count": 189,
     "metadata": {},
     "output_type": "execute_result"
    }
   ],
   "source": [
    "{value: index for index, value in enumerate(strings)}"
   ]
  },
  {
   "cell_type": "markdown",
   "id": "fad0cc5a",
   "metadata": {},
   "source": [
    "### Nested list comprehensions "
   ]
  },
  {
   "cell_type": "markdown",
   "id": "7f034fd3",
   "metadata": {},
   "source": [
    "We can iterate over elements of a list and get as an output another filtered list"
   ]
  },
  {
   "cell_type": "code",
   "execution_count": 236,
   "id": "ec564f38",
   "metadata": {},
   "outputs": [],
   "source": [
    "all_data = [[\"John\", \"Emily\", \"Michael\", \"Mary\", \"Steven\", \"Martha\"],\n",
    "            [\"Maria\", \"Juan\", \"Javier\", \"Natalia\", \"Pilar\"]]"
   ]
  },
  {
   "cell_type": "code",
   "execution_count": 237,
   "id": "f6e6102f",
   "metadata": {},
   "outputs": [
    {
     "data": {
      "text/plain": [
       "['MARTHA', 'MARIA', 'NATALIA']"
      ]
     },
     "execution_count": 237,
     "metadata": {},
     "output_type": "execute_result"
    }
   ],
   "source": [
    "[name.upper() for listNames in all_data for name in listNames if name.count(\"a\") >= 2]\n",
    "#[x.something for B in A for x in B if x some condition] \n"
   ]
  },
  {
   "cell_type": "code",
   "execution_count": 198,
   "id": "a0c7b6de",
   "metadata": {},
   "outputs": [
    {
     "data": {
      "text/plain": [
       "[['MARTHA'], ['MARIA', 'NATALIA']]"
      ]
     },
     "execution_count": 198,
     "metadata": {},
     "output_type": "execute_result"
    }
   ],
   "source": [
    "[[name.upper() for name in listNames if name.count(\"a\") >= 2] for listNames in all_data ]\n",
    "#[ [x.something for x in B if x some condition] for B in A] \n"
   ]
  },
  {
   "cell_type": "markdown",
   "id": "262f2993",
   "metadata": {},
   "source": [
    "We can do the same with a list of tuples"
   ]
  },
  {
   "cell_type": "code",
   "execution_count": 199,
   "id": "2c8d71fd",
   "metadata": {},
   "outputs": [],
   "source": [
    "some_tuples = [(1, 2, 3), (4, 5, 6), (7, 8, 9)]"
   ]
  },
  {
   "cell_type": "code",
   "execution_count": 200,
   "id": "e1ecc4e1",
   "metadata": {},
   "outputs": [
    {
     "data": {
      "text/plain": [
       "[1, 2, 3, 4, 5, 6, 7, 8, 9]"
      ]
     },
     "execution_count": 200,
     "metadata": {},
     "output_type": "execute_result"
    }
   ],
   "source": [
    "[x for tup in some_tuples for x in tup]"
   ]
  },
  {
   "cell_type": "code",
   "execution_count": 201,
   "id": "6578f577",
   "metadata": {},
   "outputs": [
    {
     "data": {
      "text/plain": [
       "[[1, 2, 3], [4, 5, 6], [7, 8, 9]]"
      ]
     },
     "execution_count": 201,
     "metadata": {},
     "output_type": "execute_result"
    }
   ],
   "source": [
    "[[x for x in tup] for tup in some_tuples ]"
   ]
  },
  {
   "cell_type": "markdown",
   "id": "648b697d",
   "metadata": {},
   "source": [
    "## 3.2 Functions"
   ]
  },
  {
   "cell_type": "markdown",
   "id": "a0f56efe",
   "metadata": {},
   "source": [
    "### Returning multiple values"
   ]
  },
  {
   "cell_type": "markdown",
   "id": "25e6466c",
   "metadata": {},
   "source": [
    "A function can return multiple values"
   ]
  },
  {
   "cell_type": "code",
   "execution_count": 202,
   "id": "06e60cd1",
   "metadata": {},
   "outputs": [],
   "source": [
    "def f():\n",
    "    a = 5\n",
    "    b = 6\n",
    "    c = 7\n",
    "    return a, b, c"
   ]
  },
  {
   "cell_type": "code",
   "execution_count": 205,
   "id": "dd48d93d",
   "metadata": {},
   "outputs": [
    {
     "data": {
      "text/plain": [
       "5"
      ]
     },
     "execution_count": 205,
     "metadata": {},
     "output_type": "execute_result"
    }
   ],
   "source": [
    "a, b, c = f()\n",
    "a"
   ]
  },
  {
   "cell_type": "code",
   "execution_count": 206,
   "id": "e5549024",
   "metadata": {},
   "outputs": [
    {
     "data": {
      "text/plain": [
       "(5, 6, 7)"
      ]
     },
     "execution_count": 206,
     "metadata": {},
     "output_type": "execute_result"
    }
   ],
   "source": [
    "return_value = f()\n",
    "return_value"
   ]
  },
  {
   "cell_type": "code",
   "execution_count": 207,
   "id": "dfc3bc7f",
   "metadata": {},
   "outputs": [],
   "source": [
    "def f():\n",
    "    a = 5\n",
    "    b = 6\n",
    "    c = 7\n",
    "    return {\"a\" : a, \"b\" : b, \"c\" : c}"
   ]
  },
  {
   "cell_type": "code",
   "execution_count": 208,
   "id": "04e66bf8",
   "metadata": {},
   "outputs": [
    {
     "data": {
      "text/plain": [
       "{'a': 5, 'b': 6, 'c': 7}"
      ]
     },
     "execution_count": 208,
     "metadata": {},
     "output_type": "execute_result"
    }
   ],
   "source": [
    "return_value = f()\n",
    "return_value"
   ]
  },
  {
   "cell_type": "markdown",
   "id": "59246828",
   "metadata": {},
   "source": [
    "### Functions are objects"
   ]
  },
  {
   "cell_type": "code",
   "execution_count": 217,
   "id": "78a89c8a",
   "metadata": {},
   "outputs": [],
   "source": [
    "states = [\" Alabama \", \"Georgia!\", \"Georgia\", \"georgia\", \"FlOrIda\", \"south carolina##\", \"West virginia?\"]"
   ]
  },
  {
   "cell_type": "code",
   "execution_count": 222,
   "id": "9abade6e",
   "metadata": {},
   "outputs": [],
   "source": [
    "import re\n",
    "def remove_punctuation(value):\n",
    "    return re.sub(\"[!#?]\",\"\",value)"
   ]
  },
  {
   "cell_type": "markdown",
   "id": "a2dbb8e6",
   "metadata": {},
   "source": [
    "We can create a list of functions since they are objects "
   ]
  },
  {
   "cell_type": "code",
   "execution_count": 223,
   "id": "2ed168ac",
   "metadata": {},
   "outputs": [],
   "source": [
    "clean_ops = [str.strip, remove_punctuation, str.title]"
   ]
  },
  {
   "cell_type": "code",
   "execution_count": 224,
   "id": "640b40c7",
   "metadata": {},
   "outputs": [],
   "source": [
    "def clean_strings(strings, ops):\n",
    "    result = []\n",
    "    for value in strings:\n",
    "        for func in ops: # iterating over the list of functions \n",
    "            value = func(value)\n",
    "        result.append(value)\n",
    "    return result"
   ]
  },
  {
   "cell_type": "code",
   "execution_count": 225,
   "id": "175c7b25",
   "metadata": {},
   "outputs": [
    {
     "data": {
      "text/plain": [
       "['Alabama',\n",
       " 'Georgia',\n",
       " 'Georgia',\n",
       " 'Georgia',\n",
       " 'Florida',\n",
       " 'South Carolina',\n",
       " 'West Virginia']"
      ]
     },
     "execution_count": 225,
     "metadata": {},
     "output_type": "execute_result"
    }
   ],
   "source": [
    "clean_strings(states, clean_ops)"
   ]
  },
  {
   "cell_type": "markdown",
   "id": "d61dd630",
   "metadata": {},
   "source": [
    "### Anonymous (Lambda functions)"
   ]
  },
  {
   "cell_type": "markdown",
   "id": "41235690",
   "metadata": {},
   "source": [
    "Lambda functions are useful when we want to give a function as an argument to another function"
   ]
  },
  {
   "cell_type": "code",
   "execution_count": 227,
   "id": "6386fa9c",
   "metadata": {},
   "outputs": [],
   "source": [
    "def apply_to_list(some_list, f):\n",
    "    return [f(x) for x in some_list]"
   ]
  },
  {
   "cell_type": "code",
   "execution_count": 228,
   "id": "be169509",
   "metadata": {},
   "outputs": [
    {
     "data": {
      "text/plain": [
       "[8, 0, 2, 10, 12]"
      ]
     },
     "execution_count": 228,
     "metadata": {},
     "output_type": "execute_result"
    }
   ],
   "source": [
    "ints = [4, 0, 1, 5, 6]\n",
    "apply_to_list(ints, lambda x: x * 2)"
   ]
  },
  {
   "cell_type": "markdown",
   "id": "55377ae4",
   "metadata": {},
   "source": [
    "### Generators "
   ]
  },
  {
   "cell_type": "markdown",
   "id": "910ae302",
   "metadata": {},
   "source": [
    "iterator is any object that will yield objects to the Python interpreter when used\n",
    "in a context like a for loop"
   ]
  },
  {
   "cell_type": "code",
   "execution_count": 232,
   "id": "b8bb1bb2",
   "metadata": {},
   "outputs": [],
   "source": [
    "some_dict = {\"a\": 1, \"b\": 2, \"c\": 3}"
   ]
  },
  {
   "cell_type": "code",
   "execution_count": 233,
   "id": "f91dc91d",
   "metadata": {},
   "outputs": [],
   "source": [
    "dict_iterator = iter(some_dict)"
   ]
  },
  {
   "cell_type": "code",
   "execution_count": 234,
   "id": "b6fd9790",
   "metadata": {},
   "outputs": [
    {
     "data": {
      "text/plain": [
       "['a', 'b', 'c']"
      ]
     },
     "execution_count": 234,
     "metadata": {},
     "output_type": "execute_result"
    }
   ],
   "source": [
    "list(dict_iterator)"
   ]
  },
  {
   "cell_type": "markdown",
   "id": "7be07f77",
   "metadata": {},
   "source": [
    "We can create a generator using the yield function "
   ]
  },
  {
   "cell_type": "code",
   "execution_count": 238,
   "id": "9269131d",
   "metadata": {},
   "outputs": [],
   "source": [
    "def squares(n=10):\n",
    "    print(f\"Generating squares from 1 to {n ** 2}\")\n",
    "    for i in range(1, n + 1):\n",
    "        yield i ** 2"
   ]
  },
  {
   "cell_type": "code",
   "execution_count": 239,
   "id": "2d02dc0a",
   "metadata": {},
   "outputs": [
    {
     "data": {
      "text/plain": [
       "<generator object squares at 0x10c6397e0>"
      ]
     },
     "execution_count": 239,
     "metadata": {},
     "output_type": "execute_result"
    }
   ],
   "source": [
    "gen = squares()\n",
    "gen"
   ]
  },
  {
   "cell_type": "code",
   "execution_count": 240,
   "id": "97a3cc5f",
   "metadata": {},
   "outputs": [
    {
     "name": "stdout",
     "output_type": "stream",
     "text": [
      "Generating squares from 1 to 100\n",
      "1 4 9 16 25 36 49 64 81 100 "
     ]
    }
   ],
   "source": [
    "for x in gen:\n",
    "    print(x, end=\" \")"
   ]
  },
  {
   "cell_type": "markdown",
   "id": "a2a57791",
   "metadata": {},
   "source": [
    "### Generator expressions "
   ]
  },
  {
   "cell_type": "markdown",
   "id": "13f37902",
   "metadata": {},
   "source": [
    "Another way to make a generator is by using a generator expression. To create one, enclose what\n",
    "would otherwise be a list comprehension within parentheses instead of brackets."
   ]
  },
  {
   "cell_type": "code",
   "execution_count": 246,
   "id": "255a352b",
   "metadata": {},
   "outputs": [
    {
     "data": {
      "text/plain": [
       "<generator object <genexpr> at 0x10c7064d0>"
      ]
     },
     "execution_count": 246,
     "metadata": {},
     "output_type": "execute_result"
    }
   ],
   "source": [
    "gen = (x ** 2 for x in range(11))\n",
    "gen"
   ]
  },
  {
   "cell_type": "code",
   "execution_count": 247,
   "id": "695fbaad",
   "metadata": {},
   "outputs": [
    {
     "name": "stdout",
     "output_type": "stream",
     "text": [
      "0 1 4 9 16 25 36 49 64 81 100 "
     ]
    }
   ],
   "source": [
    "for x in gen:\n",
    "    print(x, end=\" \")"
   ]
  },
  {
   "cell_type": "code",
   "execution_count": 248,
   "id": "44f6fbc7",
   "metadata": {},
   "outputs": [
    {
     "data": {
      "text/plain": [
       "328350"
      ]
     },
     "execution_count": 248,
     "metadata": {},
     "output_type": "execute_result"
    }
   ],
   "source": [
    "sum(x ** 2 for x in range(100))"
   ]
  },
  {
   "cell_type": "code",
   "execution_count": 249,
   "id": "6f5d3c71",
   "metadata": {},
   "outputs": [
    {
     "data": {
      "text/plain": [
       "{0: 0, 1: 1, 2: 4, 3: 9, 4: 16}"
      ]
     },
     "execution_count": 249,
     "metadata": {},
     "output_type": "execute_result"
    }
   ],
   "source": [
    "dict((i, i ** 2) for i in range(5))"
   ]
  },
  {
   "cell_type": "markdown",
   "id": "38da837e",
   "metadata": {},
   "source": [
    "### itertools module"
   ]
  },
  {
   "cell_type": "markdown",
   "id": "674d8b9f",
   "metadata": {},
   "source": [
    "Groupby takes any sequence and a function,\n",
    "grouping consecutive elements in the sequence by return value of the function"
   ]
  },
  {
   "cell_type": "code",
   "execution_count": 253,
   "id": "1b50d4fd",
   "metadata": {},
   "outputs": [],
   "source": [
    "import itertools"
   ]
  },
  {
   "cell_type": "code",
   "execution_count": 254,
   "id": "63c28a34",
   "metadata": {},
   "outputs": [],
   "source": [
    "def first_letter(x):\n",
    "    return x[0]"
   ]
  },
  {
   "cell_type": "code",
   "execution_count": 255,
   "id": "3ec615ba",
   "metadata": {},
   "outputs": [
    {
     "name": "stdout",
     "output_type": "stream",
     "text": [
      "A ['Alan', 'Adam']\n",
      "W ['Wes', 'Will']\n",
      "A ['Albert']\n",
      "S ['Steven']\n"
     ]
    }
   ],
   "source": [
    "names = [\"Alan\", \"Adam\", \"Wes\", \"Will\", \"Albert\", \"Steven\"]\n",
    "\n",
    "itertools.groupby(names, first_letter) #groups elements in the sequence by return value of the function\n",
    "\n",
    "for letter, names in itertools.groupby(names, first_letter):\n",
    "    print(letter, list(names)) #Names is a generator"
   ]
  },
  {
   "cell_type": "markdown",
   "id": "9b690b6a",
   "metadata": {},
   "source": [
    "Page 73 has other itertools useful functions :)"
   ]
  },
  {
   "cell_type": "code",
   "execution_count": null,
   "id": "c344a0be",
   "metadata": {},
   "outputs": [],
   "source": []
  },
  {
   "cell_type": "code",
   "execution_count": null,
   "id": "e2a1bb60",
   "metadata": {},
   "outputs": [],
   "source": []
  },
  {
   "cell_type": "code",
   "execution_count": null,
   "id": "67f76987",
   "metadata": {},
   "outputs": [],
   "source": []
  },
  {
   "cell_type": "code",
   "execution_count": null,
   "id": "a63dacf9",
   "metadata": {},
   "outputs": [],
   "source": []
  },
  {
   "cell_type": "code",
   "execution_count": null,
   "id": "058b34fd",
   "metadata": {},
   "outputs": [],
   "source": []
  },
  {
   "cell_type": "code",
   "execution_count": null,
   "id": "37273a62",
   "metadata": {},
   "outputs": [],
   "source": []
  },
  {
   "cell_type": "code",
   "execution_count": null,
   "id": "fb93a044",
   "metadata": {},
   "outputs": [],
   "source": []
  }
 ],
 "metadata": {
  "kernelspec": {
   "display_name": "Python 3 (ipykernel)",
   "language": "python",
   "name": "python3"
  },
  "language_info": {
   "codemirror_mode": {
    "name": "ipython",
    "version": 3
   },
   "file_extension": ".py",
   "mimetype": "text/x-python",
   "name": "python",
   "nbconvert_exporter": "python",
   "pygments_lexer": "ipython3",
   "version": "3.11.5"
  }
 },
 "nbformat": 4,
 "nbformat_minor": 5
}
