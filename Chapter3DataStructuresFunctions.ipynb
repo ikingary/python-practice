{
 "cells": [
  {
   "cell_type": "markdown",
   "id": "d90d9fe6",
   "metadata": {},
   "source": [
    "# Data Structures and Sequences "
   ]
  },
  {
   "cell_type": "markdown",
   "id": "b6ec5734",
   "metadata": {},
   "source": [
    "## Tuples"
   ]
  },
  {
   "cell_type": "code",
   "execution_count": 54,
   "id": "bf6e2192",
   "metadata": {},
   "outputs": [
    {
     "data": {
      "text/plain": [
       "(1, 2, 3)"
      ]
     },
     "execution_count": 54,
     "metadata": {},
     "output_type": "execute_result"
    }
   ],
   "source": [
    "a = (1,2,3)\n",
    "a"
   ]
  },
  {
   "cell_type": "markdown",
   "id": "8429625c",
   "metadata": {},
   "source": [
    "Tuples are inmutable, means that once created we cannot modify them"
   ]
  },
  {
   "cell_type": "code",
   "execution_count": 55,
   "id": "95babb95",
   "metadata": {},
   "outputs": [
    {
     "ename": "TypeError",
     "evalue": "'tuple' object does not support item assignment",
     "output_type": "error",
     "traceback": [
      "\u001b[0;31m---------------------------------------------------------------------------\u001b[0m",
      "\u001b[0;31mTypeError\u001b[0m                                 Traceback (most recent call last)",
      "Cell \u001b[0;32mIn[55], line 1\u001b[0m\n\u001b[0;32m----> 1\u001b[0m a[\u001b[38;5;241m0\u001b[39m] \u001b[38;5;241m=\u001b[39m \u001b[38;5;241m0\u001b[39m\n",
      "\u001b[0;31mTypeError\u001b[0m: 'tuple' object does not support item assignment"
     ]
    }
   ],
   "source": [
    "a[0] = 0"
   ]
  },
  {
   "cell_type": "markdown",
   "id": "62337193",
   "metadata": {},
   "source": [
    "Variables are just names of objects. Here a and b are two different names for the same object"
   ]
  },
  {
   "cell_type": "code",
   "execution_count": 56,
   "id": "b6d2e799",
   "metadata": {},
   "outputs": [
    {
     "data": {
      "text/plain": [
       "(1, 2, 3)"
      ]
     },
     "execution_count": 56,
     "metadata": {},
     "output_type": "execute_result"
    }
   ],
   "source": [
    "b = a\n",
    "b"
   ]
  },
  {
   "cell_type": "code",
   "execution_count": 57,
   "id": "720c8bff",
   "metadata": {},
   "outputs": [
    {
     "data": {
      "text/plain": [
       "True"
      ]
     },
     "execution_count": 57,
     "metadata": {},
     "output_type": "execute_result"
    }
   ],
   "source": [
    "b is a"
   ]
  },
  {
   "cell_type": "markdown",
   "id": "8ae5f42f",
   "metadata": {},
   "source": [
    "Here b is a different object that is identical to the object named a "
   ]
  },
  {
   "cell_type": "code",
   "execution_count": 58,
   "id": "5bb1da97",
   "metadata": {},
   "outputs": [
    {
     "ename": "TypeError",
     "evalue": "'tuple' object is not callable",
     "output_type": "error",
     "traceback": [
      "\u001b[0;31m---------------------------------------------------------------------------\u001b[0m",
      "\u001b[0;31mTypeError\u001b[0m                                 Traceback (most recent call last)",
      "Cell \u001b[0;32mIn[58], line 1\u001b[0m\n\u001b[0;32m----> 1\u001b[0m b \u001b[38;5;241m=\u001b[39m \u001b[38;5;28mlist\u001b[39m(a)\n\u001b[1;32m      2\u001b[0m b \u001b[38;5;241m=\u001b[39m \u001b[38;5;28mtuple\u001b[39m(b)\n",
      "\u001b[0;31mTypeError\u001b[0m: 'tuple' object is not callable"
     ]
    }
   ],
   "source": [
    "b = list(a)\n",
    "b = tuple(b)"
   ]
  },
  {
   "cell_type": "code",
   "execution_count": 16,
   "id": "1b446f27",
   "metadata": {},
   "outputs": [
    {
     "data": {
      "text/plain": [
       "False"
      ]
     },
     "execution_count": 16,
     "metadata": {},
     "output_type": "execute_result"
    }
   ],
   "source": [
    "b is a"
   ]
  },
  {
   "cell_type": "code",
   "execution_count": 17,
   "id": "e9cde1d1",
   "metadata": {},
   "outputs": [
    {
     "data": {
      "text/plain": [
       "True"
      ]
     },
     "execution_count": 17,
     "metadata": {},
     "output_type": "execute_result"
    }
   ],
   "source": [
    "b == a"
   ]
  },
  {
   "cell_type": "markdown",
   "id": "c5692775",
   "metadata": {},
   "source": [
    "We can convert sequence and iterators to tuples"
   ]
  },
  {
   "cell_type": "code",
   "execution_count": 6,
   "id": "290c70c4",
   "metadata": {},
   "outputs": [
    {
     "data": {
      "text/plain": [
       "(1, 2, 3)"
      ]
     },
     "execution_count": 6,
     "metadata": {},
     "output_type": "execute_result"
    }
   ],
   "source": [
    "tuple([1,2,3])"
   ]
  },
  {
   "cell_type": "code",
   "execution_count": 7,
   "id": "a0a13e33",
   "metadata": {},
   "outputs": [
    {
     "data": {
      "text/plain": [
       "('F', 'G', 'H', 'K', 'J', 'L')"
      ]
     },
     "execution_count": 7,
     "metadata": {},
     "output_type": "execute_result"
    }
   ],
   "source": [
    "tuple(\"FGHKJL\")"
   ]
  },
  {
   "cell_type": "markdown",
   "id": "5318eca7",
   "metadata": {},
   "source": [
    "We can acces values of tuples using square brackets "
   ]
  },
  {
   "cell_type": "code",
   "execution_count": 6,
   "id": "05a792a5",
   "metadata": {},
   "outputs": [
    {
     "data": {
      "text/plain": [
       "(3, 4, 5)"
      ]
     },
     "execution_count": 6,
     "metadata": {},
     "output_type": "execute_result"
    }
   ],
   "source": [
    "a = (1,2,(3,4,5))\n",
    "a[2]"
   ]
  },
  {
   "cell_type": "code",
   "execution_count": 7,
   "id": "982d8f16",
   "metadata": {},
   "outputs": [
    {
     "data": {
      "text/plain": [
       "3"
      ]
     },
     "execution_count": 7,
     "metadata": {},
     "output_type": "execute_result"
    }
   ],
   "source": [
    "a[2][0]"
   ]
  },
  {
   "cell_type": "markdown",
   "id": "4c478812",
   "metadata": {},
   "source": [
    "We can sum tuples "
   ]
  },
  {
   "cell_type": "code",
   "execution_count": 14,
   "id": "c4d006f0",
   "metadata": {},
   "outputs": [],
   "source": [
    "a = (1, 2, (3,4,5), \"A\", True)\n",
    "b = (6, 7, (8,9,10), \"B\", False)"
   ]
  },
  {
   "cell_type": "code",
   "execution_count": 15,
   "id": "24a52c1c",
   "metadata": {},
   "outputs": [
    {
     "data": {
      "text/plain": [
       "(1, 2, (3, 4, 5), 'A', True, 6, 7, (8, 9, 10), 'B', False)"
      ]
     },
     "execution_count": 15,
     "metadata": {},
     "output_type": "execute_result"
    }
   ],
   "source": [
    "a + b"
   ]
  },
  {
   "cell_type": "markdown",
   "id": "826f6c22",
   "metadata": {},
   "source": [
    "We can repeat the values of the tuple and get a larger tuple "
   ]
  },
  {
   "cell_type": "code",
   "execution_count": 16,
   "id": "da3ce0de",
   "metadata": {},
   "outputs": [],
   "source": [
    "a = (1, 2, (3, 4, 5))"
   ]
  },
  {
   "cell_type": "code",
   "execution_count": 17,
   "id": "42c8ef53",
   "metadata": {},
   "outputs": [
    {
     "data": {
      "text/plain": [
       "(1, 2, (3, 4, 5), 1, 2, (3, 4, 5), 1, 2, (3, 4, 5))"
      ]
     },
     "execution_count": 17,
     "metadata": {},
     "output_type": "execute_result"
    }
   ],
   "source": [
    "a*3"
   ]
  },
  {
   "cell_type": "markdown",
   "id": "8b250332",
   "metadata": {},
   "source": [
    "We can unpack the values of the tuples "
   ]
  },
  {
   "cell_type": "code",
   "execution_count": 27,
   "id": "35737282",
   "metadata": {},
   "outputs": [
    {
     "data": {
      "text/plain": [
       "(1, 2, (3, 4, 5))"
      ]
     },
     "execution_count": 27,
     "metadata": {},
     "output_type": "execute_result"
    }
   ],
   "source": [
    "tup = (1, 2, (3, 4, 5))\n",
    "a, b, (c, d, f) = tup\n",
    "tup"
   ]
  },
  {
   "cell_type": "code",
   "execution_count": 28,
   "id": "80c70cb2",
   "metadata": {},
   "outputs": [
    {
     "data": {
      "text/plain": [
       "5"
      ]
     },
     "execution_count": 28,
     "metadata": {},
     "output_type": "execute_result"
    }
   ],
   "source": [
    "f"
   ]
  },
  {
   "cell_type": "markdown",
   "id": "c6695a49",
   "metadata": {},
   "source": [
    "We can swap variables"
   ]
  },
  {
   "cell_type": "code",
   "execution_count": 32,
   "id": "3b11371e",
   "metadata": {},
   "outputs": [],
   "source": [
    "a, b = 1, 2"
   ]
  },
  {
   "cell_type": "code",
   "execution_count": 33,
   "id": "5c44c0e9",
   "metadata": {},
   "outputs": [
    {
     "data": {
      "text/plain": [
       "1"
      ]
     },
     "execution_count": 33,
     "metadata": {},
     "output_type": "execute_result"
    }
   ],
   "source": [
    "a"
   ]
  },
  {
   "cell_type": "code",
   "execution_count": 34,
   "id": "879c5ee2",
   "metadata": {},
   "outputs": [
    {
     "data": {
      "text/plain": [
       "2"
      ]
     },
     "execution_count": 34,
     "metadata": {},
     "output_type": "execute_result"
    }
   ],
   "source": [
    "b"
   ]
  },
  {
   "cell_type": "code",
   "execution_count": 35,
   "id": "45254c72",
   "metadata": {},
   "outputs": [],
   "source": [
    "a, b = b, a"
   ]
  },
  {
   "cell_type": "code",
   "execution_count": 36,
   "id": "5143eb30",
   "metadata": {},
   "outputs": [
    {
     "data": {
      "text/plain": [
       "2"
      ]
     },
     "execution_count": 36,
     "metadata": {},
     "output_type": "execute_result"
    }
   ],
   "source": [
    "a"
   ]
  },
  {
   "cell_type": "code",
   "execution_count": 37,
   "id": "6c31bf97",
   "metadata": {},
   "outputs": [
    {
     "data": {
      "text/plain": [
       "1"
      ]
     },
     "execution_count": 37,
     "metadata": {},
     "output_type": "execute_result"
    }
   ],
   "source": [
    "b"
   ]
  },
  {
   "cell_type": "markdown",
   "id": "56cd78f6",
   "metadata": {},
   "source": [
    "We can save the n next values of a tuple inside a single variable"
   ]
  },
  {
   "cell_type": "code",
   "execution_count": 38,
   "id": "ecbc6dba",
   "metadata": {},
   "outputs": [],
   "source": [
    "values = 1, 2, 3, 4, 5\n",
    "a, b, *rest = values "
   ]
  },
  {
   "cell_type": "code",
   "execution_count": 39,
   "id": "6bc88d52",
   "metadata": {},
   "outputs": [
    {
     "data": {
      "text/plain": [
       "[3, 4, 5]"
      ]
     },
     "execution_count": 39,
     "metadata": {},
     "output_type": "execute_result"
    }
   ],
   "source": [
    "rest"
   ]
  },
  {
   "cell_type": "markdown",
   "id": "0720153a",
   "metadata": {},
   "source": [
    "We can also discard the next n values of a tuple "
   ]
  },
  {
   "cell_type": "code",
   "execution_count": 40,
   "id": "115b9849",
   "metadata": {},
   "outputs": [],
   "source": [
    "values = 1, 2, 3, 4, 5\n",
    "a, b, *_ = values "
   ]
  },
  {
   "cell_type": "markdown",
   "id": "78bca3ed",
   "metadata": {},
   "source": [
    "We can count the number of repeated values "
   ]
  },
  {
   "cell_type": "code",
   "execution_count": 41,
   "id": "937684a9",
   "metadata": {},
   "outputs": [],
   "source": [
    "a = (1, 2, 2, 3, 3, 3)"
   ]
  },
  {
   "cell_type": "code",
   "execution_count": 42,
   "id": "4cb32abe",
   "metadata": {},
   "outputs": [
    {
     "data": {
      "text/plain": [
       "3"
      ]
     },
     "execution_count": 42,
     "metadata": {},
     "output_type": "execute_result"
    }
   ],
   "source": [
    "a.count(3)"
   ]
  },
  {
   "cell_type": "markdown",
   "id": "d3848d94",
   "metadata": {},
   "source": [
    "## List"
   ]
  },
  {
   "cell_type": "markdown",
   "id": "3f465044",
   "metadata": {},
   "source": [
    "List are mutable, we can modify them. Tuples can't be modified "
   ]
  },
  {
   "cell_type": "code",
   "execution_count": 1,
   "id": "b8e189c2",
   "metadata": {},
   "outputs": [
    {
     "data": {
      "text/plain": [
       "[1, (2, 3), None, True]"
      ]
     },
     "execution_count": 1,
     "metadata": {},
     "output_type": "execute_result"
    }
   ],
   "source": [
    "a_list = [1, (2,3), None, True]\n",
    "a_list"
   ]
  },
  {
   "cell_type": "code",
   "execution_count": 2,
   "id": "9ecc353b",
   "metadata": {},
   "outputs": [
    {
     "data": {
      "text/plain": [
       "[1, 'A', None, True]"
      ]
     },
     "execution_count": 2,
     "metadata": {},
     "output_type": "execute_result"
    }
   ],
   "source": [
    "a_list[1] = \"A\"\n",
    "a_list"
   ]
  },
  {
   "cell_type": "markdown",
   "id": "e2e0cd40",
   "metadata": {},
   "source": [
    "We can convert sequence and iterators to lists"
   ]
  },
  {
   "cell_type": "code",
   "execution_count": 3,
   "id": "0a12b047",
   "metadata": {},
   "outputs": [
    {
     "data": {
      "text/plain": [
       "['A', ',', 'B', ',', 'C']"
      ]
     },
     "execution_count": 3,
     "metadata": {},
     "output_type": "execute_result"
    }
   ],
   "source": [
    "a = \"A,B,C\"\n",
    "list(a)"
   ]
  },
  {
   "cell_type": "code",
   "execution_count": 5,
   "id": "6577f82f",
   "metadata": {},
   "outputs": [
    {
     "data": {
      "text/plain": [
       "['foo', 'bar', 'baz']"
      ]
     },
     "execution_count": 5,
     "metadata": {},
     "output_type": "execute_result"
    }
   ],
   "source": [
    "tup = (\"foo\", \"bar\", \"baz\")\n",
    "list(tup)"
   ]
  },
  {
   "cell_type": "markdown",
   "id": "da79a2ca",
   "metadata": {},
   "source": [
    "### Adding and removing elements"
   ]
  },
  {
   "cell_type": "markdown",
   "id": "1a3b276c",
   "metadata": {},
   "source": [
    "We can append elemts to the end of a list "
   ]
  },
  {
   "cell_type": "code",
   "execution_count": 6,
   "id": "78108a15",
   "metadata": {},
   "outputs": [],
   "source": [
    "b_list = [\"A\", \"B\", \"C\"]"
   ]
  },
  {
   "cell_type": "code",
   "execution_count": 7,
   "id": "b09c3b8b",
   "metadata": {},
   "outputs": [
    {
     "data": {
      "text/plain": [
       "['A', 'B', 'C', 'D']"
      ]
     },
     "execution_count": 7,
     "metadata": {},
     "output_type": "execute_result"
    }
   ],
   "source": [
    "b_list.append(\"D\")\n",
    "b_list"
   ]
  },
  {
   "cell_type": "markdown",
   "id": "8acc0364",
   "metadata": {},
   "source": [
    "We can insert elements in a specific part of a list "
   ]
  },
  {
   "cell_type": "code",
   "execution_count": 9,
   "id": "51a9947d",
   "metadata": {},
   "outputs": [
    {
     "data": {
      "text/plain": [
       "['A', 13, 13, 'B', 'C', 'D']"
      ]
     },
     "execution_count": 9,
     "metadata": {},
     "output_type": "execute_result"
    }
   ],
   "source": [
    "b_list.insert(1, 13)\n",
    "b_list"
   ]
  },
  {
   "cell_type": "markdown",
   "id": "0d7eebec",
   "metadata": {},
   "source": [
    "We can remove any element of a list given their index "
   ]
  },
  {
   "cell_type": "code",
   "execution_count": 10,
   "id": "dbe983d1",
   "metadata": {},
   "outputs": [
    {
     "data": {
      "text/plain": [
       "'D'"
      ]
     },
     "execution_count": 10,
     "metadata": {},
     "output_type": "execute_result"
    }
   ],
   "source": [
    "b_list.pop()"
   ]
  },
  {
   "cell_type": "code",
   "execution_count": 11,
   "id": "7e4df1ad",
   "metadata": {},
   "outputs": [
    {
     "data": {
      "text/plain": [
       "13"
      ]
     },
     "execution_count": 11,
     "metadata": {},
     "output_type": "execute_result"
    }
   ],
   "source": [
    "b_list.pop(1)"
   ]
  },
  {
   "cell_type": "code",
   "execution_count": 12,
   "id": "e7fb8b74",
   "metadata": {},
   "outputs": [
    {
     "data": {
      "text/plain": [
       "['A', 13, 'B', 'C']"
      ]
     },
     "execution_count": 12,
     "metadata": {},
     "output_type": "execute_result"
    }
   ],
   "source": [
    "b_list"
   ]
  },
  {
   "cell_type": "markdown",
   "id": "bef50748",
   "metadata": {},
   "source": [
    "We can also remove elemts from a list using their value "
   ]
  },
  {
   "cell_type": "code",
   "execution_count": 13,
   "id": "32a75ccc",
   "metadata": {},
   "outputs": [],
   "source": [
    "b_list.remove(\"A\")"
   ]
  },
  {
   "cell_type": "code",
   "execution_count": 14,
   "id": "ce248f57",
   "metadata": {},
   "outputs": [
    {
     "data": {
      "text/plain": [
       "[13, 'B', 'C']"
      ]
     },
     "execution_count": 14,
     "metadata": {},
     "output_type": "execute_result"
    }
   ],
   "source": [
    "b_list"
   ]
  },
  {
   "cell_type": "markdown",
   "id": "4d5f24e2",
   "metadata": {},
   "source": [
    "We can ask if an element is in the list"
   ]
  },
  {
   "cell_type": "code",
   "execution_count": 15,
   "id": "32d71f43",
   "metadata": {},
   "outputs": [
    {
     "data": {
      "text/plain": [
       "True"
      ]
     },
     "execution_count": 15,
     "metadata": {},
     "output_type": "execute_result"
    }
   ],
   "source": [
    "13 in b_list"
   ]
  },
  {
   "cell_type": "markdown",
   "id": "f5e550bd",
   "metadata": {},
   "source": [
    "### Concatenating and removing "
   ]
  },
  {
   "cell_type": "markdown",
   "id": "beeced12",
   "metadata": {},
   "source": [
    "We can concatenate lists "
   ]
  },
  {
   "cell_type": "code",
   "execution_count": 16,
   "id": "084c1360",
   "metadata": {},
   "outputs": [
    {
     "data": {
      "text/plain": [
       "['A', 1, 'B', 2]"
      ]
     },
     "execution_count": 16,
     "metadata": {},
     "output_type": "execute_result"
    }
   ],
   "source": [
    "a_list = [\"A\", 1]\n",
    "b_list = [\"B\", 2]\n",
    "\n",
    "a_list + b_list "
   ]
  },
  {
   "cell_type": "markdown",
   "id": "9a9e6cff",
   "metadata": {},
   "source": [
    "We can also extend an existing list, its like appending multiple elements "
   ]
  },
  {
   "cell_type": "code",
   "execution_count": 17,
   "id": "c2e5b804",
   "metadata": {},
   "outputs": [
    {
     "data": {
      "text/plain": [
       "['A', 1, 'B', 2]"
      ]
     },
     "execution_count": 17,
     "metadata": {},
     "output_type": "execute_result"
    }
   ],
   "source": [
    "a_list.extend([\"B\", 2])\n",
    "a_list"
   ]
  },
  {
   "cell_type": "markdown",
   "id": "69afeb79",
   "metadata": {},
   "source": [
    "### Sorting"
   ]
  },
  {
   "cell_type": "markdown",
   "id": "602fb6bd",
   "metadata": {},
   "source": [
    "We can sort elements of a list "
   ]
  },
  {
   "cell_type": "code",
   "execution_count": 18,
   "id": "07d1851a",
   "metadata": {},
   "outputs": [],
   "source": [
    "a_list = [5,3,7,9,4,1]"
   ]
  },
  {
   "cell_type": "code",
   "execution_count": 20,
   "id": "9a2b605f",
   "metadata": {},
   "outputs": [
    {
     "data": {
      "text/plain": [
       "[1, 3, 4, 5, 7, 9]"
      ]
     },
     "execution_count": 20,
     "metadata": {},
     "output_type": "execute_result"
    }
   ],
   "source": [
    "a_list.sort()\n",
    "a_list"
   ]
  },
  {
   "cell_type": "markdown",
   "id": "83cda62d",
   "metadata": {},
   "source": [
    "We can also sort strings by length "
   ]
  },
  {
   "cell_type": "code",
   "execution_count": 21,
   "id": "2c915f6a",
   "metadata": {},
   "outputs": [],
   "source": [
    "a_list = [\"BCD\", \"BCDEF\", \"A\", \"AB\"]\n",
    "a_list.sort(key=len)"
   ]
  },
  {
   "cell_type": "code",
   "execution_count": 22,
   "id": "1ebd83c3",
   "metadata": {},
   "outputs": [
    {
     "data": {
      "text/plain": [
       "['A', 'AB', 'BCD', 'BCDEF']"
      ]
     },
     "execution_count": 22,
     "metadata": {},
     "output_type": "execute_result"
    }
   ],
   "source": [
    "a_list"
   ]
  },
  {
   "cell_type": "markdown",
   "id": "4881899c",
   "metadata": {},
   "source": [
    "### Slicing"
   ]
  },
  {
   "cell_type": "markdown",
   "id": "e365d5ac",
   "metadata": {},
   "source": [
    "We can select sections of lists "
   ]
  },
  {
   "cell_type": "code",
   "execution_count": 57,
   "id": "0b10e13e",
   "metadata": {},
   "outputs": [
    {
     "data": {
      "text/plain": [
       "['H', 'E', 'L', 'L', 'O']"
      ]
     },
     "execution_count": 57,
     "metadata": {},
     "output_type": "execute_result"
    }
   ],
   "source": [
    "seq = list(\"HELLO:)\")\n",
    "seq[0:5]"
   ]
  },
  {
   "cell_type": "code",
   "execution_count": 33,
   "id": "2ac2b84b",
   "metadata": {},
   "outputs": [
    {
     "data": {
      "text/plain": [
       "['H', 'E', 'L', 'L', 'O']"
      ]
     },
     "execution_count": 33,
     "metadata": {},
     "output_type": "execute_result"
    }
   ],
   "source": [
    "seq[:5]"
   ]
  },
  {
   "cell_type": "code",
   "execution_count": 39,
   "id": "39909b34",
   "metadata": {},
   "outputs": [
    {
     "data": {
      "text/plain": [
       "[':', ')']"
      ]
     },
     "execution_count": 39,
     "metadata": {},
     "output_type": "execute_result"
    }
   ],
   "source": [
    "seq[5:]"
   ]
  },
  {
   "cell_type": "code",
   "execution_count": 40,
   "id": "d598b905",
   "metadata": {},
   "outputs": [
    {
     "data": {
      "text/plain": [
       "[':', ')']"
      ]
     },
     "execution_count": 40,
     "metadata": {},
     "output_type": "execute_result"
    }
   ],
   "source": [
    "seq[-2:]"
   ]
  },
  {
   "cell_type": "code",
   "execution_count": 42,
   "id": "8dd95165",
   "metadata": {
    "scrolled": true
   },
   "outputs": [
    {
     "data": {
      "text/plain": [
       "['H', 'E', 'L', 'L', 'O']"
      ]
     },
     "execution_count": 42,
     "metadata": {},
     "output_type": "execute_result"
    }
   ],
   "source": [
    "seq[-7:-2]"
   ]
  },
  {
   "cell_type": "markdown",
   "id": "126a84e4",
   "metadata": {},
   "source": [
    "We can skip one elements "
   ]
  },
  {
   "cell_type": "code",
   "execution_count": 53,
   "id": "bc76cfc0",
   "metadata": {
    "scrolled": true
   },
   "outputs": [
    {
     "data": {
      "text/plain": [
       "['H', 'L', 'O', ')']"
      ]
     },
     "execution_count": 53,
     "metadata": {},
     "output_type": "execute_result"
    }
   ],
   "source": [
    "seq[::2]"
   ]
  },
  {
   "cell_type": "markdown",
   "id": "5e12c7b0",
   "metadata": {},
   "source": [
    "We can reverse a sequence "
   ]
  },
  {
   "cell_type": "code",
   "execution_count": 55,
   "id": "b32bf8f9",
   "metadata": {},
   "outputs": [
    {
     "data": {
      "text/plain": [
       "[')', ':', 'O', 'L', 'L', 'E', 'H']"
      ]
     },
     "execution_count": 55,
     "metadata": {},
     "output_type": "execute_result"
    }
   ],
   "source": [
    "seq[::-1]"
   ]
  },
  {
   "cell_type": "markdown",
   "id": "648c293d",
   "metadata": {},
   "source": [
    "We can modify sections of lists "
   ]
  },
  {
   "cell_type": "code",
   "execution_count": 58,
   "id": "7862beb5",
   "metadata": {},
   "outputs": [
    {
     "data": {
      "text/plain": [
       "['H', 'E', 'A', 'B', 'C', ':', ')']"
      ]
     },
     "execution_count": 58,
     "metadata": {},
     "output_type": "execute_result"
    }
   ],
   "source": [
    "seq[2:5] = list(\"ABC\")\n",
    "seq"
   ]
  },
  {
   "cell_type": "markdown",
   "id": "be249a0e",
   "metadata": {},
   "source": [
    "## Dictionary"
   ]
  },
  {
   "cell_type": "code",
   "execution_count": 112,
   "id": "2d20556c",
   "metadata": {},
   "outputs": [
    {
     "data": {
      "text/plain": [
       "{'a': 'ABC', 'b': (1, 2, 3)}"
      ]
     },
     "execution_count": 112,
     "metadata": {},
     "output_type": "execute_result"
    }
   ],
   "source": [
    "d1 = {\"a\":\"ABC\", \"b\":(1,2,3)}\n",
    "d1"
   ]
  },
  {
   "cell_type": "code",
   "execution_count": 113,
   "id": "a5df24a9",
   "metadata": {},
   "outputs": [
    {
     "data": {
      "text/plain": [
       "'ABC'"
      ]
     },
     "execution_count": 113,
     "metadata": {},
     "output_type": "execute_result"
    }
   ],
   "source": [
    "d1[\"a\"]"
   ]
  },
  {
   "cell_type": "code",
   "execution_count": 114,
   "id": "ccd95782",
   "metadata": {},
   "outputs": [
    {
     "data": {
      "text/plain": [
       "True"
      ]
     },
     "execution_count": 114,
     "metadata": {},
     "output_type": "execute_result"
    }
   ],
   "source": [
    "\"b\" in d1"
   ]
  },
  {
   "cell_type": "markdown",
   "id": "e884950f",
   "metadata": {},
   "source": [
    "We can modify dictionaries "
   ]
  },
  {
   "cell_type": "code",
   "execution_count": 115,
   "id": "3d991be3",
   "metadata": {},
   "outputs": [
    {
     "data": {
      "text/plain": [
       "{'a': 'ABC', 'b': (1, 2, 3), 1: ['A', 'B', 'C']}"
      ]
     },
     "execution_count": 115,
     "metadata": {},
     "output_type": "execute_result"
    }
   ],
   "source": [
    "d1[1] = list(\"ABC\")\n",
    "d1"
   ]
  },
  {
   "cell_type": "markdown",
   "id": "be3cfe66",
   "metadata": {},
   "source": [
    "We can delete elements of dictionaries "
   ]
  },
  {
   "cell_type": "code",
   "execution_count": 116,
   "id": "d34ee62c",
   "metadata": {},
   "outputs": [
    {
     "data": {
      "text/plain": [
       "{'a': 'ABC', 'b': (1, 2, 3), 1: ['A', 'B', 'C'], 2: 3742, 'c': 42.42}"
      ]
     },
     "execution_count": 116,
     "metadata": {},
     "output_type": "execute_result"
    }
   ],
   "source": [
    "d1[2] = 3742\n",
    "d1[\"c\"] = 42.42\n",
    "d1"
   ]
  },
  {
   "cell_type": "code",
   "execution_count": 117,
   "id": "8e6f0f81",
   "metadata": {},
   "outputs": [],
   "source": [
    "del d1[\"c\"]"
   ]
  },
  {
   "cell_type": "code",
   "execution_count": 118,
   "id": "6443eb1a",
   "metadata": {},
   "outputs": [
    {
     "data": {
      "text/plain": [
       "{'a': 'ABC', 'b': (1, 2, 3), 1: ['A', 'B', 'C'], 2: 3742}"
      ]
     },
     "execution_count": 118,
     "metadata": {},
     "output_type": "execute_result"
    }
   ],
   "source": [
    "d1"
   ]
  },
  {
   "cell_type": "code",
   "execution_count": 119,
   "id": "42e5c6fb",
   "metadata": {},
   "outputs": [
    {
     "data": {
      "text/plain": [
       "3742"
      ]
     },
     "execution_count": 119,
     "metadata": {},
     "output_type": "execute_result"
    }
   ],
   "source": [
    "d1.pop(2)"
   ]
  },
  {
   "cell_type": "code",
   "execution_count": 120,
   "id": "0fb185a8",
   "metadata": {},
   "outputs": [
    {
     "data": {
      "text/plain": [
       "{'a': 'ABC', 'b': (1, 2, 3), 1: ['A', 'B', 'C']}"
      ]
     },
     "execution_count": 120,
     "metadata": {},
     "output_type": "execute_result"
    }
   ],
   "source": [
    "d1"
   ]
  },
  {
   "cell_type": "markdown",
   "id": "5ba7e5fb",
   "metadata": {},
   "source": [
    "We can get the keys "
   ]
  },
  {
   "cell_type": "code",
   "execution_count": 121,
   "id": "1c1ffd11",
   "metadata": {},
   "outputs": [
    {
     "data": {
      "text/plain": [
       "['a', 'b', 1]"
      ]
     },
     "execution_count": 121,
     "metadata": {},
     "output_type": "execute_result"
    }
   ],
   "source": [
    "list(d1.keys())"
   ]
  },
  {
   "cell_type": "markdown",
   "id": "87b85aae",
   "metadata": {},
   "source": [
    "We can get the values"
   ]
  },
  {
   "cell_type": "code",
   "execution_count": 122,
   "id": "16ba52c0",
   "metadata": {},
   "outputs": [
    {
     "data": {
      "text/plain": [
       "['ABC', (1, 2, 3), ['A', 'B', 'C']]"
      ]
     },
     "execution_count": 122,
     "metadata": {},
     "output_type": "execute_result"
    }
   ],
   "source": [
    "list(d1.values())"
   ]
  },
  {
   "cell_type": "markdown",
   "id": "377d32f6",
   "metadata": {},
   "source": [
    "We can geet both the keys and values"
   ]
  },
  {
   "cell_type": "code",
   "execution_count": 123,
   "id": "6be40364",
   "metadata": {},
   "outputs": [
    {
     "data": {
      "text/plain": [
       "[('a', 'ABC'), ('b', (1, 2, 3)), (1, ['A', 'B', 'C'])]"
      ]
     },
     "execution_count": 123,
     "metadata": {},
     "output_type": "execute_result"
    }
   ],
   "source": [
    "list(d1.items())"
   ]
  },
  {
   "cell_type": "markdown",
   "id": "42767f4c",
   "metadata": {},
   "source": [
    "We can merge (update) dictionares"
   ]
  },
  {
   "cell_type": "code",
   "execution_count": 124,
   "id": "3365c732",
   "metadata": {},
   "outputs": [],
   "source": [
    "d1.update({\"a\":\"XYZ\", 2:list(\"XYZ\")})"
   ]
  },
  {
   "cell_type": "code",
   "execution_count": 125,
   "id": "8f6893e4",
   "metadata": {},
   "outputs": [
    {
     "data": {
      "text/plain": [
       "{'a': 'XYZ', 'b': (1, 2, 3), 1: ['A', 'B', 'C'], 2: ['X', 'Y', 'Z']}"
      ]
     },
     "execution_count": 125,
     "metadata": {},
     "output_type": "execute_result"
    }
   ],
   "source": [
    "d1"
   ]
  },
  {
   "cell_type": "markdown",
   "id": "5b3cca2b",
   "metadata": {},
   "source": [
    "### Creating dictionaries from sequences"
   ]
  },
  {
   "cell_type": "code",
   "execution_count": 126,
   "id": "63e818d5",
   "metadata": {},
   "outputs": [],
   "source": [
    "tups = zip((\"A\",\"B\",\"C\"),(1,2,3))"
   ]
  },
  {
   "cell_type": "code",
   "execution_count": 127,
   "id": "561c8d4c",
   "metadata": {},
   "outputs": [
    {
     "data": {
      "text/plain": [
       "{'A': 1, 'B': 2, 'C': 3}"
      ]
     },
     "execution_count": 127,
     "metadata": {},
     "output_type": "execute_result"
    }
   ],
   "source": [
    "dict(tups)"
   ]
  },
  {
   "cell_type": "markdown",
   "id": "dd4400b7",
   "metadata": {},
   "source": [
    "### Default values"
   ]
  },
  {
   "cell_type": "markdown",
   "id": "d4f5aa28",
   "metadata": {},
   "source": [
    "We can get the values given a key. We can also specify a default value if the element is not present "
   ]
  },
  {
   "cell_type": "code",
   "execution_count": 128,
   "id": "a2fa6fff",
   "metadata": {},
   "outputs": [
    {
     "data": {
      "text/plain": [
       "'?'"
      ]
     },
     "execution_count": 128,
     "metadata": {},
     "output_type": "execute_result"
    }
   ],
   "source": [
    "d1.get(\"c\", \"?\")"
   ]
  },
  {
   "cell_type": "code",
   "execution_count": 129,
   "id": "f96537c2",
   "metadata": {},
   "outputs": [
    {
     "data": {
      "text/plain": [
       "'XYZ'"
      ]
     },
     "execution_count": 129,
     "metadata": {},
     "output_type": "execute_result"
    }
   ],
   "source": [
    "d1.get(\"a\", \"?\")"
   ]
  },
  {
   "cell_type": "markdown",
   "id": "e5219824",
   "metadata": {},
   "source": [
    "We can set elemets of a dictionary given a key and also specify a default value to set if the key isn't there"
   ]
  },
  {
   "cell_type": "code",
   "execution_count": 148,
   "id": "1dd513a0",
   "metadata": {},
   "outputs": [
    {
     "data": {
      "text/plain": [
       "{'a': ['apple'], 'b': ['bee']}"
      ]
     },
     "execution_count": 148,
     "metadata": {},
     "output_type": "execute_result"
    }
   ],
   "source": [
    "d1 = {\"a\":[\"apple\"], \"b\":[\"bee\"]}\n",
    "d1"
   ]
  },
  {
   "cell_type": "code",
   "execution_count": 149,
   "id": "328d6c94",
   "metadata": {},
   "outputs": [
    {
     "data": {
      "text/plain": [
       "{'a': ['apple', 'art'], 'b': ['bee']}"
      ]
     },
     "execution_count": 149,
     "metadata": {},
     "output_type": "execute_result"
    }
   ],
   "source": [
    "d1[\"a\"].append(\"art\")\n",
    "d1"
   ]
  },
  {
   "cell_type": "code",
   "execution_count": 150,
   "id": "6aa207fd",
   "metadata": {},
   "outputs": [
    {
     "ename": "KeyError",
     "evalue": "'c'",
     "output_type": "error",
     "traceback": [
      "\u001b[0;31m---------------------------------------------------------------------------\u001b[0m",
      "\u001b[0;31mKeyError\u001b[0m                                  Traceback (most recent call last)",
      "Cell \u001b[0;32mIn[150], line 1\u001b[0m\n\u001b[0;32m----> 1\u001b[0m d1[\u001b[38;5;124m\"\u001b[39m\u001b[38;5;124mc\u001b[39m\u001b[38;5;124m\"\u001b[39m]\u001b[38;5;241m.\u001b[39mappend(\u001b[38;5;124m\"\u001b[39m\u001b[38;5;124mcar\u001b[39m\u001b[38;5;124m\"\u001b[39m)\n\u001b[1;32m      2\u001b[0m d1\n",
      "\u001b[0;31mKeyError\u001b[0m: 'c'"
     ]
    }
   ],
   "source": [
    "d1[\"c\"].append(\"car\") #c is not a key for any element so youll get a mistake, thats why you need the default value\n",
    "d1"
   ]
  },
  {
   "cell_type": "code",
   "execution_count": 134,
   "id": "2034b5ef",
   "metadata": {},
   "outputs": [],
   "source": [
    "d1.setdefault(\"a\", []).append(\"atom\") #a is in the dictionary, so it will append the word to the existing list in the dicitonary"
   ]
  },
  {
   "cell_type": "code",
   "execution_count": 135,
   "id": "e9eda693",
   "metadata": {},
   "outputs": [
    {
     "data": {
      "text/plain": [
       "{'a': ['apple', 'atom'], 'b': ['bee']}"
      ]
     },
     "execution_count": 135,
     "metadata": {},
     "output_type": "execute_result"
    }
   ],
   "source": [
    "d1"
   ]
  },
  {
   "cell_type": "code",
   "execution_count": 136,
   "id": "11d7a273",
   "metadata": {},
   "outputs": [],
   "source": [
    "d1.setdefault(\"c\", []).append(\"car\") #c is not in the dictionary so it will create a new empty list [] and append the word to this new dictionary"
   ]
  },
  {
   "cell_type": "code",
   "execution_count": 137,
   "id": "c1fff13c",
   "metadata": {},
   "outputs": [
    {
     "data": {
      "text/plain": [
       "{'a': ['apple', 'atom'], 'b': ['bee'], 'c': ['car']}"
      ]
     },
     "execution_count": 137,
     "metadata": {},
     "output_type": "execute_result"
    }
   ],
   "source": [
    "d1"
   ]
  },
  {
   "cell_type": "markdown",
   "id": "3f787d74",
   "metadata": {},
   "source": [
    "We can also set elements using the class defauldict"
   ]
  },
  {
   "cell_type": "code",
   "execution_count": 138,
   "id": "cbcd14d5",
   "metadata": {},
   "outputs": [],
   "source": [
    "from collections import defaultdict\n",
    "d1 = defaultdict(list)"
   ]
  },
  {
   "cell_type": "code",
   "execution_count": 139,
   "id": "68be693c",
   "metadata": {},
   "outputs": [],
   "source": [
    "d1[\"a\"].append(\"apple\") #even if \"a\" is not in the dictionary, it wil create the new list"
   ]
  },
  {
   "cell_type": "code",
   "execution_count": 140,
   "id": "9164f01d",
   "metadata": {},
   "outputs": [
    {
     "data": {
      "text/plain": [
       "defaultdict(list, {'a': ['apple']})"
      ]
     },
     "execution_count": 140,
     "metadata": {},
     "output_type": "execute_result"
    }
   ],
   "source": [
    "d1"
   ]
  },
  {
   "cell_type": "code",
   "execution_count": 141,
   "id": "b1e3f6f1",
   "metadata": {},
   "outputs": [],
   "source": [
    "d1[\"a\"].append(\"atom\")"
   ]
  },
  {
   "cell_type": "code",
   "execution_count": 142,
   "id": "341f5c4e",
   "metadata": {},
   "outputs": [
    {
     "data": {
      "text/plain": [
       "defaultdict(list, {'a': ['apple', 'atom']})"
      ]
     },
     "execution_count": 142,
     "metadata": {},
     "output_type": "execute_result"
    }
   ],
   "source": [
    "d1"
   ]
  },
  {
   "cell_type": "markdown",
   "id": "b5fba48c",
   "metadata": {},
   "source": [
    "## Set"
   ]
  },
  {
   "cell_type": "markdown",
   "id": "b4523bec",
   "metadata": {},
   "source": [
    "Ordered collection of unique elements "
   ]
  },
  {
   "cell_type": "code",
   "execution_count": 153,
   "id": "9a16b3a8",
   "metadata": {},
   "outputs": [
    {
     "data": {
      "text/plain": [
       "{'A', 'C', 'E', 'I', 'M', 'N', 'O', 'S', 'T'}"
      ]
     },
     "execution_count": 153,
     "metadata": {},
     "output_type": "execute_result"
    }
   ],
   "source": [
    "set(list(\"ESTACIONAMIENTO\"))"
   ]
  },
  {
   "cell_type": "code",
   "execution_count": 154,
   "id": "3eb683fb",
   "metadata": {},
   "outputs": [
    {
     "data": {
      "text/plain": [
       "{1, 2, 3, 4, 5, 6, 7, 8, 9}"
      ]
     },
     "execution_count": 154,
     "metadata": {},
     "output_type": "execute_result"
    }
   ],
   "source": [
    "set([6,6,5,4,3,1,2,3,2,7,9,8])"
   ]
  },
  {
   "cell_type": "markdown",
   "id": "5fd7b665",
   "metadata": {},
   "source": [
    "we can do the union of two sets "
   ]
  },
  {
   "cell_type": "code",
   "execution_count": 155,
   "id": "de481f0b",
   "metadata": {},
   "outputs": [],
   "source": [
    "a = {7,5,3,1}\n",
    "b = {8,7,3,2}"
   ]
  },
  {
   "cell_type": "code",
   "execution_count": 156,
   "id": "212a80d5",
   "metadata": {},
   "outputs": [
    {
     "data": {
      "text/plain": [
       "{1, 2, 3, 5, 7, 8}"
      ]
     },
     "execution_count": 156,
     "metadata": {},
     "output_type": "execute_result"
    }
   ],
   "source": [
    "a.union(b)"
   ]
  },
  {
   "cell_type": "code",
   "execution_count": 157,
   "id": "c4ccafa3",
   "metadata": {},
   "outputs": [
    {
     "data": {
      "text/plain": [
       "{1, 2, 3, 5, 7, 8}"
      ]
     },
     "execution_count": 157,
     "metadata": {},
     "output_type": "execute_result"
    }
   ],
   "source": [
    "a | b"
   ]
  },
  {
   "cell_type": "code",
   "execution_count": 160,
   "id": "6d78e0aa",
   "metadata": {},
   "outputs": [
    {
     "data": {
      "text/plain": [
       "{1, 2, 3, 5, 7, 8}"
      ]
     },
     "execution_count": 160,
     "metadata": {},
     "output_type": "execute_result"
    }
   ],
   "source": [
    "c = a.copy()\n",
    "c |= b\n",
    "c"
   ]
  },
  {
   "cell_type": "markdown",
   "id": "ad71424f",
   "metadata": {},
   "source": [
    "We can also do the intersection"
   ]
  },
  {
   "cell_type": "code",
   "execution_count": 158,
   "id": "6bb3d0c0",
   "metadata": {},
   "outputs": [
    {
     "data": {
      "text/plain": [
       "{3, 7}"
      ]
     },
     "execution_count": 158,
     "metadata": {},
     "output_type": "execute_result"
    }
   ],
   "source": [
    "a.intersection(b)"
   ]
  },
  {
   "cell_type": "code",
   "execution_count": 159,
   "id": "c164b536",
   "metadata": {
    "scrolled": true
   },
   "outputs": [
    {
     "data": {
      "text/plain": [
       "{3, 7}"
      ]
     },
     "execution_count": 159,
     "metadata": {},
     "output_type": "execute_result"
    }
   ],
   "source": [
    "a & b"
   ]
  },
  {
   "cell_type": "code",
   "execution_count": 161,
   "id": "519ca6fd",
   "metadata": {},
   "outputs": [
    {
     "data": {
      "text/plain": [
       "{3, 7}"
      ]
     },
     "execution_count": 161,
     "metadata": {},
     "output_type": "execute_result"
    }
   ],
   "source": [
    "c = a.copy()\n",
    "c &= b\n",
    "c"
   ]
  },
  {
   "cell_type": "markdown",
   "id": "4e9aa0d8",
   "metadata": {},
   "source": [
    "book page 60 has a list of all possible opertaors for sets "
   ]
  },
  {
   "cell_type": "markdown",
   "id": "ebc4259d",
   "metadata": {},
   "source": [
    "Set elements must be inmutable "
   ]
  },
  {
   "cell_type": "code",
   "execution_count": 162,
   "id": "f471b6d9",
   "metadata": {},
   "outputs": [
    {
     "data": {
      "text/plain": [
       "{(1, 2, 3, 4)}"
      ]
     },
     "execution_count": 162,
     "metadata": {},
     "output_type": "execute_result"
    }
   ],
   "source": [
    "{tuple([1,2,3,4])}"
   ]
  },
  {
   "cell_type": "markdown",
   "id": "c1d7be80",
   "metadata": {},
   "source": [
    "You can check if a set is a subset or a superset "
   ]
  },
  {
   "cell_type": "code",
   "execution_count": 163,
   "id": "66575cdf",
   "metadata": {},
   "outputs": [],
   "source": [
    "a_set = {1,2,3,4,5}"
   ]
  },
  {
   "cell_type": "code",
   "execution_count": 164,
   "id": "2389b715",
   "metadata": {},
   "outputs": [
    {
     "data": {
      "text/plain": [
       "True"
      ]
     },
     "execution_count": 164,
     "metadata": {},
     "output_type": "execute_result"
    }
   ],
   "source": [
    "{1,2,3}.issubset(a_set)"
   ]
  },
  {
   "cell_type": "code",
   "execution_count": 165,
   "id": "fd40b9a9",
   "metadata": {},
   "outputs": [
    {
     "data": {
      "text/plain": [
       "True"
      ]
     },
     "execution_count": 165,
     "metadata": {},
     "output_type": "execute_result"
    }
   ],
   "source": [
    "{1,2,3,4,5,6,7}.issuperset(a_set)"
   ]
  },
  {
   "cell_type": "markdown",
   "id": "89ed3e24",
   "metadata": {},
   "source": [
    "sets are iqual iff contents are equal "
   ]
  },
  {
   "cell_type": "code",
   "execution_count": 166,
   "id": "ff47e8ad",
   "metadata": {},
   "outputs": [
    {
     "data": {
      "text/plain": [
       "True"
      ]
     },
     "execution_count": 166,
     "metadata": {},
     "output_type": "execute_result"
    }
   ],
   "source": [
    "a_set = {1,2,3,4,5}\n",
    "b_set = {1,2,3,4,5}\n",
    "a_set == b_set"
   ]
  },
  {
   "cell_type": "markdown",
   "id": "fe5cb97f",
   "metadata": {},
   "source": [
    "## Built in sequence functions "
   ]
  },
  {
   "cell_type": "markdown",
   "id": "cd6daadb",
   "metadata": {},
   "source": [
    "### enumerate"
   ]
  },
  {
   "cell_type": "markdown",
   "id": "3822f5ee",
   "metadata": {},
   "source": [
    "We can iterate over a sequence "
   ]
  },
  {
   "cell_type": "code",
   "execution_count": 167,
   "id": "967bab23",
   "metadata": {},
   "outputs": [
    {
     "name": "stdout",
     "output_type": "stream",
     "text": [
      "0 A\n",
      "1 B\n",
      "2 C\n",
      "3 D\n",
      "4 E\n"
     ]
    }
   ],
   "source": [
    "collection = list(\"ABCDE\")\n",
    "for index, value in enumerate(collection):\n",
    "    print(index, value)"
   ]
  },
  {
   "cell_type": "markdown",
   "id": "fddc3d6a",
   "metadata": {},
   "source": [
    "### sorted "
   ]
  },
  {
   "cell_type": "markdown",
   "id": "53d01474",
   "metadata": {},
   "source": [
    "We can get a sorted list of element of any sequence "
   ]
  },
  {
   "cell_type": "code",
   "execution_count": 169,
   "id": "5d8ab90d",
   "metadata": {},
   "outputs": [
    {
     "data": {
      "text/plain": [
       "['A', 'C', 'E', 'G', 'I', 'L', 'M', 'O', 'R', 'U']"
      ]
     },
     "execution_count": 169,
     "metadata": {},
     "output_type": "execute_result"
    }
   ],
   "source": [
    "sorted(tuple(\"MURCIELAGO\"))"
   ]
  },
  {
   "cell_type": "code",
   "execution_count": 170,
   "id": "608bc1b8",
   "metadata": {},
   "outputs": [
    {
     "data": {
      "text/plain": [
       "['2', '3', '4', '5', '7', '8', '9']"
      ]
     },
     "execution_count": 170,
     "metadata": {},
     "output_type": "execute_result"
    }
   ],
   "source": [
    "sorted(set(\"77732894582735\"))"
   ]
  },
  {
   "cell_type": "markdown",
   "id": "d099ce0b",
   "metadata": {},
   "source": [
    "### zip"
   ]
  },
  {
   "cell_type": "markdown",
   "id": "51d9c2d4",
   "metadata": {},
   "source": [
    "zip pairs elements and returns a list of tuples "
   ]
  },
  {
   "cell_type": "code",
   "execution_count": 173,
   "id": "34086396",
   "metadata": {
    "scrolled": true
   },
   "outputs": [
    {
     "data": {
      "text/plain": [
       "[('B', 1), ('D', 2), ('A', 3), ('C', 4)]"
      ]
     },
     "execution_count": 173,
     "metadata": {},
     "output_type": "execute_result"
    }
   ],
   "source": [
    "list(zip(set(\"ABCD\"),[1,2,3,4]))"
   ]
  },
  {
   "cell_type": "code",
   "execution_count": 175,
   "id": "20b2cc90",
   "metadata": {},
   "outputs": [
    {
     "data": {
      "text/plain": [
       "[('B', 1, True), ('D', 2, False)]"
      ]
     },
     "execution_count": 175,
     "metadata": {},
     "output_type": "execute_result"
    }
   ],
   "source": [
    "list(zip(set(\"ABCD\"),[1,2,3,4], (True, False)))"
   ]
  },
  {
   "cell_type": "markdown",
   "id": "50c417e2",
   "metadata": {},
   "source": [
    "### reversed"
   ]
  },
  {
   "cell_type": "markdown",
   "id": "244c378a",
   "metadata": {},
   "source": [
    "iterates over the elements of a sequence in reverse order "
   ]
  },
  {
   "cell_type": "code",
   "execution_count": 178,
   "id": "3b187721",
   "metadata": {},
   "outputs": [
    {
     "data": {
      "text/plain": [
       "[0, 1, 2, 3, 4, 5, 6, 7, 8, 9]"
      ]
     },
     "execution_count": 178,
     "metadata": {},
     "output_type": "execute_result"
    }
   ],
   "source": [
    "list(range(10))"
   ]
  },
  {
   "cell_type": "code",
   "execution_count": 179,
   "id": "c0673b86",
   "metadata": {},
   "outputs": [
    {
     "data": {
      "text/plain": [
       "[9, 8, 7, 6, 5, 4, 3, 2, 1, 0]"
      ]
     },
     "execution_count": 179,
     "metadata": {},
     "output_type": "execute_result"
    }
   ],
   "source": [
    "list(reversed(range(10)))"
   ]
  },
  {
   "cell_type": "code",
   "execution_count": null,
   "id": "ce5bbe14",
   "metadata": {},
   "outputs": [],
   "source": []
  },
  {
   "cell_type": "code",
   "execution_count": null,
   "id": "fb686d26",
   "metadata": {},
   "outputs": [],
   "source": []
  },
  {
   "cell_type": "code",
   "execution_count": null,
   "id": "3c5ccb39",
   "metadata": {},
   "outputs": [],
   "source": []
  },
  {
   "cell_type": "code",
   "execution_count": null,
   "id": "7a9a4fb7",
   "metadata": {},
   "outputs": [],
   "source": []
  },
  {
   "cell_type": "code",
   "execution_count": null,
   "id": "ea34e6b7",
   "metadata": {},
   "outputs": [],
   "source": []
  },
  {
   "cell_type": "code",
   "execution_count": null,
   "id": "3dfd5908",
   "metadata": {},
   "outputs": [],
   "source": []
  },
  {
   "cell_type": "code",
   "execution_count": null,
   "id": "10860a65",
   "metadata": {},
   "outputs": [],
   "source": []
  },
  {
   "cell_type": "code",
   "execution_count": null,
   "id": "ee36167d",
   "metadata": {},
   "outputs": [],
   "source": []
  },
  {
   "cell_type": "code",
   "execution_count": null,
   "id": "7318c116",
   "metadata": {},
   "outputs": [],
   "source": []
  },
  {
   "cell_type": "code",
   "execution_count": null,
   "id": "709e0380",
   "metadata": {},
   "outputs": [],
   "source": []
  },
  {
   "cell_type": "code",
   "execution_count": null,
   "id": "f0888b7a",
   "metadata": {},
   "outputs": [],
   "source": []
  },
  {
   "cell_type": "code",
   "execution_count": null,
   "id": "5baa36c1",
   "metadata": {},
   "outputs": [],
   "source": []
  },
  {
   "cell_type": "code",
   "execution_count": null,
   "id": "548fdbb9",
   "metadata": {},
   "outputs": [],
   "source": []
  }
 ],
 "metadata": {
  "kernelspec": {
   "display_name": "Python 3 (ipykernel)",
   "language": "python",
   "name": "python3"
  },
  "language_info": {
   "codemirror_mode": {
    "name": "ipython",
    "version": 3
   },
   "file_extension": ".py",
   "mimetype": "text/x-python",
   "name": "python",
   "nbconvert_exporter": "python",
   "pygments_lexer": "ipython3",
   "version": "3.11.5"
  }
 },
 "nbformat": 4,
 "nbformat_minor": 5
}
