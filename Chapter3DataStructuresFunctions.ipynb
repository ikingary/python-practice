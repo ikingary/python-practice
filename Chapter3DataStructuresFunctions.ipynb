{
 "cells": [
  {
   "cell_type": "markdown",
   "id": "d90d9fe6",
   "metadata": {},
   "source": [
    "# Data Structures and Sequences "
   ]
  },
  {
   "cell_type": "markdown",
   "id": "a402fb78",
   "metadata": {},
   "source": [
    "## Tuples"
   ]
  },
  {
   "cell_type": "code",
   "execution_count": 54,
   "id": "bf6e2192",
   "metadata": {},
   "outputs": [
    {
     "data": {
      "text/plain": [
       "(1, 2, 3)"
      ]
     },
     "execution_count": 54,
     "metadata": {},
     "output_type": "execute_result"
    }
   ],
   "source": [
    "a = (1,2,3)\n",
    "a"
   ]
  },
  {
   "cell_type": "markdown",
   "id": "8429625c",
   "metadata": {},
   "source": [
    "Tuples are inmutable, means that once created we cannot modify them"
   ]
  },
  {
   "cell_type": "code",
   "execution_count": 55,
   "id": "95babb95",
   "metadata": {},
   "outputs": [
    {
     "ename": "TypeError",
     "evalue": "'tuple' object does not support item assignment",
     "output_type": "error",
     "traceback": [
      "\u001b[0;31m---------------------------------------------------------------------------\u001b[0m",
      "\u001b[0;31mTypeError\u001b[0m                                 Traceback (most recent call last)",
      "Cell \u001b[0;32mIn[55], line 1\u001b[0m\n\u001b[0;32m----> 1\u001b[0m a[\u001b[38;5;241m0\u001b[39m] \u001b[38;5;241m=\u001b[39m \u001b[38;5;241m0\u001b[39m\n",
      "\u001b[0;31mTypeError\u001b[0m: 'tuple' object does not support item assignment"
     ]
    }
   ],
   "source": [
    "a[0] = 0"
   ]
  },
  {
   "cell_type": "markdown",
   "id": "62337193",
   "metadata": {},
   "source": [
    "Variables are just names of objects. Here a and b are two different names for the same object"
   ]
  },
  {
   "cell_type": "code",
   "execution_count": 56,
   "id": "b6d2e799",
   "metadata": {},
   "outputs": [
    {
     "data": {
      "text/plain": [
       "(1, 2, 3)"
      ]
     },
     "execution_count": 56,
     "metadata": {},
     "output_type": "execute_result"
    }
   ],
   "source": [
    "b = a\n",
    "b"
   ]
  },
  {
   "cell_type": "code",
   "execution_count": 57,
   "id": "720c8bff",
   "metadata": {},
   "outputs": [
    {
     "data": {
      "text/plain": [
       "True"
      ]
     },
     "execution_count": 57,
     "metadata": {},
     "output_type": "execute_result"
    }
   ],
   "source": [
    "b is a"
   ]
  },
  {
   "cell_type": "markdown",
   "id": "8ae5f42f",
   "metadata": {},
   "source": [
    "Here b is a different object that is identical to the object named a "
   ]
  },
  {
   "cell_type": "code",
   "execution_count": 58,
   "id": "5bb1da97",
   "metadata": {},
   "outputs": [
    {
     "ename": "TypeError",
     "evalue": "'tuple' object is not callable",
     "output_type": "error",
     "traceback": [
      "\u001b[0;31m---------------------------------------------------------------------------\u001b[0m",
      "\u001b[0;31mTypeError\u001b[0m                                 Traceback (most recent call last)",
      "Cell \u001b[0;32mIn[58], line 1\u001b[0m\n\u001b[0;32m----> 1\u001b[0m b \u001b[38;5;241m=\u001b[39m \u001b[38;5;28mlist\u001b[39m(a)\n\u001b[1;32m      2\u001b[0m b \u001b[38;5;241m=\u001b[39m \u001b[38;5;28mtuple\u001b[39m(b)\n",
      "\u001b[0;31mTypeError\u001b[0m: 'tuple' object is not callable"
     ]
    }
   ],
   "source": [
    "b = list(a)\n",
    "b = tuple(b)"
   ]
  },
  {
   "cell_type": "code",
   "execution_count": 16,
   "id": "1b446f27",
   "metadata": {},
   "outputs": [
    {
     "data": {
      "text/plain": [
       "False"
      ]
     },
     "execution_count": 16,
     "metadata": {},
     "output_type": "execute_result"
    }
   ],
   "source": [
    "b is a"
   ]
  },
  {
   "cell_type": "code",
   "execution_count": 17,
   "id": "e9cde1d1",
   "metadata": {},
   "outputs": [
    {
     "data": {
      "text/plain": [
       "True"
      ]
     },
     "execution_count": 17,
     "metadata": {},
     "output_type": "execute_result"
    }
   ],
   "source": [
    "b == a"
   ]
  },
  {
   "cell_type": "markdown",
   "id": "c5692775",
   "metadata": {},
   "source": [
    "We can convert sequence and iterators to tuples"
   ]
  },
  {
   "cell_type": "code",
   "execution_count": 6,
   "id": "290c70c4",
   "metadata": {},
   "outputs": [
    {
     "data": {
      "text/plain": [
       "(1, 2, 3)"
      ]
     },
     "execution_count": 6,
     "metadata": {},
     "output_type": "execute_result"
    }
   ],
   "source": [
    "tuple([1,2,3])"
   ]
  },
  {
   "cell_type": "code",
   "execution_count": 7,
   "id": "a0a13e33",
   "metadata": {},
   "outputs": [
    {
     "data": {
      "text/plain": [
       "('F', 'G', 'H', 'K', 'J', 'L')"
      ]
     },
     "execution_count": 7,
     "metadata": {},
     "output_type": "execute_result"
    }
   ],
   "source": [
    "tuple(\"FGHKJL\")"
   ]
  },
  {
   "cell_type": "markdown",
   "id": "0eb8da19",
   "metadata": {},
   "source": [
    "We can acces values of tuples using square brackets "
   ]
  },
  {
   "cell_type": "code",
   "execution_count": 6,
   "id": "05a792a5",
   "metadata": {},
   "outputs": [
    {
     "data": {
      "text/plain": [
       "(3, 4, 5)"
      ]
     },
     "execution_count": 6,
     "metadata": {},
     "output_type": "execute_result"
    }
   ],
   "source": [
    "a = (1,2,(3,4,5))\n",
    "a[2]"
   ]
  },
  {
   "cell_type": "code",
   "execution_count": 7,
   "id": "982d8f16",
   "metadata": {},
   "outputs": [
    {
     "data": {
      "text/plain": [
       "3"
      ]
     },
     "execution_count": 7,
     "metadata": {},
     "output_type": "execute_result"
    }
   ],
   "source": [
    "a[2][0]"
   ]
  },
  {
   "cell_type": "markdown",
   "id": "7d748aa4",
   "metadata": {},
   "source": [
    "We can sum tuples "
   ]
  },
  {
   "cell_type": "code",
   "execution_count": 14,
   "id": "c4d006f0",
   "metadata": {},
   "outputs": [],
   "source": [
    "a = (1, 2, (3,4,5), \"A\", True)\n",
    "b = (6, 7, (8,9,10), \"B\", False)"
   ]
  },
  {
   "cell_type": "code",
   "execution_count": 15,
   "id": "24a52c1c",
   "metadata": {},
   "outputs": [
    {
     "data": {
      "text/plain": [
       "(1, 2, (3, 4, 5), 'A', True, 6, 7, (8, 9, 10), 'B', False)"
      ]
     },
     "execution_count": 15,
     "metadata": {},
     "output_type": "execute_result"
    }
   ],
   "source": [
    "a + b"
   ]
  },
  {
   "cell_type": "markdown",
   "id": "1ef04fa3",
   "metadata": {},
   "source": [
    "We can repeat the values of the tuple and get a larger tuple "
   ]
  },
  {
   "cell_type": "code",
   "execution_count": 16,
   "id": "953e604e",
   "metadata": {},
   "outputs": [],
   "source": [
    "a = (1, 2, (3, 4, 5))"
   ]
  },
  {
   "cell_type": "code",
   "execution_count": 17,
   "id": "9672d6e1",
   "metadata": {},
   "outputs": [
    {
     "data": {
      "text/plain": [
       "(1, 2, (3, 4, 5), 1, 2, (3, 4, 5), 1, 2, (3, 4, 5))"
      ]
     },
     "execution_count": 17,
     "metadata": {},
     "output_type": "execute_result"
    }
   ],
   "source": [
    "a*3"
   ]
  },
  {
   "cell_type": "markdown",
   "id": "f926dec2",
   "metadata": {},
   "source": [
    "We can unpack the values of the tuples "
   ]
  },
  {
   "cell_type": "code",
   "execution_count": 27,
   "id": "8257d23d",
   "metadata": {},
   "outputs": [
    {
     "data": {
      "text/plain": [
       "(1, 2, (3, 4, 5))"
      ]
     },
     "execution_count": 27,
     "metadata": {},
     "output_type": "execute_result"
    }
   ],
   "source": [
    "tup = (1, 2, (3, 4, 5))\n",
    "a, b, (c, d, f) = tup\n",
    "tup"
   ]
  },
  {
   "cell_type": "code",
   "execution_count": 28,
   "id": "d2c39d74",
   "metadata": {},
   "outputs": [
    {
     "data": {
      "text/plain": [
       "5"
      ]
     },
     "execution_count": 28,
     "metadata": {},
     "output_type": "execute_result"
    }
   ],
   "source": [
    "f"
   ]
  },
  {
   "cell_type": "markdown",
   "id": "f2bd620e",
   "metadata": {},
   "source": [
    "We can swap variables"
   ]
  },
  {
   "cell_type": "code",
   "execution_count": 32,
   "id": "ad0e207f",
   "metadata": {},
   "outputs": [],
   "source": [
    "a, b = 1, 2"
   ]
  },
  {
   "cell_type": "code",
   "execution_count": 33,
   "id": "0793d380",
   "metadata": {},
   "outputs": [
    {
     "data": {
      "text/plain": [
       "1"
      ]
     },
     "execution_count": 33,
     "metadata": {},
     "output_type": "execute_result"
    }
   ],
   "source": [
    "a"
   ]
  },
  {
   "cell_type": "code",
   "execution_count": 34,
   "id": "282f6203",
   "metadata": {},
   "outputs": [
    {
     "data": {
      "text/plain": [
       "2"
      ]
     },
     "execution_count": 34,
     "metadata": {},
     "output_type": "execute_result"
    }
   ],
   "source": [
    "b"
   ]
  },
  {
   "cell_type": "code",
   "execution_count": 35,
   "id": "3e459cb4",
   "metadata": {},
   "outputs": [],
   "source": [
    "a, b = b, a"
   ]
  },
  {
   "cell_type": "code",
   "execution_count": 36,
   "id": "6b123404",
   "metadata": {},
   "outputs": [
    {
     "data": {
      "text/plain": [
       "2"
      ]
     },
     "execution_count": 36,
     "metadata": {},
     "output_type": "execute_result"
    }
   ],
   "source": [
    "a"
   ]
  },
  {
   "cell_type": "code",
   "execution_count": 37,
   "id": "e0670aa8",
   "metadata": {},
   "outputs": [
    {
     "data": {
      "text/plain": [
       "1"
      ]
     },
     "execution_count": 37,
     "metadata": {},
     "output_type": "execute_result"
    }
   ],
   "source": [
    "b"
   ]
  },
  {
   "cell_type": "markdown",
   "id": "b2bc1b7b",
   "metadata": {},
   "source": [
    "We can save the n next values of a tuple inside a single variable"
   ]
  },
  {
   "cell_type": "code",
   "execution_count": 38,
   "id": "788e52b5",
   "metadata": {},
   "outputs": [],
   "source": [
    "values = 1, 2, 3, 4, 5\n",
    "a, b, *rest = values "
   ]
  },
  {
   "cell_type": "code",
   "execution_count": 39,
   "id": "294e96a4",
   "metadata": {},
   "outputs": [
    {
     "data": {
      "text/plain": [
       "[3, 4, 5]"
      ]
     },
     "execution_count": 39,
     "metadata": {},
     "output_type": "execute_result"
    }
   ],
   "source": [
    "rest"
   ]
  },
  {
   "cell_type": "markdown",
   "id": "e5ccc6d4",
   "metadata": {},
   "source": [
    "We can also discard the next n values of a tuple "
   ]
  },
  {
   "cell_type": "code",
   "execution_count": 40,
   "id": "250f623c",
   "metadata": {},
   "outputs": [],
   "source": [
    "values = 1, 2, 3, 4, 5\n",
    "a, b, *_ = values "
   ]
  },
  {
   "cell_type": "markdown",
   "id": "0bdcb748",
   "metadata": {},
   "source": [
    "We can count the number of repeated values "
   ]
  },
  {
   "cell_type": "code",
   "execution_count": 41,
   "id": "b88f14a7",
   "metadata": {},
   "outputs": [],
   "source": [
    "a = (1, 2, 2, 3, 3, 3)"
   ]
  },
  {
   "cell_type": "code",
   "execution_count": 42,
   "id": "9ff1d6aa",
   "metadata": {},
   "outputs": [
    {
     "data": {
      "text/plain": [
       "3"
      ]
     },
     "execution_count": 42,
     "metadata": {},
     "output_type": "execute_result"
    }
   ],
   "source": [
    "a.count(3)"
   ]
  },
  {
   "cell_type": "markdown",
   "id": "f7a1977e",
   "metadata": {},
   "source": [
    "## List"
   ]
  },
  {
   "cell_type": "markdown",
   "id": "f0975f5c",
   "metadata": {},
   "source": [
    "List are mutable, we can modify them. Tuples can't be modified "
   ]
  },
  {
   "cell_type": "code",
   "execution_count": 1,
   "id": "5f987ece",
   "metadata": {},
   "outputs": [
    {
     "data": {
      "text/plain": [
       "[1, (2, 3), None, True]"
      ]
     },
     "execution_count": 1,
     "metadata": {},
     "output_type": "execute_result"
    }
   ],
   "source": [
    "a_list = [1, (2,3), None, True]\n",
    "a_list"
   ]
  },
  {
   "cell_type": "code",
   "execution_count": 2,
   "id": "f8f1b547",
   "metadata": {},
   "outputs": [
    {
     "data": {
      "text/plain": [
       "[1, 'A', None, True]"
      ]
     },
     "execution_count": 2,
     "metadata": {},
     "output_type": "execute_result"
    }
   ],
   "source": [
    "a_list[1] = \"A\"\n",
    "a_list"
   ]
  },
  {
   "cell_type": "markdown",
   "id": "b374f4be",
   "metadata": {},
   "source": [
    "We can convert sequence and iterators to lists"
   ]
  },
  {
   "cell_type": "code",
   "execution_count": 3,
   "id": "09c7f663",
   "metadata": {},
   "outputs": [
    {
     "data": {
      "text/plain": [
       "['A', ',', 'B', ',', 'C']"
      ]
     },
     "execution_count": 3,
     "metadata": {},
     "output_type": "execute_result"
    }
   ],
   "source": [
    "a = \"A,B,C\"\n",
    "list(a)"
   ]
  },
  {
   "cell_type": "code",
   "execution_count": 5,
   "id": "6d97f068",
   "metadata": {},
   "outputs": [
    {
     "data": {
      "text/plain": [
       "['foo', 'bar', 'baz']"
      ]
     },
     "execution_count": 5,
     "metadata": {},
     "output_type": "execute_result"
    }
   ],
   "source": [
    "tup = (\"foo\", \"bar\", \"baz\")\n",
    "list(tup)"
   ]
  },
  {
   "cell_type": "markdown",
   "id": "b3cfe9d6",
   "metadata": {},
   "source": [
    "### Adding and removing elements"
   ]
  },
  {
   "cell_type": "markdown",
   "id": "c415c573",
   "metadata": {},
   "source": [
    "We can append elemts to the end of a list "
   ]
  },
  {
   "cell_type": "code",
   "execution_count": 6,
   "id": "c0aedcbf",
   "metadata": {},
   "outputs": [],
   "source": [
    "b_list = [\"A\", \"B\", \"C\"]"
   ]
  },
  {
   "cell_type": "code",
   "execution_count": 7,
   "id": "f4ba08d1",
   "metadata": {},
   "outputs": [
    {
     "data": {
      "text/plain": [
       "['A', 'B', 'C', 'D']"
      ]
     },
     "execution_count": 7,
     "metadata": {},
     "output_type": "execute_result"
    }
   ],
   "source": [
    "b_list.append(\"D\")\n",
    "b_list"
   ]
  },
  {
   "cell_type": "markdown",
   "id": "aa955d3a",
   "metadata": {},
   "source": [
    "We can insert elements in a specific part of a list "
   ]
  },
  {
   "cell_type": "code",
   "execution_count": 9,
   "id": "54662f52",
   "metadata": {},
   "outputs": [
    {
     "data": {
      "text/plain": [
       "['A', 13, 13, 'B', 'C', 'D']"
      ]
     },
     "execution_count": 9,
     "metadata": {},
     "output_type": "execute_result"
    }
   ],
   "source": [
    "b_list.insert(1, 13)\n",
    "b_list"
   ]
  },
  {
   "cell_type": "markdown",
   "id": "048784a2",
   "metadata": {},
   "source": [
    "We can remove any element of a list given their index "
   ]
  },
  {
   "cell_type": "code",
   "execution_count": 10,
   "id": "4a2b719d",
   "metadata": {},
   "outputs": [
    {
     "data": {
      "text/plain": [
       "'D'"
      ]
     },
     "execution_count": 10,
     "metadata": {},
     "output_type": "execute_result"
    }
   ],
   "source": [
    "b_list.pop()"
   ]
  },
  {
   "cell_type": "code",
   "execution_count": 11,
   "id": "cd94cc7d",
   "metadata": {},
   "outputs": [
    {
     "data": {
      "text/plain": [
       "13"
      ]
     },
     "execution_count": 11,
     "metadata": {},
     "output_type": "execute_result"
    }
   ],
   "source": [
    "b_list.pop(1)"
   ]
  },
  {
   "cell_type": "code",
   "execution_count": 12,
   "id": "243abe6e",
   "metadata": {},
   "outputs": [
    {
     "data": {
      "text/plain": [
       "['A', 13, 'B', 'C']"
      ]
     },
     "execution_count": 12,
     "metadata": {},
     "output_type": "execute_result"
    }
   ],
   "source": [
    "b_list"
   ]
  },
  {
   "cell_type": "markdown",
   "id": "a2d02e01",
   "metadata": {},
   "source": [
    "We can also remove elemts from a list using their value "
   ]
  },
  {
   "cell_type": "code",
   "execution_count": 13,
   "id": "9365fe54",
   "metadata": {},
   "outputs": [],
   "source": [
    "b_list.remove(\"A\")"
   ]
  },
  {
   "cell_type": "code",
   "execution_count": 14,
   "id": "521b300c",
   "metadata": {},
   "outputs": [
    {
     "data": {
      "text/plain": [
       "[13, 'B', 'C']"
      ]
     },
     "execution_count": 14,
     "metadata": {},
     "output_type": "execute_result"
    }
   ],
   "source": [
    "b_list"
   ]
  },
  {
   "cell_type": "markdown",
   "id": "7f05ee9e",
   "metadata": {},
   "source": [
    "We can ask if an element is in the list"
   ]
  },
  {
   "cell_type": "code",
   "execution_count": 15,
   "id": "bcaba844",
   "metadata": {},
   "outputs": [
    {
     "data": {
      "text/plain": [
       "True"
      ]
     },
     "execution_count": 15,
     "metadata": {},
     "output_type": "execute_result"
    }
   ],
   "source": [
    "13 in b_list"
   ]
  },
  {
   "cell_type": "markdown",
   "id": "093bcf26",
   "metadata": {},
   "source": [
    "### Concatenating and removing "
   ]
  },
  {
   "cell_type": "markdown",
   "id": "c774e988",
   "metadata": {},
   "source": [
    "We can concatenate lists "
   ]
  },
  {
   "cell_type": "code",
   "execution_count": 16,
   "id": "267171fd",
   "metadata": {},
   "outputs": [
    {
     "data": {
      "text/plain": [
       "['A', 1, 'B', 2]"
      ]
     },
     "execution_count": 16,
     "metadata": {},
     "output_type": "execute_result"
    }
   ],
   "source": [
    "a_list = [\"A\", 1]\n",
    "b_list = [\"B\", 2]\n",
    "\n",
    "a_list + b_list "
   ]
  },
  {
   "cell_type": "markdown",
   "id": "589faa07",
   "metadata": {},
   "source": [
    "We can also extend an existing list, its like appending multiple elements "
   ]
  },
  {
   "cell_type": "code",
   "execution_count": 17,
   "id": "a54aec69",
   "metadata": {},
   "outputs": [
    {
     "data": {
      "text/plain": [
       "['A', 1, 'B', 2]"
      ]
     },
     "execution_count": 17,
     "metadata": {},
     "output_type": "execute_result"
    }
   ],
   "source": [
    "a_list.extend([\"B\", 2])\n",
    "a_list"
   ]
  },
  {
   "cell_type": "markdown",
   "id": "66db5f57",
   "metadata": {},
   "source": [
    "### Sorting"
   ]
  },
  {
   "cell_type": "markdown",
   "id": "4236b45e",
   "metadata": {},
   "source": [
    "We can sort elements of a list "
   ]
  },
  {
   "cell_type": "code",
   "execution_count": 18,
   "id": "a65fcf2c",
   "metadata": {},
   "outputs": [],
   "source": [
    "a_list = [5,3,7,9,4,1]"
   ]
  },
  {
   "cell_type": "code",
   "execution_count": 20,
   "id": "b82933fa",
   "metadata": {},
   "outputs": [
    {
     "data": {
      "text/plain": [
       "[1, 3, 4, 5, 7, 9]"
      ]
     },
     "execution_count": 20,
     "metadata": {},
     "output_type": "execute_result"
    }
   ],
   "source": [
    "a_list.sort()\n",
    "a_list"
   ]
  },
  {
   "cell_type": "markdown",
   "id": "5e998253",
   "metadata": {},
   "source": [
    "We can also sort strings by length "
   ]
  },
  {
   "cell_type": "code",
   "execution_count": 21,
   "id": "8d8061ba",
   "metadata": {},
   "outputs": [],
   "source": [
    "a_list = [\"BCD\", \"BCDEF\", \"A\", \"AB\"]\n",
    "a_list.sort(key=len)"
   ]
  },
  {
   "cell_type": "code",
   "execution_count": 22,
   "id": "4cd63f43",
   "metadata": {},
   "outputs": [
    {
     "data": {
      "text/plain": [
       "['A', 'AB', 'BCD', 'BCDEF']"
      ]
     },
     "execution_count": 22,
     "metadata": {},
     "output_type": "execute_result"
    }
   ],
   "source": [
    "a_list"
   ]
  },
  {
   "cell_type": "markdown",
   "id": "211d95e9",
   "metadata": {},
   "source": [
    "### Slicing"
   ]
  },
  {
   "cell_type": "markdown",
   "id": "4b442150",
   "metadata": {},
   "source": [
    "We can select sections of lists "
   ]
  },
  {
   "cell_type": "code",
   "execution_count": 57,
   "id": "a6d32945",
   "metadata": {},
   "outputs": [
    {
     "data": {
      "text/plain": [
       "['H', 'E', 'L', 'L', 'O']"
      ]
     },
     "execution_count": 57,
     "metadata": {},
     "output_type": "execute_result"
    }
   ],
   "source": [
    "seq = list(\"HELLO:)\")\n",
    "seq[0:5]"
   ]
  },
  {
   "cell_type": "code",
   "execution_count": 33,
   "id": "da99b2ed",
   "metadata": {},
   "outputs": [
    {
     "data": {
      "text/plain": [
       "['H', 'E', 'L', 'L', 'O']"
      ]
     },
     "execution_count": 33,
     "metadata": {},
     "output_type": "execute_result"
    }
   ],
   "source": [
    "seq[:5]"
   ]
  },
  {
   "cell_type": "code",
   "execution_count": 39,
   "id": "719be137",
   "metadata": {},
   "outputs": [
    {
     "data": {
      "text/plain": [
       "[':', ')']"
      ]
     },
     "execution_count": 39,
     "metadata": {},
     "output_type": "execute_result"
    }
   ],
   "source": [
    "seq[5:]"
   ]
  },
  {
   "cell_type": "code",
   "execution_count": 40,
   "id": "48691484",
   "metadata": {},
   "outputs": [
    {
     "data": {
      "text/plain": [
       "[':', ')']"
      ]
     },
     "execution_count": 40,
     "metadata": {},
     "output_type": "execute_result"
    }
   ],
   "source": [
    "seq[-2:]"
   ]
  },
  {
   "cell_type": "code",
   "execution_count": 42,
   "id": "b484303f",
   "metadata": {
    "scrolled": true
   },
   "outputs": [
    {
     "data": {
      "text/plain": [
       "['H', 'E', 'L', 'L', 'O']"
      ]
     },
     "execution_count": 42,
     "metadata": {},
     "output_type": "execute_result"
    }
   ],
   "source": [
    "seq[-7:-2]"
   ]
  },
  {
   "cell_type": "markdown",
   "id": "54eb2483",
   "metadata": {},
   "source": [
    "We can skip one elements "
   ]
  },
  {
   "cell_type": "code",
   "execution_count": 53,
   "id": "8063d210",
   "metadata": {
    "scrolled": true
   },
   "outputs": [
    {
     "data": {
      "text/plain": [
       "['H', 'L', 'O', ')']"
      ]
     },
     "execution_count": 53,
     "metadata": {},
     "output_type": "execute_result"
    }
   ],
   "source": [
    "seq[::2]"
   ]
  },
  {
   "cell_type": "markdown",
   "id": "c711c32d",
   "metadata": {},
   "source": [
    "We can reverse a sequence "
   ]
  },
  {
   "cell_type": "code",
   "execution_count": 55,
   "id": "0251ff17",
   "metadata": {},
   "outputs": [
    {
     "data": {
      "text/plain": [
       "[')', ':', 'O', 'L', 'L', 'E', 'H']"
      ]
     },
     "execution_count": 55,
     "metadata": {},
     "output_type": "execute_result"
    }
   ],
   "source": [
    "seq[::-1]"
   ]
  },
  {
   "cell_type": "markdown",
   "id": "452f9b7a",
   "metadata": {},
   "source": [
    "We can modify sections of lists "
   ]
  },
  {
   "cell_type": "code",
   "execution_count": 58,
   "id": "bbaaf0ea",
   "metadata": {},
   "outputs": [
    {
     "data": {
      "text/plain": [
       "['H', 'E', 'A', 'B', 'C', ':', ')']"
      ]
     },
     "execution_count": 58,
     "metadata": {},
     "output_type": "execute_result"
    }
   ],
   "source": [
    "seq[2:5] = list(\"ABC\")\n",
    "seq"
   ]
  },
  {
   "cell_type": "markdown",
   "id": "6ac83a22",
   "metadata": {},
   "source": [
    "## Dictionary"
   ]
  },
  {
   "cell_type": "code",
   "execution_count": 112,
   "id": "a6581de4",
   "metadata": {},
   "outputs": [
    {
     "data": {
      "text/plain": [
       "{'a': 'ABC', 'b': (1, 2, 3)}"
      ]
     },
     "execution_count": 112,
     "metadata": {},
     "output_type": "execute_result"
    }
   ],
   "source": [
    "d1 = {\"a\":\"ABC\", \"b\":(1,2,3)}\n",
    "d1"
   ]
  },
  {
   "cell_type": "code",
   "execution_count": 113,
   "id": "5363af8e",
   "metadata": {},
   "outputs": [
    {
     "data": {
      "text/plain": [
       "'ABC'"
      ]
     },
     "execution_count": 113,
     "metadata": {},
     "output_type": "execute_result"
    }
   ],
   "source": [
    "d1[\"a\"]"
   ]
  },
  {
   "cell_type": "code",
   "execution_count": 114,
   "id": "d6b1e8be",
   "metadata": {},
   "outputs": [
    {
     "data": {
      "text/plain": [
       "True"
      ]
     },
     "execution_count": 114,
     "metadata": {},
     "output_type": "execute_result"
    }
   ],
   "source": [
    "\"b\" in d1"
   ]
  },
  {
   "cell_type": "markdown",
   "id": "e542458a",
   "metadata": {},
   "source": [
    "We can modify dictionaries "
   ]
  },
  {
   "cell_type": "code",
   "execution_count": 115,
   "id": "4d1860c3",
   "metadata": {},
   "outputs": [
    {
     "data": {
      "text/plain": [
       "{'a': 'ABC', 'b': (1, 2, 3), 1: ['A', 'B', 'C']}"
      ]
     },
     "execution_count": 115,
     "metadata": {},
     "output_type": "execute_result"
    }
   ],
   "source": [
    "d1[1] = list(\"ABC\")\n",
    "d1"
   ]
  },
  {
   "cell_type": "markdown",
   "id": "30560234",
   "metadata": {},
   "source": [
    "We can delete elements of dictionaries "
   ]
  },
  {
   "cell_type": "code",
   "execution_count": 116,
   "id": "13b56789",
   "metadata": {},
   "outputs": [
    {
     "data": {
      "text/plain": [
       "{'a': 'ABC', 'b': (1, 2, 3), 1: ['A', 'B', 'C'], 2: 3742, 'c': 42.42}"
      ]
     },
     "execution_count": 116,
     "metadata": {},
     "output_type": "execute_result"
    }
   ],
   "source": [
    "d1[2] = 3742\n",
    "d1[\"c\"] = 42.42\n",
    "d1"
   ]
  },
  {
   "cell_type": "code",
   "execution_count": 117,
   "id": "f6cda212",
   "metadata": {},
   "outputs": [],
   "source": [
    "del d1[\"c\"]"
   ]
  },
  {
   "cell_type": "code",
   "execution_count": 118,
   "id": "8ccbd85c",
   "metadata": {},
   "outputs": [
    {
     "data": {
      "text/plain": [
       "{'a': 'ABC', 'b': (1, 2, 3), 1: ['A', 'B', 'C'], 2: 3742}"
      ]
     },
     "execution_count": 118,
     "metadata": {},
     "output_type": "execute_result"
    }
   ],
   "source": [
    "d1"
   ]
  },
  {
   "cell_type": "code",
   "execution_count": 119,
   "id": "3da46a67",
   "metadata": {},
   "outputs": [
    {
     "data": {
      "text/plain": [
       "3742"
      ]
     },
     "execution_count": 119,
     "metadata": {},
     "output_type": "execute_result"
    }
   ],
   "source": [
    "d1.pop(2)"
   ]
  },
  {
   "cell_type": "code",
   "execution_count": 120,
   "id": "0191d635",
   "metadata": {},
   "outputs": [
    {
     "data": {
      "text/plain": [
       "{'a': 'ABC', 'b': (1, 2, 3), 1: ['A', 'B', 'C']}"
      ]
     },
     "execution_count": 120,
     "metadata": {},
     "output_type": "execute_result"
    }
   ],
   "source": [
    "d1"
   ]
  },
  {
   "cell_type": "markdown",
   "id": "18226857",
   "metadata": {},
   "source": [
    "We can get the keys "
   ]
  },
  {
   "cell_type": "code",
   "execution_count": 121,
   "id": "ccc11763",
   "metadata": {},
   "outputs": [
    {
     "data": {
      "text/plain": [
       "['a', 'b', 1]"
      ]
     },
     "execution_count": 121,
     "metadata": {},
     "output_type": "execute_result"
    }
   ],
   "source": [
    "list(d1.keys())"
   ]
  },
  {
   "cell_type": "markdown",
   "id": "3bb6b71a",
   "metadata": {},
   "source": [
    "We can get the values"
   ]
  },
  {
   "cell_type": "code",
   "execution_count": 122,
   "id": "c3910a74",
   "metadata": {},
   "outputs": [
    {
     "data": {
      "text/plain": [
       "['ABC', (1, 2, 3), ['A', 'B', 'C']]"
      ]
     },
     "execution_count": 122,
     "metadata": {},
     "output_type": "execute_result"
    }
   ],
   "source": [
    "list(d1.values())"
   ]
  },
  {
   "cell_type": "markdown",
   "id": "96df9313",
   "metadata": {},
   "source": [
    "We can geet both the keys and values"
   ]
  },
  {
   "cell_type": "code",
   "execution_count": 123,
   "id": "75648bc7",
   "metadata": {},
   "outputs": [
    {
     "data": {
      "text/plain": [
       "[('a', 'ABC'), ('b', (1, 2, 3)), (1, ['A', 'B', 'C'])]"
      ]
     },
     "execution_count": 123,
     "metadata": {},
     "output_type": "execute_result"
    }
   ],
   "source": [
    "list(d1.items())"
   ]
  },
  {
   "cell_type": "markdown",
   "id": "50b69030",
   "metadata": {},
   "source": [
    "We can merge (update) dictionares"
   ]
  },
  {
   "cell_type": "code",
   "execution_count": 124,
   "id": "eff9ad48",
   "metadata": {},
   "outputs": [],
   "source": [
    "d1.update({\"a\":\"XYZ\", 2:list(\"XYZ\")})"
   ]
  },
  {
   "cell_type": "code",
   "execution_count": 125,
   "id": "dc4512a2",
   "metadata": {},
   "outputs": [
    {
     "data": {
      "text/plain": [
       "{'a': 'XYZ', 'b': (1, 2, 3), 1: ['A', 'B', 'C'], 2: ['X', 'Y', 'Z']}"
      ]
     },
     "execution_count": 125,
     "metadata": {},
     "output_type": "execute_result"
    }
   ],
   "source": [
    "d1"
   ]
  },
  {
   "cell_type": "markdown",
   "id": "975786b5",
   "metadata": {},
   "source": [
    "### Creating dictionaries from sequences"
   ]
  },
  {
   "cell_type": "code",
   "execution_count": 126,
   "id": "ebe7a55d",
   "metadata": {},
   "outputs": [],
   "source": [
    "tups = zip((\"A\",\"B\",\"C\"),(1,2,3))"
   ]
  },
  {
   "cell_type": "code",
   "execution_count": 127,
   "id": "45533ce3",
   "metadata": {},
   "outputs": [
    {
     "data": {
      "text/plain": [
       "{'A': 1, 'B': 2, 'C': 3}"
      ]
     },
     "execution_count": 127,
     "metadata": {},
     "output_type": "execute_result"
    }
   ],
   "source": [
    "dict(tups)"
   ]
  },
  {
   "cell_type": "markdown",
   "id": "333a2d33",
   "metadata": {},
   "source": [
    "### Default values"
   ]
  },
  {
   "cell_type": "markdown",
   "id": "ec134926",
   "metadata": {},
   "source": [
    "We can get the values given a key. We can also specify a default value if the element is not present "
   ]
  },
  {
   "cell_type": "code",
   "execution_count": 128,
   "id": "d57a28b6",
   "metadata": {},
   "outputs": [
    {
     "data": {
      "text/plain": [
       "'?'"
      ]
     },
     "execution_count": 128,
     "metadata": {},
     "output_type": "execute_result"
    }
   ],
   "source": [
    "d1.get(\"c\", \"?\")"
   ]
  },
  {
   "cell_type": "code",
   "execution_count": 129,
   "id": "798a4368",
   "metadata": {},
   "outputs": [
    {
     "data": {
      "text/plain": [
       "'XYZ'"
      ]
     },
     "execution_count": 129,
     "metadata": {},
     "output_type": "execute_result"
    }
   ],
   "source": [
    "d1.get(\"a\", \"?\")"
   ]
  },
  {
   "cell_type": "markdown",
   "id": "f72a797d",
   "metadata": {},
   "source": [
    "We can set elemets of a dictionary given a key and also specify a default value to set if the key isn't there"
   ]
  },
  {
   "cell_type": "code",
   "execution_count": 148,
   "id": "80471084",
   "metadata": {},
   "outputs": [
    {
     "data": {
      "text/plain": [
       "{'a': ['apple'], 'b': ['bee']}"
      ]
     },
     "execution_count": 148,
     "metadata": {},
     "output_type": "execute_result"
    }
   ],
   "source": [
    "d1 = {\"a\":[\"apple\"], \"b\":[\"bee\"]}\n",
    "d1"
   ]
  },
  {
   "cell_type": "code",
   "execution_count": 149,
   "id": "72507cc1",
   "metadata": {},
   "outputs": [
    {
     "data": {
      "text/plain": [
       "{'a': ['apple', 'art'], 'b': ['bee']}"
      ]
     },
     "execution_count": 149,
     "metadata": {},
     "output_type": "execute_result"
    }
   ],
   "source": [
    "d1[\"a\"].append(\"art\")\n",
    "d1"
   ]
  },
  {
   "cell_type": "code",
   "execution_count": 150,
   "id": "fe4e34b4",
   "metadata": {},
   "outputs": [
    {
     "ename": "KeyError",
     "evalue": "'c'",
     "output_type": "error",
     "traceback": [
      "\u001b[0;31m---------------------------------------------------------------------------\u001b[0m",
      "\u001b[0;31mKeyError\u001b[0m                                  Traceback (most recent call last)",
      "Cell \u001b[0;32mIn[150], line 1\u001b[0m\n\u001b[0;32m----> 1\u001b[0m d1[\u001b[38;5;124m\"\u001b[39m\u001b[38;5;124mc\u001b[39m\u001b[38;5;124m\"\u001b[39m]\u001b[38;5;241m.\u001b[39mappend(\u001b[38;5;124m\"\u001b[39m\u001b[38;5;124mcar\u001b[39m\u001b[38;5;124m\"\u001b[39m)\n\u001b[1;32m      2\u001b[0m d1\n",
      "\u001b[0;31mKeyError\u001b[0m: 'c'"
     ]
    }
   ],
   "source": [
    "d1[\"c\"].append(\"car\") #c is not a key for any element so youll get a mistake, thats why you need the default value\n",
    "d1"
   ]
  },
  {
   "cell_type": "code",
   "execution_count": 134,
   "id": "488539ea",
   "metadata": {},
   "outputs": [],
   "source": [
    "d1.setdefault(\"a\", []).append(\"atom\") #a is in the dictionary, so it will append the word to the existing list in the dicitonary"
   ]
  },
  {
   "cell_type": "code",
   "execution_count": 135,
   "id": "cc10a9e6",
   "metadata": {},
   "outputs": [
    {
     "data": {
      "text/plain": [
       "{'a': ['apple', 'atom'], 'b': ['bee']}"
      ]
     },
     "execution_count": 135,
     "metadata": {},
     "output_type": "execute_result"
    }
   ],
   "source": [
    "d1"
   ]
  },
  {
   "cell_type": "code",
   "execution_count": 136,
   "id": "ead92ab4",
   "metadata": {},
   "outputs": [],
   "source": [
    "d1.setdefault(\"c\", []).append(\"car\") #c is not in the dictionary so it will create a new empty list [] and append the word to this new dictionary"
   ]
  },
  {
   "cell_type": "code",
   "execution_count": 137,
   "id": "5aeeef67",
   "metadata": {},
   "outputs": [
    {
     "data": {
      "text/plain": [
       "{'a': ['apple', 'atom'], 'b': ['bee'], 'c': ['car']}"
      ]
     },
     "execution_count": 137,
     "metadata": {},
     "output_type": "execute_result"
    }
   ],
   "source": [
    "d1"
   ]
  },
  {
   "cell_type": "markdown",
   "id": "e921d03b",
   "metadata": {},
   "source": [
    "We can also set elements using the class defauldict"
   ]
  },
  {
   "cell_type": "code",
   "execution_count": 138,
   "id": "3322e81a",
   "metadata": {},
   "outputs": [],
   "source": [
    "from collections import defaultdict\n",
    "d1 = defaultdict(list)"
   ]
  },
  {
   "cell_type": "code",
   "execution_count": 139,
   "id": "451070ff",
   "metadata": {},
   "outputs": [],
   "source": [
    "d1[\"a\"].append(\"apple\") #even if \"a\" is not in the dictionary, it wil create the new list"
   ]
  },
  {
   "cell_type": "code",
   "execution_count": 140,
   "id": "d53ff0f6",
   "metadata": {},
   "outputs": [
    {
     "data": {
      "text/plain": [
       "defaultdict(list, {'a': ['apple']})"
      ]
     },
     "execution_count": 140,
     "metadata": {},
     "output_type": "execute_result"
    }
   ],
   "source": [
    "d1"
   ]
  },
  {
   "cell_type": "code",
   "execution_count": 141,
   "id": "d63de4d4",
   "metadata": {},
   "outputs": [],
   "source": [
    "d1[\"a\"].append(\"atom\")"
   ]
  },
  {
   "cell_type": "code",
   "execution_count": 142,
   "id": "59777b0c",
   "metadata": {},
   "outputs": [
    {
     "data": {
      "text/plain": [
       "defaultdict(list, {'a': ['apple', 'atom']})"
      ]
     },
     "execution_count": 142,
     "metadata": {},
     "output_type": "execute_result"
    }
   ],
   "source": [
    "d1"
   ]
  },
  {
   "cell_type": "markdown",
   "id": "f89a82b2",
   "metadata": {},
   "source": [
    "## Set"
   ]
  },
  {
   "cell_type": "markdown",
   "id": "52299478",
   "metadata": {},
   "source": [
    "Ordered collection of unique elements "
   ]
  },
  {
   "cell_type": "code",
   "execution_count": 153,
   "id": "58a076d1",
   "metadata": {},
   "outputs": [
    {
     "data": {
      "text/plain": [
       "{'A', 'C', 'E', 'I', 'M', 'N', 'O', 'S', 'T'}"
      ]
     },
     "execution_count": 153,
     "metadata": {},
     "output_type": "execute_result"
    }
   ],
   "source": [
    "set(list(\"ESTACIONAMIENTO\"))"
   ]
  },
  {
   "cell_type": "code",
   "execution_count": 154,
   "id": "d3983337",
   "metadata": {},
   "outputs": [
    {
     "data": {
      "text/plain": [
       "{1, 2, 3, 4, 5, 6, 7, 8, 9}"
      ]
     },
     "execution_count": 154,
     "metadata": {},
     "output_type": "execute_result"
    }
   ],
   "source": [
    "set([6,6,5,4,3,1,2,3,2,7,9,8])"
   ]
  },
  {
   "cell_type": "markdown",
   "id": "421ba27a",
   "metadata": {},
   "source": [
    "we can do the union of two sets "
   ]
  },
  {
   "cell_type": "code",
   "execution_count": 155,
   "id": "3e761da0",
   "metadata": {},
   "outputs": [],
   "source": [
    "a = {7,5,3,1}\n",
    "b = {8,7,3,2}"
   ]
  },
  {
   "cell_type": "code",
   "execution_count": 156,
   "id": "91c10c1c",
   "metadata": {},
   "outputs": [
    {
     "data": {
      "text/plain": [
       "{1, 2, 3, 5, 7, 8}"
      ]
     },
     "execution_count": 156,
     "metadata": {},
     "output_type": "execute_result"
    }
   ],
   "source": [
    "a.union(b)"
   ]
  },
  {
   "cell_type": "code",
   "execution_count": 157,
   "id": "73860a7f",
   "metadata": {},
   "outputs": [
    {
     "data": {
      "text/plain": [
       "{1, 2, 3, 5, 7, 8}"
      ]
     },
     "execution_count": 157,
     "metadata": {},
     "output_type": "execute_result"
    }
   ],
   "source": [
    "a | b"
   ]
  },
  {
   "cell_type": "code",
   "execution_count": 160,
   "id": "5710e82a",
   "metadata": {},
   "outputs": [
    {
     "data": {
      "text/plain": [
       "{1, 2, 3, 5, 7, 8}"
      ]
     },
     "execution_count": 160,
     "metadata": {},
     "output_type": "execute_result"
    }
   ],
   "source": [
    "c = a.copy()\n",
    "c |= b\n",
    "c"
   ]
  },
  {
   "cell_type": "markdown",
   "id": "a31c32b1",
   "metadata": {},
   "source": [
    "We can also do the intersection"
   ]
  },
  {
   "cell_type": "code",
   "execution_count": 158,
   "id": "78fee1ee",
   "metadata": {},
   "outputs": [
    {
     "data": {
      "text/plain": [
       "{3, 7}"
      ]
     },
     "execution_count": 158,
     "metadata": {},
     "output_type": "execute_result"
    }
   ],
   "source": [
    "a.intersection(b)"
   ]
  },
  {
   "cell_type": "code",
   "execution_count": 159,
   "id": "1e60649e",
   "metadata": {
    "scrolled": true
   },
   "outputs": [
    {
     "data": {
      "text/plain": [
       "{3, 7}"
      ]
     },
     "execution_count": 159,
     "metadata": {},
     "output_type": "execute_result"
    }
   ],
   "source": [
    "a & b"
   ]
  },
  {
   "cell_type": "code",
   "execution_count": 161,
   "id": "a7d8e423",
   "metadata": {},
   "outputs": [
    {
     "data": {
      "text/plain": [
       "{3, 7}"
      ]
     },
     "execution_count": 161,
     "metadata": {},
     "output_type": "execute_result"
    }
   ],
   "source": [
    "c = a.copy()\n",
    "c &= b\n",
    "c"
   ]
  },
  {
   "cell_type": "markdown",
   "id": "9ddeacce",
   "metadata": {},
   "source": [
    "book page 60 has a list of all possible opertaors for sets "
   ]
  },
  {
   "cell_type": "markdown",
   "id": "0e992232",
   "metadata": {},
   "source": [
    "Set elements must be inmutable "
   ]
  },
  {
   "cell_type": "code",
   "execution_count": 162,
   "id": "18cc7825",
   "metadata": {},
   "outputs": [
    {
     "data": {
      "text/plain": [
       "{(1, 2, 3, 4)}"
      ]
     },
     "execution_count": 162,
     "metadata": {},
     "output_type": "execute_result"
    }
   ],
   "source": [
    "{tuple([1,2,3,4])}"
   ]
  },
  {
   "cell_type": "markdown",
   "id": "360317ee",
   "metadata": {},
   "source": [
    "You can check if a set is a subset or a superset "
   ]
  },
  {
   "cell_type": "code",
   "execution_count": 163,
   "id": "2eaab154",
   "metadata": {},
   "outputs": [],
   "source": [
    "a_set = {1,2,3,4,5}"
   ]
  },
  {
   "cell_type": "code",
   "execution_count": 164,
   "id": "a8912d59",
   "metadata": {},
   "outputs": [
    {
     "data": {
      "text/plain": [
       "True"
      ]
     },
     "execution_count": 164,
     "metadata": {},
     "output_type": "execute_result"
    }
   ],
   "source": [
    "{1,2,3}.issubset(a_set)"
   ]
  },
  {
   "cell_type": "code",
   "execution_count": 165,
   "id": "f35c9a21",
   "metadata": {},
   "outputs": [
    {
     "data": {
      "text/plain": [
       "True"
      ]
     },
     "execution_count": 165,
     "metadata": {},
     "output_type": "execute_result"
    }
   ],
   "source": [
    "{1,2,3,4,5,6,7}.issuperset(a_set)"
   ]
  },
  {
   "cell_type": "markdown",
   "id": "36f49812",
   "metadata": {},
   "source": [
    "sets are iqual iff contents are equal "
   ]
  },
  {
   "cell_type": "code",
   "execution_count": 166,
   "id": "f0c183b1",
   "metadata": {},
   "outputs": [
    {
     "data": {
      "text/plain": [
       "True"
      ]
     },
     "execution_count": 166,
     "metadata": {},
     "output_type": "execute_result"
    }
   ],
   "source": [
    "a_set = {1,2,3,4,5}\n",
    "b_set = {1,2,3,4,5}\n",
    "a_set == b_set"
   ]
  },
  {
   "cell_type": "markdown",
   "id": "bef74e88",
   "metadata": {},
   "source": [
    "## Built in sequence functions "
   ]
  },
  {
   "cell_type": "markdown",
   "id": "21ce53c0",
   "metadata": {},
   "source": [
    "### enumerate"
   ]
  },
  {
   "cell_type": "markdown",
   "id": "d22f9eef",
   "metadata": {},
   "source": [
    "We can iterate over a sequence "
   ]
  },
  {
   "cell_type": "code",
   "execution_count": 167,
   "id": "50547cfd",
   "metadata": {},
   "outputs": [
    {
     "name": "stdout",
     "output_type": "stream",
     "text": [
      "0 A\n",
      "1 B\n",
      "2 C\n",
      "3 D\n",
      "4 E\n"
     ]
    }
   ],
   "source": [
    "collection = list(\"ABCDE\")\n",
    "for index, value in enumerate(collection):\n",
    "    print(index, value)"
   ]
  },
  {
   "cell_type": "markdown",
   "id": "5b648277",
   "metadata": {},
   "source": [
    "### sorted "
   ]
  },
  {
   "cell_type": "markdown",
   "id": "ec51cc95",
   "metadata": {},
   "source": [
    "We can get a sorted list of element of any sequence "
   ]
  },
  {
   "cell_type": "code",
   "execution_count": 169,
   "id": "1f834d3f",
   "metadata": {},
   "outputs": [
    {
     "data": {
      "text/plain": [
       "['A', 'C', 'E', 'G', 'I', 'L', 'M', 'O', 'R', 'U']"
      ]
     },
     "execution_count": 169,
     "metadata": {},
     "output_type": "execute_result"
    }
   ],
   "source": [
    "sorted(tuple(\"MURCIELAGO\"))"
   ]
  },
  {
   "cell_type": "code",
   "execution_count": 170,
   "id": "8524a0f7",
   "metadata": {},
   "outputs": [
    {
     "data": {
      "text/plain": [
       "['2', '3', '4', '5', '7', '8', '9']"
      ]
     },
     "execution_count": 170,
     "metadata": {},
     "output_type": "execute_result"
    }
   ],
   "source": [
    "sorted(set(\"77732894582735\"))"
   ]
  },
  {
   "cell_type": "markdown",
   "id": "b8defb7e",
   "metadata": {},
   "source": [
    "### zip"
   ]
  },
  {
   "cell_type": "markdown",
   "id": "fc522ea6",
   "metadata": {},
   "source": [
    "zip pairs elements and returns a list of tuples "
   ]
  },
  {
   "cell_type": "code",
   "execution_count": 173,
   "id": "1275fe85",
   "metadata": {
    "scrolled": true
   },
   "outputs": [
    {
     "data": {
      "text/plain": [
       "[('B', 1), ('D', 2), ('A', 3), ('C', 4)]"
      ]
     },
     "execution_count": 173,
     "metadata": {},
     "output_type": "execute_result"
    }
   ],
   "source": [
    "list(zip(set(\"ABCD\"),[1,2,3,4]))"
   ]
  },
  {
   "cell_type": "code",
   "execution_count": 175,
   "id": "7eba56e9",
   "metadata": {},
   "outputs": [
    {
     "data": {
      "text/plain": [
       "[('B', 1, True), ('D', 2, False)]"
      ]
     },
     "execution_count": 175,
     "metadata": {},
     "output_type": "execute_result"
    }
   ],
   "source": [
    "list(zip(set(\"ABCD\"),[1,2,3,4], (True, False)))"
   ]
  },
  {
   "cell_type": "markdown",
   "id": "5028ad4e",
   "metadata": {},
   "source": [
    "### reversed"
   ]
  },
  {
   "cell_type": "markdown",
   "id": "7528bcba",
   "metadata": {},
   "source": [
    "iterates over the elements of a sequence in reverse order "
   ]
  },
  {
   "cell_type": "code",
   "execution_count": 178,
   "id": "229c28d8",
   "metadata": {},
   "outputs": [
    {
     "data": {
      "text/plain": [
       "[0, 1, 2, 3, 4, 5, 6, 7, 8, 9]"
      ]
     },
     "execution_count": 178,
     "metadata": {},
     "output_type": "execute_result"
    }
   ],
   "source": [
    "list(range(10))"
   ]
  },
  {
   "cell_type": "code",
   "execution_count": 179,
   "id": "aa308f36",
   "metadata": {},
   "outputs": [
    {
     "data": {
      "text/plain": [
       "[9, 8, 7, 6, 5, 4, 3, 2, 1, 0]"
      ]
     },
     "execution_count": 179,
     "metadata": {},
     "output_type": "execute_result"
    }
   ],
   "source": [
    "list(reversed(range(10)))"
   ]
  },
  {
   "cell_type": "markdown",
   "id": "99023976",
   "metadata": {},
   "source": [
    "## List, Set and Dictonary Comprehensions "
   ]
  },
  {
   "cell_type": "markdown",
   "id": "a716167a",
   "metadata": {},
   "source": [
    "We can create a list given a collection, this new list can modify and filter the origianl collection "
   ]
  },
  {
   "cell_type": "code",
   "execution_count": 181,
   "id": "ecced09e",
   "metadata": {},
   "outputs": [
    {
     "data": {
      "text/plain": [
       "['BAT', 'CAR', 'DOVE', 'PYTHON']"
      ]
     },
     "execution_count": 181,
     "metadata": {},
     "output_type": "execute_result"
    }
   ],
   "source": [
    "strings = [\"a\", \"as\", \"bat\", \"car\", \"dove\", \"python\"]\n",
    "[x.upper() for x in strings if len(x)>2]"
   ]
  },
  {
   "cell_type": "markdown",
   "id": "a05d99b8",
   "metadata": {},
   "source": [
    "We can also create a set"
   ]
  },
  {
   "cell_type": "code",
   "execution_count": 184,
   "id": "14c6bb5f",
   "metadata": {},
   "outputs": [
    {
     "data": {
      "text/plain": [
       "{3, 4, 6}"
      ]
     },
     "execution_count": 184,
     "metadata": {},
     "output_type": "execute_result"
    }
   ],
   "source": [
    "strings = [\"a\", \"as\", \"bat\", \"car\", \"dove\", \"python\"]\n",
    "{len(x) for x in strings if len(x)>2}"
   ]
  },
  {
   "cell_type": "markdown",
   "id": "36bad8ae",
   "metadata": {},
   "source": [
    "If we dont want to filter we can just use the map function"
   ]
  },
  {
   "cell_type": "code",
   "execution_count": 185,
   "id": "4adcd785",
   "metadata": {},
   "outputs": [
    {
     "data": {
      "text/plain": [
       "{1, 2, 3, 4, 6}"
      ]
     },
     "execution_count": 185,
     "metadata": {},
     "output_type": "execute_result"
    }
   ],
   "source": [
    "strings = [\"a\", \"as\", \"bat\", \"car\", \"dove\", \"python\"]\n",
    "set(map(len, strings))"
   ]
  },
  {
   "cell_type": "markdown",
   "id": "12996c0f",
   "metadata": {},
   "source": [
    "We can also create dictionaries"
   ]
  },
  {
   "cell_type": "code",
   "execution_count": 188,
   "id": "0b110f55",
   "metadata": {},
   "outputs": [
    {
     "data": {
      "text/plain": [
       "[(0, 'a'), (1, 'as'), (2, 'bat'), (3, 'car'), (4, 'dove'), (5, 'python')]"
      ]
     },
     "execution_count": 188,
     "metadata": {},
     "output_type": "execute_result"
    }
   ],
   "source": [
    "strings = [\"a\", \"as\", \"bat\", \"car\", \"dove\", \"python\"]\n",
    "list(enumerate(strings))"
   ]
  },
  {
   "cell_type": "code",
   "execution_count": 189,
   "id": "237d9e6e",
   "metadata": {},
   "outputs": [
    {
     "data": {
      "text/plain": [
       "{'a': 0, 'as': 1, 'bat': 2, 'car': 3, 'dove': 4, 'python': 5}"
      ]
     },
     "execution_count": 189,
     "metadata": {},
     "output_type": "execute_result"
    }
   ],
   "source": [
    "{value: index for index, value in enumerate(strings)}"
   ]
  },
  {
   "cell_type": "markdown",
   "id": "55832d21",
   "metadata": {},
   "source": [
    "### Nested list comprehensions "
   ]
  },
  {
   "cell_type": "code",
   "execution_count": 196,
   "id": "b98a97a2",
   "metadata": {},
   "outputs": [],
   "source": [
    "all_data = [[\"John\", \"Emily\", \"Michael\", \"Mary\", \"Steven\", \"Martha\"],\n",
    "            [\"Maria\", \"Juan\", \"Javier\", \"Natalia\", \"Pilar\"]]"
   ]
  },
  {
   "cell_type": "code",
   "execution_count": 197,
   "id": "91b53e2a",
   "metadata": {},
   "outputs": [
    {
     "data": {
      "text/plain": [
       "['MARTHA', 'MARIA', 'NATALIA']"
      ]
     },
     "execution_count": 197,
     "metadata": {},
     "output_type": "execute_result"
    }
   ],
   "source": [
    "[name.upper() for listNames in all_data for name in listNames if name.count(\"a\") >= 2]"
   ]
  },
  {
   "cell_type": "code",
   "execution_count": 198,
   "id": "205dfba7",
   "metadata": {},
   "outputs": [
    {
     "data": {
      "text/plain": [
       "[['MARTHA'], ['MARIA', 'NATALIA']]"
      ]
     },
     "execution_count": 198,
     "metadata": {},
     "output_type": "execute_result"
    }
   ],
   "source": [
    "[[name.upper() for name in listNames if name.count(\"a\") >= 2] for listNames in all_data ]"
   ]
  },
  {
   "cell_type": "code",
   "execution_count": null,
   "id": "31507048",
   "metadata": {},
   "outputs": [],
   "source": []
  },
  {
   "cell_type": "code",
   "execution_count": 199,
   "id": "c865805d",
   "metadata": {},
   "outputs": [],
   "source": [
    "some_tuples = [(1, 2, 3), (4, 5, 6), (7, 8, 9)]"
   ]
  },
  {
   "cell_type": "code",
   "execution_count": 200,
   "id": "a1163202",
   "metadata": {},
   "outputs": [
    {
     "data": {
      "text/plain": [
       "[1, 2, 3, 4, 5, 6, 7, 8, 9]"
      ]
     },
     "execution_count": 200,
     "metadata": {},
     "output_type": "execute_result"
    }
   ],
   "source": [
    "[x for tup in some_tuples for x in tup]"
   ]
  },
  {
   "cell_type": "code",
   "execution_count": 201,
   "id": "5c22d93d",
   "metadata": {},
   "outputs": [
    {
     "data": {
      "text/plain": [
       "[[1, 2, 3], [4, 5, 6], [7, 8, 9]]"
      ]
     },
     "execution_count": 201,
     "metadata": {},
     "output_type": "execute_result"
    }
   ],
   "source": [
    "[[x for x in tup] for tup in some_tuples ]"
   ]
  },
  {
   "cell_type": "code",
   "execution_count": null,
   "id": "c2722f3b",
   "metadata": {},
   "outputs": [],
   "source": []
  },
  {
   "cell_type": "code",
   "execution_count": null,
   "id": "b54447ad",
   "metadata": {},
   "outputs": [],
   "source": []
  },
  {
   "cell_type": "code",
   "execution_count": null,
   "id": "07cb9b33",
   "metadata": {},
   "outputs": [],
   "source": []
  },
  {
   "cell_type": "code",
   "execution_count": null,
   "id": "508a07b7",
   "metadata": {},
   "outputs": [],
   "source": []
  },
  {
   "cell_type": "code",
   "execution_count": null,
   "id": "9deff28b",
   "metadata": {},
   "outputs": [],
   "source": []
  },
  {
   "cell_type": "code",
   "execution_count": null,
   "id": "1382e193",
   "metadata": {},
   "outputs": [],
   "source": []
  }
 ],
 "metadata": {
  "kernelspec": {
   "display_name": "Python 3 (ipykernel)",
   "language": "python",
   "name": "python3"
  },
  "language_info": {
   "codemirror_mode": {
    "name": "ipython",
    "version": 3
   },
   "file_extension": ".py",
   "mimetype": "text/x-python",
   "name": "python",
   "nbconvert_exporter": "python",
   "pygments_lexer": "ipython3",
   "version": "3.11.5"
  }
 },
 "nbformat": 4,
 "nbformat_minor": 5
}
