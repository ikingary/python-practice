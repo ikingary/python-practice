{
 "cells": [
  {
   "cell_type": "markdown",
   "id": "d90d9fe6",
   "metadata": {},
   "source": [
    "# Data Structures and Sequences "
   ]
  },
  {
   "cell_type": "markdown",
   "id": "a849f474",
   "metadata": {},
   "source": [
    "## Tuples"
   ]
  },
  {
   "cell_type": "code",
   "execution_count": 54,
   "id": "bf6e2192",
   "metadata": {},
   "outputs": [
    {
     "data": {
      "text/plain": [
       "(1, 2, 3)"
      ]
     },
     "execution_count": 54,
     "metadata": {},
     "output_type": "execute_result"
    }
   ],
   "source": [
    "a = (1,2,3)\n",
    "a"
   ]
  },
  {
   "cell_type": "markdown",
   "id": "8429625c",
   "metadata": {},
   "source": [
    "Tuples are inmutable, means that once created we cannot modify them"
   ]
  },
  {
   "cell_type": "code",
   "execution_count": 55,
   "id": "95babb95",
   "metadata": {},
   "outputs": [
    {
     "ename": "TypeError",
     "evalue": "'tuple' object does not support item assignment",
     "output_type": "error",
     "traceback": [
      "\u001b[0;31m---------------------------------------------------------------------------\u001b[0m",
      "\u001b[0;31mTypeError\u001b[0m                                 Traceback (most recent call last)",
      "Cell \u001b[0;32mIn[55], line 1\u001b[0m\n\u001b[0;32m----> 1\u001b[0m a[\u001b[38;5;241m0\u001b[39m] \u001b[38;5;241m=\u001b[39m \u001b[38;5;241m0\u001b[39m\n",
      "\u001b[0;31mTypeError\u001b[0m: 'tuple' object does not support item assignment"
     ]
    }
   ],
   "source": [
    "a[0] = 0"
   ]
  },
  {
   "cell_type": "markdown",
   "id": "62337193",
   "metadata": {},
   "source": [
    "Variables are just names of objects. Here a and b are two different names for the same object"
   ]
  },
  {
   "cell_type": "code",
   "execution_count": 56,
   "id": "b6d2e799",
   "metadata": {},
   "outputs": [
    {
     "data": {
      "text/plain": [
       "(1, 2, 3)"
      ]
     },
     "execution_count": 56,
     "metadata": {},
     "output_type": "execute_result"
    }
   ],
   "source": [
    "b = a\n",
    "b"
   ]
  },
  {
   "cell_type": "code",
   "execution_count": 57,
   "id": "720c8bff",
   "metadata": {},
   "outputs": [
    {
     "data": {
      "text/plain": [
       "True"
      ]
     },
     "execution_count": 57,
     "metadata": {},
     "output_type": "execute_result"
    }
   ],
   "source": [
    "b is a"
   ]
  },
  {
   "cell_type": "markdown",
   "id": "8ae5f42f",
   "metadata": {},
   "source": [
    "Here b is a different object that is identical to the object named a "
   ]
  },
  {
   "cell_type": "code",
   "execution_count": 58,
   "id": "5bb1da97",
   "metadata": {},
   "outputs": [
    {
     "ename": "TypeError",
     "evalue": "'tuple' object is not callable",
     "output_type": "error",
     "traceback": [
      "\u001b[0;31m---------------------------------------------------------------------------\u001b[0m",
      "\u001b[0;31mTypeError\u001b[0m                                 Traceback (most recent call last)",
      "Cell \u001b[0;32mIn[58], line 1\u001b[0m\n\u001b[0;32m----> 1\u001b[0m b \u001b[38;5;241m=\u001b[39m \u001b[38;5;28mlist\u001b[39m(a)\n\u001b[1;32m      2\u001b[0m b \u001b[38;5;241m=\u001b[39m \u001b[38;5;28mtuple\u001b[39m(b)\n",
      "\u001b[0;31mTypeError\u001b[0m: 'tuple' object is not callable"
     ]
    }
   ],
   "source": [
    "b = list(a)\n",
    "b = tuple(b)"
   ]
  },
  {
   "cell_type": "code",
   "execution_count": 16,
   "id": "1b446f27",
   "metadata": {},
   "outputs": [
    {
     "data": {
      "text/plain": [
       "False"
      ]
     },
     "execution_count": 16,
     "metadata": {},
     "output_type": "execute_result"
    }
   ],
   "source": [
    "b is a"
   ]
  },
  {
   "cell_type": "code",
   "execution_count": 17,
   "id": "e9cde1d1",
   "metadata": {},
   "outputs": [
    {
     "data": {
      "text/plain": [
       "True"
      ]
     },
     "execution_count": 17,
     "metadata": {},
     "output_type": "execute_result"
    }
   ],
   "source": [
    "b == a"
   ]
  },
  {
   "cell_type": "markdown",
   "id": "c5692775",
   "metadata": {},
   "source": [
    "We can convert sequence and iterators to tuples"
   ]
  },
  {
   "cell_type": "code",
   "execution_count": 6,
   "id": "290c70c4",
   "metadata": {},
   "outputs": [
    {
     "data": {
      "text/plain": [
       "(1, 2, 3)"
      ]
     },
     "execution_count": 6,
     "metadata": {},
     "output_type": "execute_result"
    }
   ],
   "source": [
    "tuple([1,2,3])"
   ]
  },
  {
   "cell_type": "code",
   "execution_count": 7,
   "id": "a0a13e33",
   "metadata": {},
   "outputs": [
    {
     "data": {
      "text/plain": [
       "('F', 'G', 'H', 'K', 'J', 'L')"
      ]
     },
     "execution_count": 7,
     "metadata": {},
     "output_type": "execute_result"
    }
   ],
   "source": [
    "tuple(\"FGHKJL\")"
   ]
  },
  {
   "cell_type": "markdown",
   "id": "6224914a",
   "metadata": {},
   "source": [
    "We can acces values of tuples using square brackets "
   ]
  },
  {
   "cell_type": "code",
   "execution_count": 6,
   "id": "05a792a5",
   "metadata": {},
   "outputs": [
    {
     "data": {
      "text/plain": [
       "(3, 4, 5)"
      ]
     },
     "execution_count": 6,
     "metadata": {},
     "output_type": "execute_result"
    }
   ],
   "source": [
    "a = (1,2,(3,4,5))\n",
    "a[2]"
   ]
  },
  {
   "cell_type": "code",
   "execution_count": 7,
   "id": "982d8f16",
   "metadata": {},
   "outputs": [
    {
     "data": {
      "text/plain": [
       "3"
      ]
     },
     "execution_count": 7,
     "metadata": {},
     "output_type": "execute_result"
    }
   ],
   "source": [
    "a[2][0]"
   ]
  },
  {
   "cell_type": "markdown",
   "id": "dfde0eb5",
   "metadata": {},
   "source": [
    "We can sum tuples "
   ]
  },
  {
   "cell_type": "code",
   "execution_count": 14,
   "id": "c4d006f0",
   "metadata": {},
   "outputs": [],
   "source": [
    "a = (1, 2, (3,4,5), \"A\", True)\n",
    "b = (6, 7, (8,9,10), \"B\", False)"
   ]
  },
  {
   "cell_type": "code",
   "execution_count": 15,
   "id": "24a52c1c",
   "metadata": {},
   "outputs": [
    {
     "data": {
      "text/plain": [
       "(1, 2, (3, 4, 5), 'A', True, 6, 7, (8, 9, 10), 'B', False)"
      ]
     },
     "execution_count": 15,
     "metadata": {},
     "output_type": "execute_result"
    }
   ],
   "source": [
    "a + b"
   ]
  },
  {
   "cell_type": "markdown",
   "id": "e3a0a2b8",
   "metadata": {},
   "source": [
    "We can repeat the values of the tuple and get a larger tuple "
   ]
  },
  {
   "cell_type": "code",
   "execution_count": 16,
   "id": "9c1557aa",
   "metadata": {},
   "outputs": [],
   "source": [
    "a = (1, 2, (3, 4, 5))"
   ]
  },
  {
   "cell_type": "code",
   "execution_count": 17,
   "id": "31cd5577",
   "metadata": {},
   "outputs": [
    {
     "data": {
      "text/plain": [
       "(1, 2, (3, 4, 5), 1, 2, (3, 4, 5), 1, 2, (3, 4, 5))"
      ]
     },
     "execution_count": 17,
     "metadata": {},
     "output_type": "execute_result"
    }
   ],
   "source": [
    "a*3"
   ]
  },
  {
   "cell_type": "markdown",
   "id": "95f8a089",
   "metadata": {},
   "source": [
    "We can unpack the values of the tuples "
   ]
  },
  {
   "cell_type": "code",
   "execution_count": 27,
   "id": "5a31b209",
   "metadata": {},
   "outputs": [
    {
     "data": {
      "text/plain": [
       "(1, 2, (3, 4, 5))"
      ]
     },
     "execution_count": 27,
     "metadata": {},
     "output_type": "execute_result"
    }
   ],
   "source": [
    "tup = (1, 2, (3, 4, 5))\n",
    "a, b, (c, d, f) = tup\n",
    "tup"
   ]
  },
  {
   "cell_type": "code",
   "execution_count": 28,
   "id": "9c9d6ef3",
   "metadata": {},
   "outputs": [
    {
     "data": {
      "text/plain": [
       "5"
      ]
     },
     "execution_count": 28,
     "metadata": {},
     "output_type": "execute_result"
    }
   ],
   "source": [
    "f"
   ]
  },
  {
   "cell_type": "markdown",
   "id": "1193f561",
   "metadata": {},
   "source": [
    "We can swap variables"
   ]
  },
  {
   "cell_type": "code",
   "execution_count": 32,
   "id": "953fee14",
   "metadata": {},
   "outputs": [],
   "source": [
    "a, b = 1, 2"
   ]
  },
  {
   "cell_type": "code",
   "execution_count": 33,
   "id": "bf44a8a8",
   "metadata": {},
   "outputs": [
    {
     "data": {
      "text/plain": [
       "1"
      ]
     },
     "execution_count": 33,
     "metadata": {},
     "output_type": "execute_result"
    }
   ],
   "source": [
    "a"
   ]
  },
  {
   "cell_type": "code",
   "execution_count": 34,
   "id": "96d9e772",
   "metadata": {},
   "outputs": [
    {
     "data": {
      "text/plain": [
       "2"
      ]
     },
     "execution_count": 34,
     "metadata": {},
     "output_type": "execute_result"
    }
   ],
   "source": [
    "b"
   ]
  },
  {
   "cell_type": "code",
   "execution_count": 35,
   "id": "1bb6ded5",
   "metadata": {},
   "outputs": [],
   "source": [
    "a, b = b, a"
   ]
  },
  {
   "cell_type": "code",
   "execution_count": 36,
   "id": "a380b768",
   "metadata": {},
   "outputs": [
    {
     "data": {
      "text/plain": [
       "2"
      ]
     },
     "execution_count": 36,
     "metadata": {},
     "output_type": "execute_result"
    }
   ],
   "source": [
    "a"
   ]
  },
  {
   "cell_type": "code",
   "execution_count": 37,
   "id": "bbbb573f",
   "metadata": {},
   "outputs": [
    {
     "data": {
      "text/plain": [
       "1"
      ]
     },
     "execution_count": 37,
     "metadata": {},
     "output_type": "execute_result"
    }
   ],
   "source": [
    "b"
   ]
  },
  {
   "cell_type": "markdown",
   "id": "58b9aab7",
   "metadata": {},
   "source": [
    "We can save the n next values of a tuple inside a single variable"
   ]
  },
  {
   "cell_type": "code",
   "execution_count": 38,
   "id": "8770956e",
   "metadata": {},
   "outputs": [],
   "source": [
    "values = 1, 2, 3, 4, 5\n",
    "a, b, *rest = values "
   ]
  },
  {
   "cell_type": "code",
   "execution_count": 39,
   "id": "fe7cb2d7",
   "metadata": {},
   "outputs": [
    {
     "data": {
      "text/plain": [
       "[3, 4, 5]"
      ]
     },
     "execution_count": 39,
     "metadata": {},
     "output_type": "execute_result"
    }
   ],
   "source": [
    "rest"
   ]
  },
  {
   "cell_type": "markdown",
   "id": "1a173f30",
   "metadata": {},
   "source": [
    "We can also discard the next n values of a tuple "
   ]
  },
  {
   "cell_type": "code",
   "execution_count": 40,
   "id": "cd237bac",
   "metadata": {},
   "outputs": [],
   "source": [
    "values = 1, 2, 3, 4, 5\n",
    "a, b, *_ = values "
   ]
  },
  {
   "cell_type": "markdown",
   "id": "ae94d687",
   "metadata": {},
   "source": [
    "We can count the number of repeated values "
   ]
  },
  {
   "cell_type": "code",
   "execution_count": 41,
   "id": "28c3c3dc",
   "metadata": {},
   "outputs": [],
   "source": [
    "a = (1, 2, 2, 3, 3, 3)"
   ]
  },
  {
   "cell_type": "code",
   "execution_count": 42,
   "id": "952f4193",
   "metadata": {},
   "outputs": [
    {
     "data": {
      "text/plain": [
       "3"
      ]
     },
     "execution_count": 42,
     "metadata": {},
     "output_type": "execute_result"
    }
   ],
   "source": [
    "a.count(3)"
   ]
  },
  {
   "cell_type": "markdown",
   "id": "1711346c",
   "metadata": {},
   "source": [
    "## List"
   ]
  },
  {
   "cell_type": "markdown",
   "id": "2b08eac8",
   "metadata": {},
   "source": [
    "List are mutable, we can modify them. Tuples can't be modified "
   ]
  },
  {
   "cell_type": "code",
   "execution_count": 1,
   "id": "6c20ace1",
   "metadata": {},
   "outputs": [
    {
     "data": {
      "text/plain": [
       "[1, (2, 3), None, True]"
      ]
     },
     "execution_count": 1,
     "metadata": {},
     "output_type": "execute_result"
    }
   ],
   "source": [
    "a_list = [1, (2,3), None, True]\n",
    "a_list"
   ]
  },
  {
   "cell_type": "code",
   "execution_count": 2,
   "id": "a4805df7",
   "metadata": {},
   "outputs": [
    {
     "data": {
      "text/plain": [
       "[1, 'A', None, True]"
      ]
     },
     "execution_count": 2,
     "metadata": {},
     "output_type": "execute_result"
    }
   ],
   "source": [
    "a_list[1] = \"A\"\n",
    "a_list"
   ]
  },
  {
   "cell_type": "markdown",
   "id": "648e2101",
   "metadata": {},
   "source": [
    "We can convert sequence and iterators to lists"
   ]
  },
  {
   "cell_type": "code",
   "execution_count": 3,
   "id": "327517bb",
   "metadata": {},
   "outputs": [
    {
     "data": {
      "text/plain": [
       "['A', ',', 'B', ',', 'C']"
      ]
     },
     "execution_count": 3,
     "metadata": {},
     "output_type": "execute_result"
    }
   ],
   "source": [
    "a = \"A,B,C\"\n",
    "list(a)"
   ]
  },
  {
   "cell_type": "code",
   "execution_count": 5,
   "id": "283f99a7",
   "metadata": {},
   "outputs": [
    {
     "data": {
      "text/plain": [
       "['foo', 'bar', 'baz']"
      ]
     },
     "execution_count": 5,
     "metadata": {},
     "output_type": "execute_result"
    }
   ],
   "source": [
    "tup = (\"foo\", \"bar\", \"baz\")\n",
    "list(tup)"
   ]
  },
  {
   "cell_type": "markdown",
   "id": "c6fad164",
   "metadata": {},
   "source": [
    "### Adding and removing elements"
   ]
  },
  {
   "cell_type": "markdown",
   "id": "59025c71",
   "metadata": {},
   "source": [
    "We can append elemts to the end of a list "
   ]
  },
  {
   "cell_type": "code",
   "execution_count": 6,
   "id": "fa2f58d8",
   "metadata": {},
   "outputs": [],
   "source": [
    "b_list = [\"A\", \"B\", \"C\"]"
   ]
  },
  {
   "cell_type": "code",
   "execution_count": 7,
   "id": "5d773f26",
   "metadata": {},
   "outputs": [
    {
     "data": {
      "text/plain": [
       "['A', 'B', 'C', 'D']"
      ]
     },
     "execution_count": 7,
     "metadata": {},
     "output_type": "execute_result"
    }
   ],
   "source": [
    "b_list.append(\"D\")\n",
    "b_list"
   ]
  },
  {
   "cell_type": "markdown",
   "id": "0dbfc43c",
   "metadata": {},
   "source": [
    "We can insert elements in a specific part of a list "
   ]
  },
  {
   "cell_type": "code",
   "execution_count": 9,
   "id": "cc27d565",
   "metadata": {},
   "outputs": [
    {
     "data": {
      "text/plain": [
       "['A', 13, 13, 'B', 'C', 'D']"
      ]
     },
     "execution_count": 9,
     "metadata": {},
     "output_type": "execute_result"
    }
   ],
   "source": [
    "b_list.insert(1, 13)\n",
    "b_list"
   ]
  },
  {
   "cell_type": "markdown",
   "id": "3d3f874d",
   "metadata": {},
   "source": [
    "We can remove any element of a list given their index "
   ]
  },
  {
   "cell_type": "code",
   "execution_count": 10,
   "id": "258d0e04",
   "metadata": {},
   "outputs": [
    {
     "data": {
      "text/plain": [
       "'D'"
      ]
     },
     "execution_count": 10,
     "metadata": {},
     "output_type": "execute_result"
    }
   ],
   "source": [
    "b_list.pop()"
   ]
  },
  {
   "cell_type": "code",
   "execution_count": 11,
   "id": "c1c5e3b9",
   "metadata": {},
   "outputs": [
    {
     "data": {
      "text/plain": [
       "13"
      ]
     },
     "execution_count": 11,
     "metadata": {},
     "output_type": "execute_result"
    }
   ],
   "source": [
    "b_list.pop(1)"
   ]
  },
  {
   "cell_type": "code",
   "execution_count": 12,
   "id": "62aa4aad",
   "metadata": {},
   "outputs": [
    {
     "data": {
      "text/plain": [
       "['A', 13, 'B', 'C']"
      ]
     },
     "execution_count": 12,
     "metadata": {},
     "output_type": "execute_result"
    }
   ],
   "source": [
    "b_list"
   ]
  },
  {
   "cell_type": "markdown",
   "id": "5d50e770",
   "metadata": {},
   "source": [
    "We can also remove elemts from a list using their value "
   ]
  },
  {
   "cell_type": "code",
   "execution_count": 13,
   "id": "9357721f",
   "metadata": {},
   "outputs": [],
   "source": [
    "b_list.remove(\"A\")"
   ]
  },
  {
   "cell_type": "code",
   "execution_count": 14,
   "id": "66cfd4d7",
   "metadata": {},
   "outputs": [
    {
     "data": {
      "text/plain": [
       "[13, 'B', 'C']"
      ]
     },
     "execution_count": 14,
     "metadata": {},
     "output_type": "execute_result"
    }
   ],
   "source": [
    "b_list"
   ]
  },
  {
   "cell_type": "markdown",
   "id": "3026b183",
   "metadata": {},
   "source": [
    "We can ask if an element is in the list"
   ]
  },
  {
   "cell_type": "code",
   "execution_count": 15,
   "id": "006f7f7b",
   "metadata": {},
   "outputs": [
    {
     "data": {
      "text/plain": [
       "True"
      ]
     },
     "execution_count": 15,
     "metadata": {},
     "output_type": "execute_result"
    }
   ],
   "source": [
    "13 in b_list"
   ]
  },
  {
   "cell_type": "markdown",
   "id": "bbd70582",
   "metadata": {},
   "source": [
    "### Concatenating and removing "
   ]
  },
  {
   "cell_type": "markdown",
   "id": "62ed1dc2",
   "metadata": {},
   "source": [
    "We can concatenate lists "
   ]
  },
  {
   "cell_type": "code",
   "execution_count": 16,
   "id": "dbbe0c37",
   "metadata": {},
   "outputs": [
    {
     "data": {
      "text/plain": [
       "['A', 1, 'B', 2]"
      ]
     },
     "execution_count": 16,
     "metadata": {},
     "output_type": "execute_result"
    }
   ],
   "source": [
    "a_list = [\"A\", 1]\n",
    "b_list = [\"B\", 2]\n",
    "\n",
    "a_list + b_list "
   ]
  },
  {
   "cell_type": "markdown",
   "id": "df9ae1ec",
   "metadata": {},
   "source": [
    "We can also extend an existing list, its like appending multiple elements "
   ]
  },
  {
   "cell_type": "code",
   "execution_count": 17,
   "id": "0ff1068d",
   "metadata": {},
   "outputs": [
    {
     "data": {
      "text/plain": [
       "['A', 1, 'B', 2]"
      ]
     },
     "execution_count": 17,
     "metadata": {},
     "output_type": "execute_result"
    }
   ],
   "source": [
    "a_list.extend([\"B\", 2])\n",
    "a_list"
   ]
  },
  {
   "cell_type": "markdown",
   "id": "c907b245",
   "metadata": {},
   "source": [
    "### Sorting"
   ]
  },
  {
   "cell_type": "markdown",
   "id": "c934cbfe",
   "metadata": {},
   "source": [
    "We can sort elements of a list "
   ]
  },
  {
   "cell_type": "code",
   "execution_count": 18,
   "id": "f3dbaff7",
   "metadata": {},
   "outputs": [],
   "source": [
    "a_list = [5,3,7,9,4,1]"
   ]
  },
  {
   "cell_type": "code",
   "execution_count": 20,
   "id": "f75458db",
   "metadata": {},
   "outputs": [
    {
     "data": {
      "text/plain": [
       "[1, 3, 4, 5, 7, 9]"
      ]
     },
     "execution_count": 20,
     "metadata": {},
     "output_type": "execute_result"
    }
   ],
   "source": [
    "a_list.sort()\n",
    "a_list"
   ]
  },
  {
   "cell_type": "markdown",
   "id": "c0fa769a",
   "metadata": {},
   "source": [
    "We can also sort strings by length "
   ]
  },
  {
   "cell_type": "code",
   "execution_count": 21,
   "id": "36adc877",
   "metadata": {},
   "outputs": [],
   "source": [
    "a_list = [\"BCD\", \"BCDEF\", \"A\", \"AB\"]\n",
    "a_list.sort(key=len)"
   ]
  },
  {
   "cell_type": "code",
   "execution_count": 22,
   "id": "209c9076",
   "metadata": {},
   "outputs": [
    {
     "data": {
      "text/plain": [
       "['A', 'AB', 'BCD', 'BCDEF']"
      ]
     },
     "execution_count": 22,
     "metadata": {},
     "output_type": "execute_result"
    }
   ],
   "source": [
    "a_list"
   ]
  },
  {
   "cell_type": "markdown",
   "id": "f2b5fb90",
   "metadata": {},
   "source": [
    "### Slicing"
   ]
  },
  {
   "cell_type": "markdown",
   "id": "74bfaa7e",
   "metadata": {},
   "source": [
    "We can select sections of lists "
   ]
  },
  {
   "cell_type": "code",
   "execution_count": 57,
   "id": "b1cad670",
   "metadata": {},
   "outputs": [
    {
     "data": {
      "text/plain": [
       "['H', 'E', 'L', 'L', 'O']"
      ]
     },
     "execution_count": 57,
     "metadata": {},
     "output_type": "execute_result"
    }
   ],
   "source": [
    "seq = list(\"HELLO:)\")\n",
    "seq[0:5]"
   ]
  },
  {
   "cell_type": "code",
   "execution_count": 33,
   "id": "35841aec",
   "metadata": {},
   "outputs": [
    {
     "data": {
      "text/plain": [
       "['H', 'E', 'L', 'L', 'O']"
      ]
     },
     "execution_count": 33,
     "metadata": {},
     "output_type": "execute_result"
    }
   ],
   "source": [
    "seq[:5]"
   ]
  },
  {
   "cell_type": "code",
   "execution_count": 39,
   "id": "d74b055d",
   "metadata": {},
   "outputs": [
    {
     "data": {
      "text/plain": [
       "[':', ')']"
      ]
     },
     "execution_count": 39,
     "metadata": {},
     "output_type": "execute_result"
    }
   ],
   "source": [
    "seq[5:]"
   ]
  },
  {
   "cell_type": "code",
   "execution_count": 40,
   "id": "a377edbf",
   "metadata": {},
   "outputs": [
    {
     "data": {
      "text/plain": [
       "[':', ')']"
      ]
     },
     "execution_count": 40,
     "metadata": {},
     "output_type": "execute_result"
    }
   ],
   "source": [
    "seq[-2:]"
   ]
  },
  {
   "cell_type": "code",
   "execution_count": 42,
   "id": "88a3f89a",
   "metadata": {
    "scrolled": true
   },
   "outputs": [
    {
     "data": {
      "text/plain": [
       "['H', 'E', 'L', 'L', 'O']"
      ]
     },
     "execution_count": 42,
     "metadata": {},
     "output_type": "execute_result"
    }
   ],
   "source": [
    "seq[-7:-2]"
   ]
  },
  {
   "cell_type": "markdown",
   "id": "8f021f0b",
   "metadata": {},
   "source": [
    "We can skip one elements "
   ]
  },
  {
   "cell_type": "code",
   "execution_count": 53,
   "id": "657308c7",
   "metadata": {
    "scrolled": true
   },
   "outputs": [
    {
     "data": {
      "text/plain": [
       "['H', 'L', 'O', ')']"
      ]
     },
     "execution_count": 53,
     "metadata": {},
     "output_type": "execute_result"
    }
   ],
   "source": [
    "seq[::2]"
   ]
  },
  {
   "cell_type": "markdown",
   "id": "7083beb1",
   "metadata": {},
   "source": [
    "We can reverse a sequence "
   ]
  },
  {
   "cell_type": "code",
   "execution_count": 55,
   "id": "aea1731d",
   "metadata": {},
   "outputs": [
    {
     "data": {
      "text/plain": [
       "[')', ':', 'O', 'L', 'L', 'E', 'H']"
      ]
     },
     "execution_count": 55,
     "metadata": {},
     "output_type": "execute_result"
    }
   ],
   "source": [
    "seq[::-1]"
   ]
  },
  {
   "cell_type": "markdown",
   "id": "a9f3562f",
   "metadata": {},
   "source": [
    "We can modify sections of lists "
   ]
  },
  {
   "cell_type": "code",
   "execution_count": 58,
   "id": "4670146d",
   "metadata": {},
   "outputs": [
    {
     "data": {
      "text/plain": [
       "['H', 'E', 'A', 'B', 'C', ':', ')']"
      ]
     },
     "execution_count": 58,
     "metadata": {},
     "output_type": "execute_result"
    }
   ],
   "source": [
    "seq[2:5] = list(\"ABC\")\n",
    "seq"
   ]
  },
  {
   "cell_type": "markdown",
   "id": "f6df18ad",
   "metadata": {},
   "source": [
    "## Dictionary"
   ]
  },
  {
   "cell_type": "code",
   "execution_count": 112,
   "id": "4174ee70",
   "metadata": {},
   "outputs": [
    {
     "data": {
      "text/plain": [
       "{'a': 'ABC', 'b': (1, 2, 3)}"
      ]
     },
     "execution_count": 112,
     "metadata": {},
     "output_type": "execute_result"
    }
   ],
   "source": [
    "d1 = {\"a\":\"ABC\", \"b\":(1,2,3)}\n",
    "d1"
   ]
  },
  {
   "cell_type": "code",
   "execution_count": 113,
   "id": "465a5d6c",
   "metadata": {},
   "outputs": [
    {
     "data": {
      "text/plain": [
       "'ABC'"
      ]
     },
     "execution_count": 113,
     "metadata": {},
     "output_type": "execute_result"
    }
   ],
   "source": [
    "d1[\"a\"]"
   ]
  },
  {
   "cell_type": "code",
   "execution_count": 114,
   "id": "e1490508",
   "metadata": {},
   "outputs": [
    {
     "data": {
      "text/plain": [
       "True"
      ]
     },
     "execution_count": 114,
     "metadata": {},
     "output_type": "execute_result"
    }
   ],
   "source": [
    "\"b\" in d1"
   ]
  },
  {
   "cell_type": "markdown",
   "id": "f980771b",
   "metadata": {},
   "source": [
    "We can modify dictionaries "
   ]
  },
  {
   "cell_type": "code",
   "execution_count": 115,
   "id": "b1af18d1",
   "metadata": {},
   "outputs": [
    {
     "data": {
      "text/plain": [
       "{'a': 'ABC', 'b': (1, 2, 3), 1: ['A', 'B', 'C']}"
      ]
     },
     "execution_count": 115,
     "metadata": {},
     "output_type": "execute_result"
    }
   ],
   "source": [
    "d1[1] = list(\"ABC\")\n",
    "d1"
   ]
  },
  {
   "cell_type": "markdown",
   "id": "714fd0d1",
   "metadata": {},
   "source": [
    "We can delete elements of dictionaries "
   ]
  },
  {
   "cell_type": "code",
   "execution_count": 116,
   "id": "df8992e8",
   "metadata": {},
   "outputs": [
    {
     "data": {
      "text/plain": [
       "{'a': 'ABC', 'b': (1, 2, 3), 1: ['A', 'B', 'C'], 2: 3742, 'c': 42.42}"
      ]
     },
     "execution_count": 116,
     "metadata": {},
     "output_type": "execute_result"
    }
   ],
   "source": [
    "d1[2] = 3742\n",
    "d1[\"c\"] = 42.42\n",
    "d1"
   ]
  },
  {
   "cell_type": "code",
   "execution_count": 117,
   "id": "f5f0c858",
   "metadata": {},
   "outputs": [],
   "source": [
    "del d1[\"c\"]"
   ]
  },
  {
   "cell_type": "code",
   "execution_count": 118,
   "id": "cf5f897b",
   "metadata": {},
   "outputs": [
    {
     "data": {
      "text/plain": [
       "{'a': 'ABC', 'b': (1, 2, 3), 1: ['A', 'B', 'C'], 2: 3742}"
      ]
     },
     "execution_count": 118,
     "metadata": {},
     "output_type": "execute_result"
    }
   ],
   "source": [
    "d1"
   ]
  },
  {
   "cell_type": "code",
   "execution_count": 119,
   "id": "215182c0",
   "metadata": {},
   "outputs": [
    {
     "data": {
      "text/plain": [
       "3742"
      ]
     },
     "execution_count": 119,
     "metadata": {},
     "output_type": "execute_result"
    }
   ],
   "source": [
    "d1.pop(2)"
   ]
  },
  {
   "cell_type": "code",
   "execution_count": 120,
   "id": "7c8cf28f",
   "metadata": {},
   "outputs": [
    {
     "data": {
      "text/plain": [
       "{'a': 'ABC', 'b': (1, 2, 3), 1: ['A', 'B', 'C']}"
      ]
     },
     "execution_count": 120,
     "metadata": {},
     "output_type": "execute_result"
    }
   ],
   "source": [
    "d1"
   ]
  },
  {
   "cell_type": "markdown",
   "id": "46940ae3",
   "metadata": {},
   "source": [
    "We can get the keys "
   ]
  },
  {
   "cell_type": "code",
   "execution_count": 121,
   "id": "eecd4318",
   "metadata": {},
   "outputs": [
    {
     "data": {
      "text/plain": [
       "['a', 'b', 1]"
      ]
     },
     "execution_count": 121,
     "metadata": {},
     "output_type": "execute_result"
    }
   ],
   "source": [
    "list(d1.keys())"
   ]
  },
  {
   "cell_type": "markdown",
   "id": "0104f7c0",
   "metadata": {},
   "source": [
    "We can get the values"
   ]
  },
  {
   "cell_type": "code",
   "execution_count": 122,
   "id": "43540123",
   "metadata": {},
   "outputs": [
    {
     "data": {
      "text/plain": [
       "['ABC', (1, 2, 3), ['A', 'B', 'C']]"
      ]
     },
     "execution_count": 122,
     "metadata": {},
     "output_type": "execute_result"
    }
   ],
   "source": [
    "list(d1.values())"
   ]
  },
  {
   "cell_type": "markdown",
   "id": "d94c9242",
   "metadata": {},
   "source": [
    "We can geet both the keys and values"
   ]
  },
  {
   "cell_type": "code",
   "execution_count": 123,
   "id": "21d3cc94",
   "metadata": {},
   "outputs": [
    {
     "data": {
      "text/plain": [
       "[('a', 'ABC'), ('b', (1, 2, 3)), (1, ['A', 'B', 'C'])]"
      ]
     },
     "execution_count": 123,
     "metadata": {},
     "output_type": "execute_result"
    }
   ],
   "source": [
    "list(d1.items())"
   ]
  },
  {
   "cell_type": "markdown",
   "id": "a20a6a4d",
   "metadata": {},
   "source": [
    "We can merge (update) dictionares"
   ]
  },
  {
   "cell_type": "code",
   "execution_count": 124,
   "id": "c0f82888",
   "metadata": {},
   "outputs": [],
   "source": [
    "d1.update({\"a\":\"XYZ\", 2:list(\"XYZ\")})"
   ]
  },
  {
   "cell_type": "code",
   "execution_count": 125,
   "id": "71e7c555",
   "metadata": {},
   "outputs": [
    {
     "data": {
      "text/plain": [
       "{'a': 'XYZ', 'b': (1, 2, 3), 1: ['A', 'B', 'C'], 2: ['X', 'Y', 'Z']}"
      ]
     },
     "execution_count": 125,
     "metadata": {},
     "output_type": "execute_result"
    }
   ],
   "source": [
    "d1"
   ]
  },
  {
   "cell_type": "markdown",
   "id": "519f75b9",
   "metadata": {},
   "source": [
    "### Creating dictionaries from sequences"
   ]
  },
  {
   "cell_type": "code",
   "execution_count": 126,
   "id": "9e889c62",
   "metadata": {},
   "outputs": [],
   "source": [
    "tups = zip((\"A\",\"B\",\"C\"),(1,2,3))"
   ]
  },
  {
   "cell_type": "code",
   "execution_count": 127,
   "id": "1d1f2e16",
   "metadata": {},
   "outputs": [
    {
     "data": {
      "text/plain": [
       "{'A': 1, 'B': 2, 'C': 3}"
      ]
     },
     "execution_count": 127,
     "metadata": {},
     "output_type": "execute_result"
    }
   ],
   "source": [
    "dict(tups)"
   ]
  },
  {
   "cell_type": "markdown",
   "id": "a4fd6aec",
   "metadata": {},
   "source": [
    "### Default values"
   ]
  },
  {
   "cell_type": "markdown",
   "id": "6f4fed3e",
   "metadata": {},
   "source": [
    "We can get the values given a key. We can also specify a default value if the element is not present "
   ]
  },
  {
   "cell_type": "code",
   "execution_count": 128,
   "id": "b3117422",
   "metadata": {},
   "outputs": [
    {
     "data": {
      "text/plain": [
       "'?'"
      ]
     },
     "execution_count": 128,
     "metadata": {},
     "output_type": "execute_result"
    }
   ],
   "source": [
    "d1.get(\"c\", \"?\")"
   ]
  },
  {
   "cell_type": "code",
   "execution_count": 129,
   "id": "dab0b274",
   "metadata": {},
   "outputs": [
    {
     "data": {
      "text/plain": [
       "'XYZ'"
      ]
     },
     "execution_count": 129,
     "metadata": {},
     "output_type": "execute_result"
    }
   ],
   "source": [
    "d1.get(\"a\", \"?\")"
   ]
  },
  {
   "cell_type": "markdown",
   "id": "f2ba3263",
   "metadata": {},
   "source": [
    "We can set elemets of a dictionary given a key and also specify a default value to set if the key isn't there"
   ]
  },
  {
   "cell_type": "code",
   "execution_count": 148,
   "id": "7af79d54",
   "metadata": {},
   "outputs": [
    {
     "data": {
      "text/plain": [
       "{'a': ['apple'], 'b': ['bee']}"
      ]
     },
     "execution_count": 148,
     "metadata": {},
     "output_type": "execute_result"
    }
   ],
   "source": [
    "d1 = {\"a\":[\"apple\"], \"b\":[\"bee\"]}\n",
    "d1"
   ]
  },
  {
   "cell_type": "code",
   "execution_count": 149,
   "id": "e7568d62",
   "metadata": {},
   "outputs": [
    {
     "data": {
      "text/plain": [
       "{'a': ['apple', 'art'], 'b': ['bee']}"
      ]
     },
     "execution_count": 149,
     "metadata": {},
     "output_type": "execute_result"
    }
   ],
   "source": [
    "d1[\"a\"].append(\"art\")\n",
    "d1"
   ]
  },
  {
   "cell_type": "code",
   "execution_count": 150,
   "id": "0cb61c75",
   "metadata": {},
   "outputs": [
    {
     "ename": "KeyError",
     "evalue": "'c'",
     "output_type": "error",
     "traceback": [
      "\u001b[0;31m---------------------------------------------------------------------------\u001b[0m",
      "\u001b[0;31mKeyError\u001b[0m                                  Traceback (most recent call last)",
      "Cell \u001b[0;32mIn[150], line 1\u001b[0m\n\u001b[0;32m----> 1\u001b[0m d1[\u001b[38;5;124m\"\u001b[39m\u001b[38;5;124mc\u001b[39m\u001b[38;5;124m\"\u001b[39m]\u001b[38;5;241m.\u001b[39mappend(\u001b[38;5;124m\"\u001b[39m\u001b[38;5;124mcar\u001b[39m\u001b[38;5;124m\"\u001b[39m)\n\u001b[1;32m      2\u001b[0m d1\n",
      "\u001b[0;31mKeyError\u001b[0m: 'c'"
     ]
    }
   ],
   "source": [
    "d1[\"c\"].append(\"car\") #c is not a key for any element so youll get a mistake, thats why you need the default value\n",
    "d1"
   ]
  },
  {
   "cell_type": "code",
   "execution_count": 134,
   "id": "def6fcbb",
   "metadata": {},
   "outputs": [],
   "source": [
    "d1.setdefault(\"a\", []).append(\"atom\") #a is in the dictionary, so it will append the word to the existing list in the dicitonary"
   ]
  },
  {
   "cell_type": "code",
   "execution_count": 135,
   "id": "4461df68",
   "metadata": {},
   "outputs": [
    {
     "data": {
      "text/plain": [
       "{'a': ['apple', 'atom'], 'b': ['bee']}"
      ]
     },
     "execution_count": 135,
     "metadata": {},
     "output_type": "execute_result"
    }
   ],
   "source": [
    "d1"
   ]
  },
  {
   "cell_type": "code",
   "execution_count": 136,
   "id": "a1d7c2c5",
   "metadata": {},
   "outputs": [],
   "source": [
    "d1.setdefault(\"c\", []).append(\"car\") #c is not in the dictionary so it will create a new empty list [] and append the word to this new dictionary"
   ]
  },
  {
   "cell_type": "code",
   "execution_count": 137,
   "id": "5a9ca25e",
   "metadata": {},
   "outputs": [
    {
     "data": {
      "text/plain": [
       "{'a': ['apple', 'atom'], 'b': ['bee'], 'c': ['car']}"
      ]
     },
     "execution_count": 137,
     "metadata": {},
     "output_type": "execute_result"
    }
   ],
   "source": [
    "d1"
   ]
  },
  {
   "cell_type": "markdown",
   "id": "63715b96",
   "metadata": {},
   "source": [
    "We can also set elements using the class defauldict"
   ]
  },
  {
   "cell_type": "code",
   "execution_count": 138,
   "id": "9792fdb6",
   "metadata": {},
   "outputs": [],
   "source": [
    "from collections import defaultdict\n",
    "d1 = defaultdict(list)"
   ]
  },
  {
   "cell_type": "code",
   "execution_count": 139,
   "id": "38589abe",
   "metadata": {},
   "outputs": [],
   "source": [
    "d1[\"a\"].append(\"apple\") #even if \"a\" is not in the dictionary, it wil create the new list"
   ]
  },
  {
   "cell_type": "code",
   "execution_count": 140,
   "id": "bbee444c",
   "metadata": {},
   "outputs": [
    {
     "data": {
      "text/plain": [
       "defaultdict(list, {'a': ['apple']})"
      ]
     },
     "execution_count": 140,
     "metadata": {},
     "output_type": "execute_result"
    }
   ],
   "source": [
    "d1"
   ]
  },
  {
   "cell_type": "code",
   "execution_count": 141,
   "id": "0c624525",
   "metadata": {},
   "outputs": [],
   "source": [
    "d1[\"a\"].append(\"atom\")"
   ]
  },
  {
   "cell_type": "code",
   "execution_count": 142,
   "id": "251abc3c",
   "metadata": {},
   "outputs": [
    {
     "data": {
      "text/plain": [
       "defaultdict(list, {'a': ['apple', 'atom']})"
      ]
     },
     "execution_count": 142,
     "metadata": {},
     "output_type": "execute_result"
    }
   ],
   "source": [
    "d1"
   ]
  },
  {
   "cell_type": "markdown",
   "id": "3e49b10d",
   "metadata": {},
   "source": [
    "## Set"
   ]
  },
  {
   "cell_type": "markdown",
   "id": "40db63bb",
   "metadata": {},
   "source": [
    "Ordered collection of unique elements "
   ]
  },
  {
   "cell_type": "code",
   "execution_count": 153,
   "id": "7ba22334",
   "metadata": {},
   "outputs": [
    {
     "data": {
      "text/plain": [
       "{'A', 'C', 'E', 'I', 'M', 'N', 'O', 'S', 'T'}"
      ]
     },
     "execution_count": 153,
     "metadata": {},
     "output_type": "execute_result"
    }
   ],
   "source": [
    "set(list(\"ESTACIONAMIENTO\"))"
   ]
  },
  {
   "cell_type": "code",
   "execution_count": 154,
   "id": "47f4eb73",
   "metadata": {},
   "outputs": [
    {
     "data": {
      "text/plain": [
       "{1, 2, 3, 4, 5, 6, 7, 8, 9}"
      ]
     },
     "execution_count": 154,
     "metadata": {},
     "output_type": "execute_result"
    }
   ],
   "source": [
    "set([6,6,5,4,3,1,2,3,2,7,9,8])"
   ]
  },
  {
   "cell_type": "markdown",
   "id": "90364fee",
   "metadata": {},
   "source": [
    "we can do the union of two sets "
   ]
  },
  {
   "cell_type": "code",
   "execution_count": 155,
   "id": "396fc4a5",
   "metadata": {},
   "outputs": [],
   "source": [
    "a = {7,5,3,1}\n",
    "b = {8,7,3,2}"
   ]
  },
  {
   "cell_type": "code",
   "execution_count": 156,
   "id": "a757e4e9",
   "metadata": {},
   "outputs": [
    {
     "data": {
      "text/plain": [
       "{1, 2, 3, 5, 7, 8}"
      ]
     },
     "execution_count": 156,
     "metadata": {},
     "output_type": "execute_result"
    }
   ],
   "source": [
    "a.union(b)"
   ]
  },
  {
   "cell_type": "code",
   "execution_count": 157,
   "id": "47becc4d",
   "metadata": {},
   "outputs": [
    {
     "data": {
      "text/plain": [
       "{1, 2, 3, 5, 7, 8}"
      ]
     },
     "execution_count": 157,
     "metadata": {},
     "output_type": "execute_result"
    }
   ],
   "source": [
    "a | b"
   ]
  },
  {
   "cell_type": "code",
   "execution_count": null,
   "id": "43dccd9a",
   "metadata": {},
   "outputs": [],
   "source": []
  },
  {
   "cell_type": "markdown",
   "id": "c205efc9",
   "metadata": {},
   "source": [
    "We can also do the intersection"
   ]
  },
  {
   "cell_type": "code",
   "execution_count": 158,
   "id": "7a583d36",
   "metadata": {},
   "outputs": [
    {
     "data": {
      "text/plain": [
       "{3, 7}"
      ]
     },
     "execution_count": 158,
     "metadata": {},
     "output_type": "execute_result"
    }
   ],
   "source": [
    "a.intersection(b)"
   ]
  },
  {
   "cell_type": "code",
   "execution_count": 159,
   "id": "5445d6e5",
   "metadata": {},
   "outputs": [
    {
     "data": {
      "text/plain": [
       "{3, 7}"
      ]
     },
     "execution_count": 159,
     "metadata": {},
     "output_type": "execute_result"
    }
   ],
   "source": [
    "a & b"
   ]
  },
  {
   "cell_type": "markdown",
   "id": "bb0381c6",
   "metadata": {},
   "source": [
    "book page 60 has a list of all possible opertaors for sets "
   ]
  },
  {
   "cell_type": "code",
   "execution_count": null,
   "id": "85c4178b",
   "metadata": {},
   "outputs": [],
   "source": []
  },
  {
   "cell_type": "code",
   "execution_count": null,
   "id": "d5d4696c",
   "metadata": {},
   "outputs": [],
   "source": []
  },
  {
   "cell_type": "code",
   "execution_count": null,
   "id": "69a7db83",
   "metadata": {},
   "outputs": [],
   "source": []
  },
  {
   "cell_type": "code",
   "execution_count": null,
   "id": "8c64cecf",
   "metadata": {},
   "outputs": [],
   "source": []
  },
  {
   "cell_type": "code",
   "execution_count": null,
   "id": "49680daa",
   "metadata": {},
   "outputs": [],
   "source": []
  },
  {
   "cell_type": "code",
   "execution_count": null,
   "id": "810c7b7e",
   "metadata": {},
   "outputs": [],
   "source": []
  },
  {
   "cell_type": "code",
   "execution_count": null,
   "id": "94503f04",
   "metadata": {},
   "outputs": [],
   "source": []
  },
  {
   "cell_type": "code",
   "execution_count": null,
   "id": "5b95122e",
   "metadata": {},
   "outputs": [],
   "source": []
  },
  {
   "cell_type": "code",
   "execution_count": null,
   "id": "d2dc4402",
   "metadata": {},
   "outputs": [],
   "source": []
  },
  {
   "cell_type": "code",
   "execution_count": null,
   "id": "7fc5f4a5",
   "metadata": {},
   "outputs": [],
   "source": []
  },
  {
   "cell_type": "code",
   "execution_count": null,
   "id": "fea46043",
   "metadata": {},
   "outputs": [],
   "source": []
  },
  {
   "cell_type": "code",
   "execution_count": null,
   "id": "71646611",
   "metadata": {},
   "outputs": [],
   "source": []
  },
  {
   "cell_type": "code",
   "execution_count": null,
   "id": "2dfafe39",
   "metadata": {},
   "outputs": [],
   "source": []
  },
  {
   "cell_type": "code",
   "execution_count": null,
   "id": "580418b8",
   "metadata": {},
   "outputs": [],
   "source": []
  },
  {
   "cell_type": "code",
   "execution_count": null,
   "id": "7e0290e5",
   "metadata": {},
   "outputs": [],
   "source": []
  },
  {
   "cell_type": "code",
   "execution_count": null,
   "id": "2bf18931",
   "metadata": {},
   "outputs": [],
   "source": []
  },
  {
   "cell_type": "code",
   "execution_count": null,
   "id": "4e635f87",
   "metadata": {},
   "outputs": [],
   "source": []
  },
  {
   "cell_type": "code",
   "execution_count": null,
   "id": "9dbb866e",
   "metadata": {},
   "outputs": [],
   "source": []
  },
  {
   "cell_type": "code",
   "execution_count": null,
   "id": "33ef04df",
   "metadata": {},
   "outputs": [],
   "source": []
  },
  {
   "cell_type": "code",
   "execution_count": null,
   "id": "cb575de1",
   "metadata": {},
   "outputs": [],
   "source": []
  },
  {
   "cell_type": "code",
   "execution_count": null,
   "id": "587fea4b",
   "metadata": {},
   "outputs": [],
   "source": []
  },
  {
   "cell_type": "code",
   "execution_count": null,
   "id": "1e64c4f0",
   "metadata": {},
   "outputs": [],
   "source": []
  },
  {
   "cell_type": "code",
   "execution_count": null,
   "id": "fc326327",
   "metadata": {},
   "outputs": [],
   "source": []
  },
  {
   "cell_type": "code",
   "execution_count": null,
   "id": "5e0071de",
   "metadata": {},
   "outputs": [],
   "source": []
  },
  {
   "cell_type": "code",
   "execution_count": null,
   "id": "54dc3663",
   "metadata": {},
   "outputs": [],
   "source": []
  },
  {
   "cell_type": "code",
   "execution_count": null,
   "id": "610218dc",
   "metadata": {},
   "outputs": [],
   "source": []
  },
  {
   "cell_type": "code",
   "execution_count": null,
   "id": "7af76d6c",
   "metadata": {},
   "outputs": [],
   "source": []
  },
  {
   "cell_type": "code",
   "execution_count": null,
   "id": "21c09ce9",
   "metadata": {},
   "outputs": [],
   "source": []
  },
  {
   "cell_type": "code",
   "execution_count": null,
   "id": "7aaa273c",
   "metadata": {},
   "outputs": [],
   "source": []
  },
  {
   "cell_type": "code",
   "execution_count": null,
   "id": "584fc7f9",
   "metadata": {},
   "outputs": [],
   "source": []
  },
  {
   "cell_type": "code",
   "execution_count": null,
   "id": "8b376492",
   "metadata": {},
   "outputs": [],
   "source": []
  },
  {
   "cell_type": "code",
   "execution_count": null,
   "id": "8b5380ea",
   "metadata": {},
   "outputs": [],
   "source": []
  },
  {
   "cell_type": "code",
   "execution_count": null,
   "id": "eb5717ed",
   "metadata": {},
   "outputs": [],
   "source": []
  }
 ],
 "metadata": {
  "kernelspec": {
   "display_name": "Python 3 (ipykernel)",
   "language": "python",
   "name": "python3"
  },
  "language_info": {
   "codemirror_mode": {
    "name": "ipython",
    "version": 3
   },
   "file_extension": ".py",
   "mimetype": "text/x-python",
   "name": "python",
   "nbconvert_exporter": "python",
   "pygments_lexer": "ipython3",
   "version": "3.11.5"
  }
 },
 "nbformat": 4,
 "nbformat_minor": 5
}
