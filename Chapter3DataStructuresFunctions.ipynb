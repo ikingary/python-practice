{
 "cells": [
  {
   "cell_type": "markdown",
   "id": "d90d9fe6",
   "metadata": {},
   "source": [
    "# Data Structures and Sequences "
   ]
  },
  {
   "cell_type": "markdown",
   "id": "1ebc9ccc",
   "metadata": {},
   "source": [
    "## Tuples"
   ]
  },
  {
   "cell_type": "code",
   "execution_count": 54,
   "id": "bf6e2192",
   "metadata": {},
   "outputs": [
    {
     "data": {
      "text/plain": [
       "(1, 2, 3)"
      ]
     },
     "execution_count": 54,
     "metadata": {},
     "output_type": "execute_result"
    }
   ],
   "source": [
    "a = (1,2,3)\n",
    "a"
   ]
  },
  {
   "cell_type": "markdown",
   "id": "8429625c",
   "metadata": {},
   "source": [
    "Tuples are inmutable, means that once created we cannot modify them"
   ]
  },
  {
   "cell_type": "code",
   "execution_count": 55,
   "id": "95babb95",
   "metadata": {},
   "outputs": [
    {
     "ename": "TypeError",
     "evalue": "'tuple' object does not support item assignment",
     "output_type": "error",
     "traceback": [
      "\u001b[0;31m---------------------------------------------------------------------------\u001b[0m",
      "\u001b[0;31mTypeError\u001b[0m                                 Traceback (most recent call last)",
      "Cell \u001b[0;32mIn[55], line 1\u001b[0m\n\u001b[0;32m----> 1\u001b[0m a[\u001b[38;5;241m0\u001b[39m] \u001b[38;5;241m=\u001b[39m \u001b[38;5;241m0\u001b[39m\n",
      "\u001b[0;31mTypeError\u001b[0m: 'tuple' object does not support item assignment"
     ]
    }
   ],
   "source": [
    "a[0] = 0"
   ]
  },
  {
   "cell_type": "markdown",
   "id": "62337193",
   "metadata": {},
   "source": [
    "Variables are just names of objects. Here a and b are two different names for the same object"
   ]
  },
  {
   "cell_type": "code",
   "execution_count": 56,
   "id": "b6d2e799",
   "metadata": {},
   "outputs": [
    {
     "data": {
      "text/plain": [
       "(1, 2, 3)"
      ]
     },
     "execution_count": 56,
     "metadata": {},
     "output_type": "execute_result"
    }
   ],
   "source": [
    "b = a\n",
    "b"
   ]
  },
  {
   "cell_type": "code",
   "execution_count": 57,
   "id": "720c8bff",
   "metadata": {},
   "outputs": [
    {
     "data": {
      "text/plain": [
       "True"
      ]
     },
     "execution_count": 57,
     "metadata": {},
     "output_type": "execute_result"
    }
   ],
   "source": [
    "b is a"
   ]
  },
  {
   "cell_type": "markdown",
   "id": "8ae5f42f",
   "metadata": {},
   "source": [
    "Here b is a different object that is identical to the object named a "
   ]
  },
  {
   "cell_type": "code",
   "execution_count": 58,
   "id": "5bb1da97",
   "metadata": {},
   "outputs": [
    {
     "ename": "TypeError",
     "evalue": "'tuple' object is not callable",
     "output_type": "error",
     "traceback": [
      "\u001b[0;31m---------------------------------------------------------------------------\u001b[0m",
      "\u001b[0;31mTypeError\u001b[0m                                 Traceback (most recent call last)",
      "Cell \u001b[0;32mIn[58], line 1\u001b[0m\n\u001b[0;32m----> 1\u001b[0m b \u001b[38;5;241m=\u001b[39m \u001b[38;5;28mlist\u001b[39m(a)\n\u001b[1;32m      2\u001b[0m b \u001b[38;5;241m=\u001b[39m \u001b[38;5;28mtuple\u001b[39m(b)\n",
      "\u001b[0;31mTypeError\u001b[0m: 'tuple' object is not callable"
     ]
    }
   ],
   "source": [
    "b = list(a)\n",
    "b = tuple(b)"
   ]
  },
  {
   "cell_type": "code",
   "execution_count": 16,
   "id": "1b446f27",
   "metadata": {},
   "outputs": [
    {
     "data": {
      "text/plain": [
       "False"
      ]
     },
     "execution_count": 16,
     "metadata": {},
     "output_type": "execute_result"
    }
   ],
   "source": [
    "b is a"
   ]
  },
  {
   "cell_type": "code",
   "execution_count": 17,
   "id": "e9cde1d1",
   "metadata": {},
   "outputs": [
    {
     "data": {
      "text/plain": [
       "True"
      ]
     },
     "execution_count": 17,
     "metadata": {},
     "output_type": "execute_result"
    }
   ],
   "source": [
    "b == a"
   ]
  },
  {
   "cell_type": "markdown",
   "id": "c5692775",
   "metadata": {},
   "source": [
    "We can convert sequence and iterators to tuples"
   ]
  },
  {
   "cell_type": "code",
   "execution_count": 6,
   "id": "290c70c4",
   "metadata": {},
   "outputs": [
    {
     "data": {
      "text/plain": [
       "(1, 2, 3)"
      ]
     },
     "execution_count": 6,
     "metadata": {},
     "output_type": "execute_result"
    }
   ],
   "source": [
    "tuple([1,2,3])"
   ]
  },
  {
   "cell_type": "code",
   "execution_count": 7,
   "id": "a0a13e33",
   "metadata": {},
   "outputs": [
    {
     "data": {
      "text/plain": [
       "('F', 'G', 'H', 'K', 'J', 'L')"
      ]
     },
     "execution_count": 7,
     "metadata": {},
     "output_type": "execute_result"
    }
   ],
   "source": [
    "tuple(\"FGHKJL\")"
   ]
  },
  {
   "cell_type": "markdown",
   "id": "88edeae5",
   "metadata": {},
   "source": [
    "We can acces values of tuples using square brackets "
   ]
  },
  {
   "cell_type": "code",
   "execution_count": 6,
   "id": "05a792a5",
   "metadata": {},
   "outputs": [
    {
     "data": {
      "text/plain": [
       "(3, 4, 5)"
      ]
     },
     "execution_count": 6,
     "metadata": {},
     "output_type": "execute_result"
    }
   ],
   "source": [
    "a = (1,2,(3,4,5))\n",
    "a[2]"
   ]
  },
  {
   "cell_type": "code",
   "execution_count": 7,
   "id": "982d8f16",
   "metadata": {},
   "outputs": [
    {
     "data": {
      "text/plain": [
       "3"
      ]
     },
     "execution_count": 7,
     "metadata": {},
     "output_type": "execute_result"
    }
   ],
   "source": [
    "a[2][0]"
   ]
  },
  {
   "cell_type": "markdown",
   "id": "38a99d73",
   "metadata": {},
   "source": [
    "We can sum tuples "
   ]
  },
  {
   "cell_type": "code",
   "execution_count": 14,
   "id": "c4d006f0",
   "metadata": {},
   "outputs": [],
   "source": [
    "a = (1, 2, (3,4,5), \"A\", True)\n",
    "b = (6, 7, (8,9,10), \"B\", False)"
   ]
  },
  {
   "cell_type": "code",
   "execution_count": 15,
   "id": "24a52c1c",
   "metadata": {},
   "outputs": [
    {
     "data": {
      "text/plain": [
       "(1, 2, (3, 4, 5), 'A', True, 6, 7, (8, 9, 10), 'B', False)"
      ]
     },
     "execution_count": 15,
     "metadata": {},
     "output_type": "execute_result"
    }
   ],
   "source": [
    "a + b"
   ]
  },
  {
   "cell_type": "markdown",
   "id": "7b4894fb",
   "metadata": {},
   "source": [
    "We can repeat the values of the tuple and get a larger tuple "
   ]
  },
  {
   "cell_type": "code",
   "execution_count": 16,
   "id": "bb9ea2f7",
   "metadata": {},
   "outputs": [],
   "source": [
    "a = (1, 2, (3, 4, 5))"
   ]
  },
  {
   "cell_type": "code",
   "execution_count": 17,
   "id": "13e0eccf",
   "metadata": {},
   "outputs": [
    {
     "data": {
      "text/plain": [
       "(1, 2, (3, 4, 5), 1, 2, (3, 4, 5), 1, 2, (3, 4, 5))"
      ]
     },
     "execution_count": 17,
     "metadata": {},
     "output_type": "execute_result"
    }
   ],
   "source": [
    "a*3"
   ]
  },
  {
   "cell_type": "markdown",
   "id": "75edade1",
   "metadata": {},
   "source": [
    "We can unpack the values of the tuples "
   ]
  },
  {
   "cell_type": "code",
   "execution_count": 27,
   "id": "6a4b8340",
   "metadata": {},
   "outputs": [
    {
     "data": {
      "text/plain": [
       "(1, 2, (3, 4, 5))"
      ]
     },
     "execution_count": 27,
     "metadata": {},
     "output_type": "execute_result"
    }
   ],
   "source": [
    "tup = (1, 2, (3, 4, 5))\n",
    "a, b, (c, d, f) = tup\n",
    "tup"
   ]
  },
  {
   "cell_type": "code",
   "execution_count": 28,
   "id": "b797effe",
   "metadata": {},
   "outputs": [
    {
     "data": {
      "text/plain": [
       "5"
      ]
     },
     "execution_count": 28,
     "metadata": {},
     "output_type": "execute_result"
    }
   ],
   "source": [
    "f"
   ]
  },
  {
   "cell_type": "markdown",
   "id": "e28de140",
   "metadata": {},
   "source": [
    "We can swap variables"
   ]
  },
  {
   "cell_type": "code",
   "execution_count": 32,
   "id": "62249d7b",
   "metadata": {},
   "outputs": [],
   "source": [
    "a, b = 1, 2"
   ]
  },
  {
   "cell_type": "code",
   "execution_count": 33,
   "id": "f2b8aee8",
   "metadata": {},
   "outputs": [
    {
     "data": {
      "text/plain": [
       "1"
      ]
     },
     "execution_count": 33,
     "metadata": {},
     "output_type": "execute_result"
    }
   ],
   "source": [
    "a"
   ]
  },
  {
   "cell_type": "code",
   "execution_count": 34,
   "id": "37cb43bf",
   "metadata": {},
   "outputs": [
    {
     "data": {
      "text/plain": [
       "2"
      ]
     },
     "execution_count": 34,
     "metadata": {},
     "output_type": "execute_result"
    }
   ],
   "source": [
    "b"
   ]
  },
  {
   "cell_type": "code",
   "execution_count": 35,
   "id": "43697e1b",
   "metadata": {},
   "outputs": [],
   "source": [
    "a, b = b, a"
   ]
  },
  {
   "cell_type": "code",
   "execution_count": 36,
   "id": "f6c3e4b1",
   "metadata": {},
   "outputs": [
    {
     "data": {
      "text/plain": [
       "2"
      ]
     },
     "execution_count": 36,
     "metadata": {},
     "output_type": "execute_result"
    }
   ],
   "source": [
    "a"
   ]
  },
  {
   "cell_type": "code",
   "execution_count": 37,
   "id": "f2a286a1",
   "metadata": {},
   "outputs": [
    {
     "data": {
      "text/plain": [
       "1"
      ]
     },
     "execution_count": 37,
     "metadata": {},
     "output_type": "execute_result"
    }
   ],
   "source": [
    "b"
   ]
  },
  {
   "cell_type": "markdown",
   "id": "cab7bd94",
   "metadata": {},
   "source": [
    "We can save the n next values of a tuple inside a single variable"
   ]
  },
  {
   "cell_type": "code",
   "execution_count": 38,
   "id": "39002b03",
   "metadata": {},
   "outputs": [],
   "source": [
    "values = 1, 2, 3, 4, 5\n",
    "a, b, *rest = values "
   ]
  },
  {
   "cell_type": "code",
   "execution_count": 39,
   "id": "d70954af",
   "metadata": {},
   "outputs": [
    {
     "data": {
      "text/plain": [
       "[3, 4, 5]"
      ]
     },
     "execution_count": 39,
     "metadata": {},
     "output_type": "execute_result"
    }
   ],
   "source": [
    "rest"
   ]
  },
  {
   "cell_type": "markdown",
   "id": "d08e4351",
   "metadata": {},
   "source": [
    "We can also discard the next n values of a tuple "
   ]
  },
  {
   "cell_type": "code",
   "execution_count": 40,
   "id": "6d3f9d59",
   "metadata": {},
   "outputs": [],
   "source": [
    "values = 1, 2, 3, 4, 5\n",
    "a, b, *_ = values "
   ]
  },
  {
   "cell_type": "markdown",
   "id": "432a57f7",
   "metadata": {},
   "source": [
    "We can count the number of repeated values "
   ]
  },
  {
   "cell_type": "code",
   "execution_count": 41,
   "id": "1c1c65ab",
   "metadata": {},
   "outputs": [],
   "source": [
    "a = (1, 2, 2, 3, 3, 3)"
   ]
  },
  {
   "cell_type": "code",
   "execution_count": 42,
   "id": "dd69c83c",
   "metadata": {},
   "outputs": [
    {
     "data": {
      "text/plain": [
       "3"
      ]
     },
     "execution_count": 42,
     "metadata": {},
     "output_type": "execute_result"
    }
   ],
   "source": [
    "a.count(3)"
   ]
  },
  {
   "cell_type": "markdown",
   "id": "763fbba7",
   "metadata": {},
   "source": [
    "## List"
   ]
  },
  {
   "cell_type": "markdown",
   "id": "83967d77",
   "metadata": {},
   "source": [
    "List are mutable, we can modify them. Tuples can't be modified "
   ]
  },
  {
   "cell_type": "code",
   "execution_count": 1,
   "id": "07b48b72",
   "metadata": {},
   "outputs": [
    {
     "data": {
      "text/plain": [
       "[1, (2, 3), None, True]"
      ]
     },
     "execution_count": 1,
     "metadata": {},
     "output_type": "execute_result"
    }
   ],
   "source": [
    "a_list = [1, (2,3), None, True]\n",
    "a_list"
   ]
  },
  {
   "cell_type": "code",
   "execution_count": 2,
   "id": "4f2784fa",
   "metadata": {},
   "outputs": [
    {
     "data": {
      "text/plain": [
       "[1, 'A', None, True]"
      ]
     },
     "execution_count": 2,
     "metadata": {},
     "output_type": "execute_result"
    }
   ],
   "source": [
    "a_list[1] = \"A\"\n",
    "a_list"
   ]
  },
  {
   "cell_type": "markdown",
   "id": "1e37ae98",
   "metadata": {},
   "source": [
    "We can convert sequence and iterators to lists"
   ]
  },
  {
   "cell_type": "code",
   "execution_count": 3,
   "id": "941670c3",
   "metadata": {},
   "outputs": [
    {
     "data": {
      "text/plain": [
       "['A', ',', 'B', ',', 'C']"
      ]
     },
     "execution_count": 3,
     "metadata": {},
     "output_type": "execute_result"
    }
   ],
   "source": [
    "a = \"A,B,C\"\n",
    "list(a)"
   ]
  },
  {
   "cell_type": "code",
   "execution_count": 5,
   "id": "521b3185",
   "metadata": {},
   "outputs": [
    {
     "data": {
      "text/plain": [
       "['foo', 'bar', 'baz']"
      ]
     },
     "execution_count": 5,
     "metadata": {},
     "output_type": "execute_result"
    }
   ],
   "source": [
    "tup = (\"foo\", \"bar\", \"baz\")\n",
    "list(tup)"
   ]
  },
  {
   "cell_type": "markdown",
   "id": "960545a5",
   "metadata": {},
   "source": [
    "### Adding and removing elements"
   ]
  },
  {
   "cell_type": "markdown",
   "id": "6eac7ec2",
   "metadata": {},
   "source": [
    "We can append elemts to the end of a list "
   ]
  },
  {
   "cell_type": "code",
   "execution_count": 6,
   "id": "f8afd082",
   "metadata": {},
   "outputs": [],
   "source": [
    "b_list = [\"A\", \"B\", \"C\"]"
   ]
  },
  {
   "cell_type": "code",
   "execution_count": 7,
   "id": "7691fedb",
   "metadata": {},
   "outputs": [
    {
     "data": {
      "text/plain": [
       "['A', 'B', 'C', 'D']"
      ]
     },
     "execution_count": 7,
     "metadata": {},
     "output_type": "execute_result"
    }
   ],
   "source": [
    "b_list.append(\"D\")\n",
    "b_list"
   ]
  },
  {
   "cell_type": "markdown",
   "id": "5988d8c7",
   "metadata": {},
   "source": [
    "We can insert elements in a specific part of a list "
   ]
  },
  {
   "cell_type": "code",
   "execution_count": 9,
   "id": "b254fb96",
   "metadata": {},
   "outputs": [
    {
     "data": {
      "text/plain": [
       "['A', 13, 13, 'B', 'C', 'D']"
      ]
     },
     "execution_count": 9,
     "metadata": {},
     "output_type": "execute_result"
    }
   ],
   "source": [
    "b_list.insert(1, 13)\n",
    "b_list"
   ]
  },
  {
   "cell_type": "markdown",
   "id": "8f79d828",
   "metadata": {},
   "source": [
    "We can remove any element of a list given their index "
   ]
  },
  {
   "cell_type": "code",
   "execution_count": 10,
   "id": "540e8cca",
   "metadata": {},
   "outputs": [
    {
     "data": {
      "text/plain": [
       "'D'"
      ]
     },
     "execution_count": 10,
     "metadata": {},
     "output_type": "execute_result"
    }
   ],
   "source": [
    "b_list.pop()"
   ]
  },
  {
   "cell_type": "code",
   "execution_count": 11,
   "id": "a48aeac5",
   "metadata": {},
   "outputs": [
    {
     "data": {
      "text/plain": [
       "13"
      ]
     },
     "execution_count": 11,
     "metadata": {},
     "output_type": "execute_result"
    }
   ],
   "source": [
    "b_list.pop(1)"
   ]
  },
  {
   "cell_type": "code",
   "execution_count": 12,
   "id": "ddc4fd1e",
   "metadata": {},
   "outputs": [
    {
     "data": {
      "text/plain": [
       "['A', 13, 'B', 'C']"
      ]
     },
     "execution_count": 12,
     "metadata": {},
     "output_type": "execute_result"
    }
   ],
   "source": [
    "b_list"
   ]
  },
  {
   "cell_type": "markdown",
   "id": "33a1b1e7",
   "metadata": {},
   "source": [
    "We can also remove elemts from a list using their value "
   ]
  },
  {
   "cell_type": "code",
   "execution_count": 13,
   "id": "72ab305d",
   "metadata": {},
   "outputs": [],
   "source": [
    "b_list.remove(\"A\")"
   ]
  },
  {
   "cell_type": "code",
   "execution_count": 14,
   "id": "85993125",
   "metadata": {},
   "outputs": [
    {
     "data": {
      "text/plain": [
       "[13, 'B', 'C']"
      ]
     },
     "execution_count": 14,
     "metadata": {},
     "output_type": "execute_result"
    }
   ],
   "source": [
    "b_list"
   ]
  },
  {
   "cell_type": "markdown",
   "id": "b3bbac81",
   "metadata": {},
   "source": [
    "We can ask if an element is in the list"
   ]
  },
  {
   "cell_type": "code",
   "execution_count": 15,
   "id": "0050b039",
   "metadata": {},
   "outputs": [
    {
     "data": {
      "text/plain": [
       "True"
      ]
     },
     "execution_count": 15,
     "metadata": {},
     "output_type": "execute_result"
    }
   ],
   "source": [
    "13 in b_list"
   ]
  },
  {
   "cell_type": "markdown",
   "id": "0dd4c139",
   "metadata": {},
   "source": [
    "### Concatenating and removing "
   ]
  },
  {
   "cell_type": "markdown",
   "id": "ec48264b",
   "metadata": {},
   "source": [
    "We can concatenate lists "
   ]
  },
  {
   "cell_type": "code",
   "execution_count": 16,
   "id": "f4ed0e14",
   "metadata": {},
   "outputs": [
    {
     "data": {
      "text/plain": [
       "['A', 1, 'B', 2]"
      ]
     },
     "execution_count": 16,
     "metadata": {},
     "output_type": "execute_result"
    }
   ],
   "source": [
    "a_list = [\"A\", 1]\n",
    "b_list = [\"B\", 2]\n",
    "\n",
    "a_list + b_list "
   ]
  },
  {
   "cell_type": "markdown",
   "id": "1b27ad2b",
   "metadata": {},
   "source": [
    "We can also extend an existing list, its like appending multiple elements "
   ]
  },
  {
   "cell_type": "code",
   "execution_count": 17,
   "id": "d7369ecc",
   "metadata": {},
   "outputs": [
    {
     "data": {
      "text/plain": [
       "['A', 1, 'B', 2]"
      ]
     },
     "execution_count": 17,
     "metadata": {},
     "output_type": "execute_result"
    }
   ],
   "source": [
    "a_list.extend([\"B\", 2])\n",
    "a_list"
   ]
  },
  {
   "cell_type": "markdown",
   "id": "7d4807c3",
   "metadata": {},
   "source": [
    "### Sorting"
   ]
  },
  {
   "cell_type": "markdown",
   "id": "a3c2dc63",
   "metadata": {},
   "source": [
    "We can sort elements of a list "
   ]
  },
  {
   "cell_type": "code",
   "execution_count": 18,
   "id": "50ac073e",
   "metadata": {},
   "outputs": [],
   "source": [
    "a_list = [5,3,7,9,4,1]"
   ]
  },
  {
   "cell_type": "code",
   "execution_count": 20,
   "id": "b20cf56f",
   "metadata": {},
   "outputs": [
    {
     "data": {
      "text/plain": [
       "[1, 3, 4, 5, 7, 9]"
      ]
     },
     "execution_count": 20,
     "metadata": {},
     "output_type": "execute_result"
    }
   ],
   "source": [
    "a_list.sort()\n",
    "a_list"
   ]
  },
  {
   "cell_type": "markdown",
   "id": "9815829e",
   "metadata": {},
   "source": [
    "We can also sort strings by length "
   ]
  },
  {
   "cell_type": "code",
   "execution_count": 21,
   "id": "710dfa94",
   "metadata": {},
   "outputs": [],
   "source": [
    "a_list = [\"BCD\", \"BCDEF\", \"A\", \"AB\"]\n",
    "a_list.sort(key=len)"
   ]
  },
  {
   "cell_type": "code",
   "execution_count": 22,
   "id": "ea088751",
   "metadata": {},
   "outputs": [
    {
     "data": {
      "text/plain": [
       "['A', 'AB', 'BCD', 'BCDEF']"
      ]
     },
     "execution_count": 22,
     "metadata": {},
     "output_type": "execute_result"
    }
   ],
   "source": [
    "a_list"
   ]
  },
  {
   "cell_type": "markdown",
   "id": "77026831",
   "metadata": {},
   "source": [
    "### Slicing"
   ]
  },
  {
   "cell_type": "markdown",
   "id": "9ac1ff20",
   "metadata": {},
   "source": [
    "We can select sections of lists "
   ]
  },
  {
   "cell_type": "code",
   "execution_count": 57,
   "id": "8dcf16d8",
   "metadata": {},
   "outputs": [
    {
     "data": {
      "text/plain": [
       "['H', 'E', 'L', 'L', 'O']"
      ]
     },
     "execution_count": 57,
     "metadata": {},
     "output_type": "execute_result"
    }
   ],
   "source": [
    "seq = list(\"HELLO:)\")\n",
    "seq[0:5]"
   ]
  },
  {
   "cell_type": "code",
   "execution_count": 33,
   "id": "1ae43b84",
   "metadata": {},
   "outputs": [
    {
     "data": {
      "text/plain": [
       "['H', 'E', 'L', 'L', 'O']"
      ]
     },
     "execution_count": 33,
     "metadata": {},
     "output_type": "execute_result"
    }
   ],
   "source": [
    "seq[:5]"
   ]
  },
  {
   "cell_type": "code",
   "execution_count": 39,
   "id": "0a30b7bc",
   "metadata": {},
   "outputs": [
    {
     "data": {
      "text/plain": [
       "[':', ')']"
      ]
     },
     "execution_count": 39,
     "metadata": {},
     "output_type": "execute_result"
    }
   ],
   "source": [
    "seq[5:]"
   ]
  },
  {
   "cell_type": "code",
   "execution_count": 40,
   "id": "5693aba1",
   "metadata": {},
   "outputs": [
    {
     "data": {
      "text/plain": [
       "[':', ')']"
      ]
     },
     "execution_count": 40,
     "metadata": {},
     "output_type": "execute_result"
    }
   ],
   "source": [
    "seq[-2:]"
   ]
  },
  {
   "cell_type": "code",
   "execution_count": 42,
   "id": "a4f8cdc5",
   "metadata": {
    "scrolled": true
   },
   "outputs": [
    {
     "data": {
      "text/plain": [
       "['H', 'E', 'L', 'L', 'O']"
      ]
     },
     "execution_count": 42,
     "metadata": {},
     "output_type": "execute_result"
    }
   ],
   "source": [
    "seq[-7:-2]"
   ]
  },
  {
   "cell_type": "markdown",
   "id": "b43e2eca",
   "metadata": {},
   "source": [
    "We can skip one elements "
   ]
  },
  {
   "cell_type": "code",
   "execution_count": 53,
   "id": "b4cd905f",
   "metadata": {
    "scrolled": true
   },
   "outputs": [
    {
     "data": {
      "text/plain": [
       "['H', 'L', 'O', ')']"
      ]
     },
     "execution_count": 53,
     "metadata": {},
     "output_type": "execute_result"
    }
   ],
   "source": [
    "seq[::2]"
   ]
  },
  {
   "cell_type": "markdown",
   "id": "7f01e77a",
   "metadata": {},
   "source": [
    "We can reverse a sequence "
   ]
  },
  {
   "cell_type": "code",
   "execution_count": 55,
   "id": "6a031cd8",
   "metadata": {},
   "outputs": [
    {
     "data": {
      "text/plain": [
       "[')', ':', 'O', 'L', 'L', 'E', 'H']"
      ]
     },
     "execution_count": 55,
     "metadata": {},
     "output_type": "execute_result"
    }
   ],
   "source": [
    "seq[::-1]"
   ]
  },
  {
   "cell_type": "markdown",
   "id": "138b7e3d",
   "metadata": {},
   "source": [
    "We can modify sections of lists "
   ]
  },
  {
   "cell_type": "code",
   "execution_count": 58,
   "id": "81d25197",
   "metadata": {},
   "outputs": [
    {
     "data": {
      "text/plain": [
       "['H', 'E', 'A', 'B', 'C', ':', ')']"
      ]
     },
     "execution_count": 58,
     "metadata": {},
     "output_type": "execute_result"
    }
   ],
   "source": [
    "seq[2:5] = list(\"ABC\")\n",
    "seq"
   ]
  },
  {
   "cell_type": "markdown",
   "id": "b6b6881a",
   "metadata": {},
   "source": [
    "## Dictionary"
   ]
  },
  {
   "cell_type": "code",
   "execution_count": 112,
   "id": "9a319d86",
   "metadata": {},
   "outputs": [
    {
     "data": {
      "text/plain": [
       "{'a': 'ABC', 'b': (1, 2, 3)}"
      ]
     },
     "execution_count": 112,
     "metadata": {},
     "output_type": "execute_result"
    }
   ],
   "source": [
    "d1 = {\"a\":\"ABC\", \"b\":(1,2,3)}\n",
    "d1"
   ]
  },
  {
   "cell_type": "code",
   "execution_count": 113,
   "id": "59ab059f",
   "metadata": {},
   "outputs": [
    {
     "data": {
      "text/plain": [
       "'ABC'"
      ]
     },
     "execution_count": 113,
     "metadata": {},
     "output_type": "execute_result"
    }
   ],
   "source": [
    "d1[\"a\"]"
   ]
  },
  {
   "cell_type": "code",
   "execution_count": 114,
   "id": "4197a8f8",
   "metadata": {},
   "outputs": [
    {
     "data": {
      "text/plain": [
       "True"
      ]
     },
     "execution_count": 114,
     "metadata": {},
     "output_type": "execute_result"
    }
   ],
   "source": [
    "\"b\" in d1"
   ]
  },
  {
   "cell_type": "markdown",
   "id": "39e94bdf",
   "metadata": {},
   "source": [
    "We can modify dictionaries "
   ]
  },
  {
   "cell_type": "code",
   "execution_count": 115,
   "id": "c410d44d",
   "metadata": {},
   "outputs": [
    {
     "data": {
      "text/plain": [
       "{'a': 'ABC', 'b': (1, 2, 3), 1: ['A', 'B', 'C']}"
      ]
     },
     "execution_count": 115,
     "metadata": {},
     "output_type": "execute_result"
    }
   ],
   "source": [
    "d1[1] = list(\"ABC\")\n",
    "d1"
   ]
  },
  {
   "cell_type": "markdown",
   "id": "84200d3e",
   "metadata": {},
   "source": [
    "We can delete elements of dictionaries "
   ]
  },
  {
   "cell_type": "code",
   "execution_count": 116,
   "id": "2cf1097c",
   "metadata": {},
   "outputs": [
    {
     "data": {
      "text/plain": [
       "{'a': 'ABC', 'b': (1, 2, 3), 1: ['A', 'B', 'C'], 2: 3742, 'c': 42.42}"
      ]
     },
     "execution_count": 116,
     "metadata": {},
     "output_type": "execute_result"
    }
   ],
   "source": [
    "d1[2] = 3742\n",
    "d1[\"c\"] = 42.42\n",
    "d1"
   ]
  },
  {
   "cell_type": "code",
   "execution_count": 117,
   "id": "692dbb0d",
   "metadata": {},
   "outputs": [],
   "source": [
    "del d1[\"c\"]"
   ]
  },
  {
   "cell_type": "code",
   "execution_count": 118,
   "id": "21c51750",
   "metadata": {},
   "outputs": [
    {
     "data": {
      "text/plain": [
       "{'a': 'ABC', 'b': (1, 2, 3), 1: ['A', 'B', 'C'], 2: 3742}"
      ]
     },
     "execution_count": 118,
     "metadata": {},
     "output_type": "execute_result"
    }
   ],
   "source": [
    "d1"
   ]
  },
  {
   "cell_type": "code",
   "execution_count": 119,
   "id": "28e7ffb1",
   "metadata": {},
   "outputs": [
    {
     "data": {
      "text/plain": [
       "3742"
      ]
     },
     "execution_count": 119,
     "metadata": {},
     "output_type": "execute_result"
    }
   ],
   "source": [
    "d1.pop(2)"
   ]
  },
  {
   "cell_type": "code",
   "execution_count": 120,
   "id": "914883bf",
   "metadata": {},
   "outputs": [
    {
     "data": {
      "text/plain": [
       "{'a': 'ABC', 'b': (1, 2, 3), 1: ['A', 'B', 'C']}"
      ]
     },
     "execution_count": 120,
     "metadata": {},
     "output_type": "execute_result"
    }
   ],
   "source": [
    "d1"
   ]
  },
  {
   "cell_type": "markdown",
   "id": "489bdbe7",
   "metadata": {},
   "source": [
    "We can get the keys "
   ]
  },
  {
   "cell_type": "code",
   "execution_count": 121,
   "id": "88b279c6",
   "metadata": {},
   "outputs": [
    {
     "data": {
      "text/plain": [
       "['a', 'b', 1]"
      ]
     },
     "execution_count": 121,
     "metadata": {},
     "output_type": "execute_result"
    }
   ],
   "source": [
    "list(d1.keys())"
   ]
  },
  {
   "cell_type": "markdown",
   "id": "93fd4424",
   "metadata": {},
   "source": [
    "We can get the values"
   ]
  },
  {
   "cell_type": "code",
   "execution_count": 122,
   "id": "5408cbc7",
   "metadata": {},
   "outputs": [
    {
     "data": {
      "text/plain": [
       "['ABC', (1, 2, 3), ['A', 'B', 'C']]"
      ]
     },
     "execution_count": 122,
     "metadata": {},
     "output_type": "execute_result"
    }
   ],
   "source": [
    "list(d1.values())"
   ]
  },
  {
   "cell_type": "markdown",
   "id": "ac0fbfc6",
   "metadata": {},
   "source": [
    "We can geet both the keys and values"
   ]
  },
  {
   "cell_type": "code",
   "execution_count": 123,
   "id": "fe893d92",
   "metadata": {},
   "outputs": [
    {
     "data": {
      "text/plain": [
       "[('a', 'ABC'), ('b', (1, 2, 3)), (1, ['A', 'B', 'C'])]"
      ]
     },
     "execution_count": 123,
     "metadata": {},
     "output_type": "execute_result"
    }
   ],
   "source": [
    "list(d1.items())"
   ]
  },
  {
   "cell_type": "markdown",
   "id": "0c80e594",
   "metadata": {},
   "source": [
    "We can merge (update) dictionares"
   ]
  },
  {
   "cell_type": "code",
   "execution_count": 124,
   "id": "3a852733",
   "metadata": {},
   "outputs": [],
   "source": [
    "d1.update({\"a\":\"XYZ\", 2:list(\"XYZ\")})"
   ]
  },
  {
   "cell_type": "code",
   "execution_count": 125,
   "id": "9b9d4564",
   "metadata": {},
   "outputs": [
    {
     "data": {
      "text/plain": [
       "{'a': 'XYZ', 'b': (1, 2, 3), 1: ['A', 'B', 'C'], 2: ['X', 'Y', 'Z']}"
      ]
     },
     "execution_count": 125,
     "metadata": {},
     "output_type": "execute_result"
    }
   ],
   "source": [
    "d1"
   ]
  },
  {
   "cell_type": "markdown",
   "id": "f1de68fb",
   "metadata": {},
   "source": [
    "### Creating dictionaries from sequences"
   ]
  },
  {
   "cell_type": "code",
   "execution_count": 126,
   "id": "bc542a94",
   "metadata": {},
   "outputs": [],
   "source": [
    "tups = zip((\"A\",\"B\",\"C\"),(1,2,3))"
   ]
  },
  {
   "cell_type": "code",
   "execution_count": 127,
   "id": "25005164",
   "metadata": {},
   "outputs": [
    {
     "data": {
      "text/plain": [
       "{'A': 1, 'B': 2, 'C': 3}"
      ]
     },
     "execution_count": 127,
     "metadata": {},
     "output_type": "execute_result"
    }
   ],
   "source": [
    "dict(tups)"
   ]
  },
  {
   "cell_type": "markdown",
   "id": "50cbc14d",
   "metadata": {},
   "source": [
    "### Default values"
   ]
  },
  {
   "cell_type": "markdown",
   "id": "27ad6117",
   "metadata": {},
   "source": [
    "We can get the values given a key. We can also specify a default value if the element is not present "
   ]
  },
  {
   "cell_type": "code",
   "execution_count": 128,
   "id": "7cb5ce0f",
   "metadata": {},
   "outputs": [
    {
     "data": {
      "text/plain": [
       "'?'"
      ]
     },
     "execution_count": 128,
     "metadata": {},
     "output_type": "execute_result"
    }
   ],
   "source": [
    "d1.get(\"c\", \"?\")"
   ]
  },
  {
   "cell_type": "code",
   "execution_count": 129,
   "id": "031db80d",
   "metadata": {},
   "outputs": [
    {
     "data": {
      "text/plain": [
       "'XYZ'"
      ]
     },
     "execution_count": 129,
     "metadata": {},
     "output_type": "execute_result"
    }
   ],
   "source": [
    "d1.get(\"a\", \"?\")"
   ]
  },
  {
   "cell_type": "markdown",
   "id": "dc220076",
   "metadata": {},
   "source": [
    "We can set elemets of a dictionary given a key and also specify a default value to set if the key isn't there"
   ]
  },
  {
   "cell_type": "code",
   "execution_count": 148,
   "id": "5f9697e9",
   "metadata": {},
   "outputs": [
    {
     "data": {
      "text/plain": [
       "{'a': ['apple'], 'b': ['bee']}"
      ]
     },
     "execution_count": 148,
     "metadata": {},
     "output_type": "execute_result"
    }
   ],
   "source": [
    "d1 = {\"a\":[\"apple\"], \"b\":[\"bee\"]}\n",
    "d1"
   ]
  },
  {
   "cell_type": "code",
   "execution_count": 149,
   "id": "8de27a56",
   "metadata": {},
   "outputs": [
    {
     "data": {
      "text/plain": [
       "{'a': ['apple', 'art'], 'b': ['bee']}"
      ]
     },
     "execution_count": 149,
     "metadata": {},
     "output_type": "execute_result"
    }
   ],
   "source": [
    "d1[\"a\"].append(\"art\")\n",
    "d1"
   ]
  },
  {
   "cell_type": "code",
   "execution_count": 150,
   "id": "f9232fe3",
   "metadata": {},
   "outputs": [
    {
     "ename": "KeyError",
     "evalue": "'c'",
     "output_type": "error",
     "traceback": [
      "\u001b[0;31m---------------------------------------------------------------------------\u001b[0m",
      "\u001b[0;31mKeyError\u001b[0m                                  Traceback (most recent call last)",
      "Cell \u001b[0;32mIn[150], line 1\u001b[0m\n\u001b[0;32m----> 1\u001b[0m d1[\u001b[38;5;124m\"\u001b[39m\u001b[38;5;124mc\u001b[39m\u001b[38;5;124m\"\u001b[39m]\u001b[38;5;241m.\u001b[39mappend(\u001b[38;5;124m\"\u001b[39m\u001b[38;5;124mcar\u001b[39m\u001b[38;5;124m\"\u001b[39m)\n\u001b[1;32m      2\u001b[0m d1\n",
      "\u001b[0;31mKeyError\u001b[0m: 'c'"
     ]
    }
   ],
   "source": [
    "d1[\"c\"].append(\"car\") #c is not a key for any element so youll get a mistake, thats why you need the default value\n",
    "d1"
   ]
  },
  {
   "cell_type": "code",
   "execution_count": 134,
   "id": "b84b62c6",
   "metadata": {},
   "outputs": [],
   "source": [
    "d1.setdefault(\"a\", []).append(\"atom\") #a is in the dictionary, so it will append the word to the existing list in the dicitonary"
   ]
  },
  {
   "cell_type": "code",
   "execution_count": 135,
   "id": "eff8eac4",
   "metadata": {},
   "outputs": [
    {
     "data": {
      "text/plain": [
       "{'a': ['apple', 'atom'], 'b': ['bee']}"
      ]
     },
     "execution_count": 135,
     "metadata": {},
     "output_type": "execute_result"
    }
   ],
   "source": [
    "d1"
   ]
  },
  {
   "cell_type": "code",
   "execution_count": 136,
   "id": "044ea326",
   "metadata": {},
   "outputs": [],
   "source": [
    "d1.setdefault(\"c\", []).append(\"car\") #c is not in the dictionary so it will create a new empty list [] and append the word to this new dictionary"
   ]
  },
  {
   "cell_type": "code",
   "execution_count": 137,
   "id": "fbd520e9",
   "metadata": {},
   "outputs": [
    {
     "data": {
      "text/plain": [
       "{'a': ['apple', 'atom'], 'b': ['bee'], 'c': ['car']}"
      ]
     },
     "execution_count": 137,
     "metadata": {},
     "output_type": "execute_result"
    }
   ],
   "source": [
    "d1"
   ]
  },
  {
   "cell_type": "markdown",
   "id": "83ec193e",
   "metadata": {},
   "source": [
    "We can also set elements using the class defauldict"
   ]
  },
  {
   "cell_type": "code",
   "execution_count": 138,
   "id": "c4cb38ed",
   "metadata": {},
   "outputs": [],
   "source": [
    "from collections import defaultdict\n",
    "d1 = defaultdict(list)"
   ]
  },
  {
   "cell_type": "code",
   "execution_count": 139,
   "id": "c6bf9e80",
   "metadata": {},
   "outputs": [],
   "source": [
    "d1[\"a\"].append(\"apple\") #even if \"a\" is not in the dictionary, it wil create the new list"
   ]
  },
  {
   "cell_type": "code",
   "execution_count": 140,
   "id": "739574fd",
   "metadata": {},
   "outputs": [
    {
     "data": {
      "text/plain": [
       "defaultdict(list, {'a': ['apple']})"
      ]
     },
     "execution_count": 140,
     "metadata": {},
     "output_type": "execute_result"
    }
   ],
   "source": [
    "d1"
   ]
  },
  {
   "cell_type": "code",
   "execution_count": 141,
   "id": "b086e623",
   "metadata": {},
   "outputs": [],
   "source": [
    "d1[\"a\"].append(\"atom\")"
   ]
  },
  {
   "cell_type": "code",
   "execution_count": 142,
   "id": "1874870c",
   "metadata": {},
   "outputs": [
    {
     "data": {
      "text/plain": [
       "defaultdict(list, {'a': ['apple', 'atom']})"
      ]
     },
     "execution_count": 142,
     "metadata": {},
     "output_type": "execute_result"
    }
   ],
   "source": [
    "d1"
   ]
  },
  {
   "cell_type": "markdown",
   "id": "579e5b29",
   "metadata": {},
   "source": [
    "## Set"
   ]
  },
  {
   "cell_type": "markdown",
   "id": "dfdb50a3",
   "metadata": {},
   "source": [
    "Ordered collection of unique elements "
   ]
  },
  {
   "cell_type": "code",
   "execution_count": 153,
   "id": "a980dc7b",
   "metadata": {},
   "outputs": [
    {
     "data": {
      "text/plain": [
       "{'A', 'C', 'E', 'I', 'M', 'N', 'O', 'S', 'T'}"
      ]
     },
     "execution_count": 153,
     "metadata": {},
     "output_type": "execute_result"
    }
   ],
   "source": [
    "set(list(\"ESTACIONAMIENTO\"))"
   ]
  },
  {
   "cell_type": "code",
   "execution_count": 154,
   "id": "019b5a18",
   "metadata": {},
   "outputs": [
    {
     "data": {
      "text/plain": [
       "{1, 2, 3, 4, 5, 6, 7, 8, 9}"
      ]
     },
     "execution_count": 154,
     "metadata": {},
     "output_type": "execute_result"
    }
   ],
   "source": [
    "set([6,6,5,4,3,1,2,3,2,7,9,8])"
   ]
  },
  {
   "cell_type": "markdown",
   "id": "02a3d165",
   "metadata": {},
   "source": [
    "we can do the union of two sets "
   ]
  },
  {
   "cell_type": "code",
   "execution_count": 155,
   "id": "533adbef",
   "metadata": {},
   "outputs": [],
   "source": [
    "a = {7,5,3,1}\n",
    "b = {8,7,3,2}"
   ]
  },
  {
   "cell_type": "code",
   "execution_count": 156,
   "id": "704fe870",
   "metadata": {},
   "outputs": [
    {
     "data": {
      "text/plain": [
       "{1, 2, 3, 5, 7, 8}"
      ]
     },
     "execution_count": 156,
     "metadata": {},
     "output_type": "execute_result"
    }
   ],
   "source": [
    "a.union(b)"
   ]
  },
  {
   "cell_type": "code",
   "execution_count": 157,
   "id": "d8cab6b9",
   "metadata": {},
   "outputs": [
    {
     "data": {
      "text/plain": [
       "{1, 2, 3, 5, 7, 8}"
      ]
     },
     "execution_count": 157,
     "metadata": {},
     "output_type": "execute_result"
    }
   ],
   "source": [
    "a | b"
   ]
  },
  {
   "cell_type": "code",
   "execution_count": 160,
   "id": "acf0590c",
   "metadata": {},
   "outputs": [
    {
     "data": {
      "text/plain": [
       "{1, 2, 3, 5, 7, 8}"
      ]
     },
     "execution_count": 160,
     "metadata": {},
     "output_type": "execute_result"
    }
   ],
   "source": [
    "c = a.copy()\n",
    "c |= b\n",
    "c"
   ]
  },
  {
   "cell_type": "markdown",
   "id": "fff142ca",
   "metadata": {},
   "source": [
    "We can also do the intersection"
   ]
  },
  {
   "cell_type": "code",
   "execution_count": 158,
   "id": "18db7211",
   "metadata": {},
   "outputs": [
    {
     "data": {
      "text/plain": [
       "{3, 7}"
      ]
     },
     "execution_count": 158,
     "metadata": {},
     "output_type": "execute_result"
    }
   ],
   "source": [
    "a.intersection(b)"
   ]
  },
  {
   "cell_type": "code",
   "execution_count": 159,
   "id": "09461aa2",
   "metadata": {
    "scrolled": true
   },
   "outputs": [
    {
     "data": {
      "text/plain": [
       "{3, 7}"
      ]
     },
     "execution_count": 159,
     "metadata": {},
     "output_type": "execute_result"
    }
   ],
   "source": [
    "a & b"
   ]
  },
  {
   "cell_type": "code",
   "execution_count": 161,
   "id": "841336b8",
   "metadata": {},
   "outputs": [
    {
     "data": {
      "text/plain": [
       "{3, 7}"
      ]
     },
     "execution_count": 161,
     "metadata": {},
     "output_type": "execute_result"
    }
   ],
   "source": [
    "c = a.copy()\n",
    "c &= b\n",
    "c"
   ]
  },
  {
   "cell_type": "markdown",
   "id": "20962848",
   "metadata": {},
   "source": [
    "book page 60 has a list of all possible opertaors for sets "
   ]
  },
  {
   "cell_type": "markdown",
   "id": "cf4598dd",
   "metadata": {},
   "source": [
    "Set elements must be inmutable "
   ]
  },
  {
   "cell_type": "code",
   "execution_count": 162,
   "id": "07c86680",
   "metadata": {},
   "outputs": [
    {
     "data": {
      "text/plain": [
       "{(1, 2, 3, 4)}"
      ]
     },
     "execution_count": 162,
     "metadata": {},
     "output_type": "execute_result"
    }
   ],
   "source": [
    "{tuple([1,2,3,4])}"
   ]
  },
  {
   "cell_type": "markdown",
   "id": "bf1af8cb",
   "metadata": {},
   "source": [
    "You can check if a set is a subset or a superset "
   ]
  },
  {
   "cell_type": "code",
   "execution_count": 163,
   "id": "2978ccd5",
   "metadata": {},
   "outputs": [],
   "source": [
    "a_set = {1,2,3,4,5}"
   ]
  },
  {
   "cell_type": "code",
   "execution_count": 164,
   "id": "485e7fe7",
   "metadata": {},
   "outputs": [
    {
     "data": {
      "text/plain": [
       "True"
      ]
     },
     "execution_count": 164,
     "metadata": {},
     "output_type": "execute_result"
    }
   ],
   "source": [
    "{1,2,3}.issubset(a_set)"
   ]
  },
  {
   "cell_type": "code",
   "execution_count": 165,
   "id": "e6a845cb",
   "metadata": {},
   "outputs": [
    {
     "data": {
      "text/plain": [
       "True"
      ]
     },
     "execution_count": 165,
     "metadata": {},
     "output_type": "execute_result"
    }
   ],
   "source": [
    "{1,2,3,4,5,6,7}.issuperset(a_set)"
   ]
  },
  {
   "cell_type": "markdown",
   "id": "f237722c",
   "metadata": {},
   "source": [
    "sets are iqual iff contents are equal "
   ]
  },
  {
   "cell_type": "code",
   "execution_count": 166,
   "id": "b991e143",
   "metadata": {},
   "outputs": [
    {
     "data": {
      "text/plain": [
       "True"
      ]
     },
     "execution_count": 166,
     "metadata": {},
     "output_type": "execute_result"
    }
   ],
   "source": [
    "a_set = {1,2,3,4,5}\n",
    "b_set = {1,2,3,4,5}\n",
    "a_set == b_set"
   ]
  },
  {
   "cell_type": "markdown",
   "id": "25ad52b9",
   "metadata": {},
   "source": [
    "## Built in sequence functions "
   ]
  },
  {
   "cell_type": "markdown",
   "id": "fdd3f0b7",
   "metadata": {},
   "source": [
    "### enumerate"
   ]
  },
  {
   "cell_type": "markdown",
   "id": "57b99169",
   "metadata": {},
   "source": [
    "We can iterate over a sequence "
   ]
  },
  {
   "cell_type": "code",
   "execution_count": 167,
   "id": "6331eab3",
   "metadata": {},
   "outputs": [
    {
     "name": "stdout",
     "output_type": "stream",
     "text": [
      "0 A\n",
      "1 B\n",
      "2 C\n",
      "3 D\n",
      "4 E\n"
     ]
    }
   ],
   "source": [
    "collection = list(\"ABCDE\")\n",
    "for index, value in enumerate(collection):\n",
    "    print(index, value)"
   ]
  },
  {
   "cell_type": "markdown",
   "id": "01cb4843",
   "metadata": {},
   "source": [
    "### sorted "
   ]
  },
  {
   "cell_type": "markdown",
   "id": "43be344a",
   "metadata": {},
   "source": [
    "We can get a sorted list of element of any sequence "
   ]
  },
  {
   "cell_type": "code",
   "execution_count": 169,
   "id": "b757f5d6",
   "metadata": {},
   "outputs": [
    {
     "data": {
      "text/plain": [
       "['A', 'C', 'E', 'G', 'I', 'L', 'M', 'O', 'R', 'U']"
      ]
     },
     "execution_count": 169,
     "metadata": {},
     "output_type": "execute_result"
    }
   ],
   "source": [
    "sorted(tuple(\"MURCIELAGO\"))"
   ]
  },
  {
   "cell_type": "code",
   "execution_count": 170,
   "id": "c744d74d",
   "metadata": {},
   "outputs": [
    {
     "data": {
      "text/plain": [
       "['2', '3', '4', '5', '7', '8', '9']"
      ]
     },
     "execution_count": 170,
     "metadata": {},
     "output_type": "execute_result"
    }
   ],
   "source": [
    "sorted(set(\"77732894582735\"))"
   ]
  },
  {
   "cell_type": "markdown",
   "id": "9ebd5ac0",
   "metadata": {},
   "source": [
    "### zip"
   ]
  },
  {
   "cell_type": "markdown",
   "id": "dc2f016a",
   "metadata": {},
   "source": [
    "zip pairs elements and returns a list of tuples "
   ]
  },
  {
   "cell_type": "code",
   "execution_count": 173,
   "id": "43caf183",
   "metadata": {
    "scrolled": true
   },
   "outputs": [
    {
     "data": {
      "text/plain": [
       "[('B', 1), ('D', 2), ('A', 3), ('C', 4)]"
      ]
     },
     "execution_count": 173,
     "metadata": {},
     "output_type": "execute_result"
    }
   ],
   "source": [
    "list(zip(set(\"ABCD\"),[1,2,3,4]))"
   ]
  },
  {
   "cell_type": "code",
   "execution_count": 175,
   "id": "ca60e504",
   "metadata": {},
   "outputs": [
    {
     "data": {
      "text/plain": [
       "[('B', 1, True), ('D', 2, False)]"
      ]
     },
     "execution_count": 175,
     "metadata": {},
     "output_type": "execute_result"
    }
   ],
   "source": [
    "list(zip(set(\"ABCD\"),[1,2,3,4], (True, False)))"
   ]
  },
  {
   "cell_type": "markdown",
   "id": "7b90e5f3",
   "metadata": {},
   "source": [
    "### reversed"
   ]
  },
  {
   "cell_type": "markdown",
   "id": "fd25fb2e",
   "metadata": {},
   "source": [
    "iterates over the elements of a sequence in reverse order "
   ]
  },
  {
   "cell_type": "code",
   "execution_count": 178,
   "id": "67aec97e",
   "metadata": {},
   "outputs": [
    {
     "data": {
      "text/plain": [
       "[0, 1, 2, 3, 4, 5, 6, 7, 8, 9]"
      ]
     },
     "execution_count": 178,
     "metadata": {},
     "output_type": "execute_result"
    }
   ],
   "source": [
    "list(range(10))"
   ]
  },
  {
   "cell_type": "code",
   "execution_count": 179,
   "id": "791c050d",
   "metadata": {},
   "outputs": [
    {
     "data": {
      "text/plain": [
       "[9, 8, 7, 6, 5, 4, 3, 2, 1, 0]"
      ]
     },
     "execution_count": 179,
     "metadata": {},
     "output_type": "execute_result"
    }
   ],
   "source": [
    "list(reversed(range(10)))"
   ]
  },
  {
   "cell_type": "markdown",
   "id": "13d4eb2a",
   "metadata": {},
   "source": [
    "## List, Set and Dictonary Comprehensions "
   ]
  },
  {
   "cell_type": "markdown",
   "id": "c15c50cf",
   "metadata": {},
   "source": [
    "We can create a list given a collection, this new list can modify and filter the origianl collection "
   ]
  },
  {
   "cell_type": "code",
   "execution_count": 181,
   "id": "e1f0bb21",
   "metadata": {},
   "outputs": [
    {
     "data": {
      "text/plain": [
       "['BAT', 'CAR', 'DOVE', 'PYTHON']"
      ]
     },
     "execution_count": 181,
     "metadata": {},
     "output_type": "execute_result"
    }
   ],
   "source": [
    "strings = [\"a\", \"as\", \"bat\", \"car\", \"dove\", \"python\"]\n",
    "[x.upper() for x in strings if len(x)>2]"
   ]
  },
  {
   "cell_type": "markdown",
   "id": "704e7b6f",
   "metadata": {},
   "source": [
    "We can also create a set"
   ]
  },
  {
   "cell_type": "code",
   "execution_count": 184,
   "id": "094c325a",
   "metadata": {},
   "outputs": [
    {
     "data": {
      "text/plain": [
       "{3, 4, 6}"
      ]
     },
     "execution_count": 184,
     "metadata": {},
     "output_type": "execute_result"
    }
   ],
   "source": [
    "strings = [\"a\", \"as\", \"bat\", \"car\", \"dove\", \"python\"]\n",
    "{len(x) for x in strings if len(x)>2}"
   ]
  },
  {
   "cell_type": "markdown",
   "id": "f7db5653",
   "metadata": {},
   "source": [
    "If we dont want to filter we can just use the map function"
   ]
  },
  {
   "cell_type": "code",
   "execution_count": 185,
   "id": "fc7a830e",
   "metadata": {},
   "outputs": [
    {
     "data": {
      "text/plain": [
       "{1, 2, 3, 4, 6}"
      ]
     },
     "execution_count": 185,
     "metadata": {},
     "output_type": "execute_result"
    }
   ],
   "source": [
    "strings = [\"a\", \"as\", \"bat\", \"car\", \"dove\", \"python\"]\n",
    "set(map(len, strings))"
   ]
  },
  {
   "cell_type": "markdown",
   "id": "b19a6ad1",
   "metadata": {},
   "source": [
    "We can also create dictionaries"
   ]
  },
  {
   "cell_type": "code",
   "execution_count": 188,
   "id": "f48a932d",
   "metadata": {},
   "outputs": [
    {
     "data": {
      "text/plain": [
       "[(0, 'a'), (1, 'as'), (2, 'bat'), (3, 'car'), (4, 'dove'), (5, 'python')]"
      ]
     },
     "execution_count": 188,
     "metadata": {},
     "output_type": "execute_result"
    }
   ],
   "source": [
    "strings = [\"a\", \"as\", \"bat\", \"car\", \"dove\", \"python\"]\n",
    "list(enumerate(strings))"
   ]
  },
  {
   "cell_type": "code",
   "execution_count": 189,
   "id": "7552adba",
   "metadata": {},
   "outputs": [
    {
     "data": {
      "text/plain": [
       "{'a': 0, 'as': 1, 'bat': 2, 'car': 3, 'dove': 4, 'python': 5}"
      ]
     },
     "execution_count": 189,
     "metadata": {},
     "output_type": "execute_result"
    }
   ],
   "source": [
    "{value: index for index, value in enumerate(strings)}"
   ]
  },
  {
   "cell_type": "markdown",
   "id": "4dcea5e2",
   "metadata": {},
   "source": [
    "### Nested list comprehensions "
   ]
  },
  {
   "cell_type": "code",
   "execution_count": 196,
   "id": "6575e8c9",
   "metadata": {},
   "outputs": [],
   "source": [
    "all_data = [[\"John\", \"Emily\", \"Michael\", \"Mary\", \"Steven\", \"Martha\"],\n",
    "            [\"Maria\", \"Juan\", \"Javier\", \"Natalia\", \"Pilar\"]]"
   ]
  },
  {
   "cell_type": "code",
   "execution_count": 197,
   "id": "b7a8c860",
   "metadata": {},
   "outputs": [
    {
     "data": {
      "text/plain": [
       "['MARTHA', 'MARIA', 'NATALIA']"
      ]
     },
     "execution_count": 197,
     "metadata": {},
     "output_type": "execute_result"
    }
   ],
   "source": [
    "[name.upper() for listNames in all_data for name in listNames if name.count(\"a\") >= 2]"
   ]
  },
  {
   "cell_type": "code",
   "execution_count": 198,
   "id": "dfb93f51",
   "metadata": {},
   "outputs": [
    {
     "data": {
      "text/plain": [
       "[['MARTHA'], ['MARIA', 'NATALIA']]"
      ]
     },
     "execution_count": 198,
     "metadata": {},
     "output_type": "execute_result"
    }
   ],
   "source": [
    "[[name.upper() for name in listNames if name.count(\"a\") >= 2] for listNames in all_data ]"
   ]
  },
  {
   "cell_type": "code",
   "execution_count": null,
   "id": "66ae0a23",
   "metadata": {},
   "outputs": [],
   "source": []
  },
  {
   "cell_type": "code",
   "execution_count": 199,
   "id": "997e94e9",
   "metadata": {},
   "outputs": [],
   "source": [
    "some_tuples = [(1, 2, 3), (4, 5, 6), (7, 8, 9)]"
   ]
  },
  {
   "cell_type": "code",
   "execution_count": 200,
   "id": "c4f065e0",
   "metadata": {},
   "outputs": [
    {
     "data": {
      "text/plain": [
       "[1, 2, 3, 4, 5, 6, 7, 8, 9]"
      ]
     },
     "execution_count": 200,
     "metadata": {},
     "output_type": "execute_result"
    }
   ],
   "source": [
    "[x for tup in some_tuples for x in tup]"
   ]
  },
  {
   "cell_type": "code",
   "execution_count": 201,
   "id": "ebabff0c",
   "metadata": {},
   "outputs": [
    {
     "data": {
      "text/plain": [
       "[[1, 2, 3], [4, 5, 6], [7, 8, 9]]"
      ]
     },
     "execution_count": 201,
     "metadata": {},
     "output_type": "execute_result"
    }
   ],
   "source": [
    "[[x for x in tup] for tup in some_tuples ]"
   ]
  },
  {
   "cell_type": "markdown",
   "id": "4cf6d3cc",
   "metadata": {},
   "source": [
    "## 3.2 Functions"
   ]
  },
  {
   "cell_type": "markdown",
   "id": "5ef2d43e",
   "metadata": {},
   "source": [
    "### Returning multiple values"
   ]
  },
  {
   "cell_type": "code",
   "execution_count": 202,
   "id": "d5a40409",
   "metadata": {},
   "outputs": [],
   "source": [
    "def f():\n",
    "    a = 5\n",
    "    b = 6\n",
    "    c = 7\n",
    "    return a, b, c"
   ]
  },
  {
   "cell_type": "code",
   "execution_count": 205,
   "id": "ea2152d6",
   "metadata": {},
   "outputs": [
    {
     "data": {
      "text/plain": [
       "5"
      ]
     },
     "execution_count": 205,
     "metadata": {},
     "output_type": "execute_result"
    }
   ],
   "source": [
    "a, b, c = f()\n",
    "a"
   ]
  },
  {
   "cell_type": "code",
   "execution_count": 206,
   "id": "4c2a792a",
   "metadata": {},
   "outputs": [
    {
     "data": {
      "text/plain": [
       "(5, 6, 7)"
      ]
     },
     "execution_count": 206,
     "metadata": {},
     "output_type": "execute_result"
    }
   ],
   "source": [
    "return_value = f()\n",
    "return_value"
   ]
  },
  {
   "cell_type": "code",
   "execution_count": 207,
   "id": "d4f8aadd",
   "metadata": {},
   "outputs": [],
   "source": [
    "def f():\n",
    "    a = 5\n",
    "    b = 6\n",
    "    c = 7\n",
    "    return {\"a\" : a, \"b\" : b, \"c\" : c}"
   ]
  },
  {
   "cell_type": "code",
   "execution_count": 208,
   "id": "63233e0f",
   "metadata": {},
   "outputs": [
    {
     "data": {
      "text/plain": [
       "{'a': 5, 'b': 6, 'c': 7}"
      ]
     },
     "execution_count": 208,
     "metadata": {},
     "output_type": "execute_result"
    }
   ],
   "source": [
    "return_value = f()\n",
    "return_value"
   ]
  },
  {
   "cell_type": "markdown",
   "id": "556d8d8a",
   "metadata": {},
   "source": [
    "### Functions are objects"
   ]
  },
  {
   "cell_type": "code",
   "execution_count": 217,
   "id": "95eaf633",
   "metadata": {},
   "outputs": [],
   "source": [
    "states = [\" Alabama \", \"Georgia!\", \"Georgia\", \"georgia\", \"FlOrIda\", \"south carolina##\", \"West virginia?\"]"
   ]
  },
  {
   "cell_type": "code",
   "execution_count": 222,
   "id": "82ea6914",
   "metadata": {},
   "outputs": [],
   "source": [
    "import re\n",
    "def remove_punctuation(value):\n",
    "    return re.sub(\"[!#?]\",\"\",value)"
   ]
  },
  {
   "cell_type": "markdown",
   "id": "7a7afd09",
   "metadata": {},
   "source": [
    "We can create a list of functions "
   ]
  },
  {
   "cell_type": "code",
   "execution_count": 223,
   "id": "75dcd713",
   "metadata": {},
   "outputs": [],
   "source": [
    "clean_ops = [str.strip, remove_punctuation, str.title]"
   ]
  },
  {
   "cell_type": "code",
   "execution_count": 224,
   "id": "4ea4acd0",
   "metadata": {},
   "outputs": [],
   "source": [
    "def clean_strings(strings, ops):\n",
    "    result = []\n",
    "    for value in strings:\n",
    "        for func in ops: # iterating over the list of functions \n",
    "            value = func(value)\n",
    "        result.append(value)\n",
    "    return result"
   ]
  },
  {
   "cell_type": "code",
   "execution_count": 225,
   "id": "ce8aaf29",
   "metadata": {},
   "outputs": [
    {
     "data": {
      "text/plain": [
       "['Alabama',\n",
       " 'Georgia',\n",
       " 'Georgia',\n",
       " 'Georgia',\n",
       " 'Florida',\n",
       " 'South Carolina',\n",
       " 'West Virginia']"
      ]
     },
     "execution_count": 225,
     "metadata": {},
     "output_type": "execute_result"
    }
   ],
   "source": [
    "clean_strings(states, clean_ops)"
   ]
  },
  {
   "cell_type": "markdown",
   "id": "a7b20868",
   "metadata": {},
   "source": [
    "### Anonymous (Lambda functions)"
   ]
  },
  {
   "cell_type": "code",
   "execution_count": 227,
   "id": "71e68e5b",
   "metadata": {},
   "outputs": [],
   "source": [
    "def apply_to_list(some_list, f):\n",
    "    return [f(x) for x in some_list]"
   ]
  },
  {
   "cell_type": "code",
   "execution_count": 228,
   "id": "e3b4ad78",
   "metadata": {},
   "outputs": [
    {
     "data": {
      "text/plain": [
       "[8, 0, 2, 10, 12]"
      ]
     },
     "execution_count": 228,
     "metadata": {},
     "output_type": "execute_result"
    }
   ],
   "source": [
    "ints = [4, 0, 1, 5, 6]\n",
    "apply_to_list(ints, lambda x: x * 2)"
   ]
  },
  {
   "cell_type": "markdown",
   "id": "b5607989",
   "metadata": {},
   "source": [
    "### Generators "
   ]
  },
  {
   "cell_type": "code",
   "execution_count": 232,
   "id": "65ad5465",
   "metadata": {},
   "outputs": [],
   "source": [
    "some_dict = {\"a\": 1, \"b\": 2, \"c\": 3}"
   ]
  },
  {
   "cell_type": "code",
   "execution_count": 233,
   "id": "5619b7ed",
   "metadata": {},
   "outputs": [],
   "source": [
    "dict_iterator = iter(some_dict)"
   ]
  },
  {
   "cell_type": "code",
   "execution_count": 234,
   "id": "d61607f3",
   "metadata": {},
   "outputs": [
    {
     "data": {
      "text/plain": [
       "['a', 'b', 'c']"
      ]
     },
     "execution_count": 234,
     "metadata": {},
     "output_type": "execute_result"
    }
   ],
   "source": [
    "list(dict_iterator)"
   ]
  },
  {
   "cell_type": "code",
   "execution_count": null,
   "id": "f25ed758",
   "metadata": {},
   "outputs": [],
   "source": []
  },
  {
   "cell_type": "code",
   "execution_count": null,
   "id": "b4ec37e1",
   "metadata": {},
   "outputs": [],
   "source": []
  },
  {
   "cell_type": "code",
   "execution_count": null,
   "id": "3c41be8e",
   "metadata": {},
   "outputs": [],
   "source": []
  },
  {
   "cell_type": "code",
   "execution_count": null,
   "id": "f3c61094",
   "metadata": {},
   "outputs": [],
   "source": []
  },
  {
   "cell_type": "code",
   "execution_count": null,
   "id": "7cc2c042",
   "metadata": {},
   "outputs": [],
   "source": []
  },
  {
   "cell_type": "code",
   "execution_count": null,
   "id": "5f540f3c",
   "metadata": {},
   "outputs": [],
   "source": []
  },
  {
   "cell_type": "code",
   "execution_count": null,
   "id": "1932d2a4",
   "metadata": {},
   "outputs": [],
   "source": []
  },
  {
   "cell_type": "code",
   "execution_count": null,
   "id": "f904a89d",
   "metadata": {},
   "outputs": [],
   "source": []
  },
  {
   "cell_type": "code",
   "execution_count": null,
   "id": "d3c9d695",
   "metadata": {},
   "outputs": [],
   "source": []
  },
  {
   "cell_type": "code",
   "execution_count": null,
   "id": "d2db5dce",
   "metadata": {},
   "outputs": [],
   "source": []
  },
  {
   "cell_type": "code",
   "execution_count": null,
   "id": "cd0dbbae",
   "metadata": {},
   "outputs": [],
   "source": []
  },
  {
   "cell_type": "code",
   "execution_count": null,
   "id": "3f8fe877",
   "metadata": {},
   "outputs": [],
   "source": []
  },
  {
   "cell_type": "code",
   "execution_count": null,
   "id": "892edb03",
   "metadata": {},
   "outputs": [],
   "source": []
  },
  {
   "cell_type": "code",
   "execution_count": null,
   "id": "321249a5",
   "metadata": {},
   "outputs": [],
   "source": []
  },
  {
   "cell_type": "code",
   "execution_count": null,
   "id": "9b6312de",
   "metadata": {},
   "outputs": [],
   "source": []
  },
  {
   "cell_type": "code",
   "execution_count": null,
   "id": "247f35b2",
   "metadata": {},
   "outputs": [],
   "source": []
  },
  {
   "cell_type": "code",
   "execution_count": null,
   "id": "7805ff8b",
   "metadata": {},
   "outputs": [],
   "source": []
  },
  {
   "cell_type": "code",
   "execution_count": null,
   "id": "9a68cfe9",
   "metadata": {},
   "outputs": [],
   "source": []
  },
  {
   "cell_type": "code",
   "execution_count": null,
   "id": "0dc7883f",
   "metadata": {},
   "outputs": [],
   "source": []
  },
  {
   "cell_type": "code",
   "execution_count": null,
   "id": "93bfba9c",
   "metadata": {},
   "outputs": [],
   "source": []
  },
  {
   "cell_type": "code",
   "execution_count": null,
   "id": "6674cb00",
   "metadata": {},
   "outputs": [],
   "source": []
  }
 ],
 "metadata": {
  "kernelspec": {
   "display_name": "Python 3 (ipykernel)",
   "language": "python",
   "name": "python3"
  },
  "language_info": {
   "codemirror_mode": {
    "name": "ipython",
    "version": 3
   },
   "file_extension": ".py",
   "mimetype": "text/x-python",
   "name": "python",
   "nbconvert_exporter": "python",
   "pygments_lexer": "ipython3",
   "version": "3.11.5"
  }
 },
 "nbformat": 4,
 "nbformat_minor": 5
}
