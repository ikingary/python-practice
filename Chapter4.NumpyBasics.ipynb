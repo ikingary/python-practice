{
 "cells": [
  {
   "cell_type": "markdown",
   "id": "201060c8",
   "metadata": {},
   "source": [
    "# Numpy basics "
   ]
  },
  {
   "cell_type": "markdown",
   "id": "ab2999ec",
   "metadata": {},
   "source": [
    "## The NumPy ndarray: A Multidimensional Array Object"
   ]
  },
  {
   "cell_type": "markdown",
   "id": "ca4251c8",
   "metadata": {},
   "source": [
    "\n",
    "* np.array\n",
    "* np.zeros\n",
    "* np.empty \n",
    "* np.arrange\n",
    "* arr.shape\n",
    "* arr.dtype"
   ]
  },
  {
   "cell_type": "code",
   "execution_count": 2,
   "id": "48ffbf3a",
   "metadata": {},
   "outputs": [],
   "source": [
    "import numpy as np"
   ]
  },
  {
   "cell_type": "markdown",
   "id": "ce98f380",
   "metadata": {},
   "source": [
    "ndarray is a fast, flexible container for large datasets in Python. Is a generic multidimensional container for homogeneous data; that is, all\n",
    "of the elements must be the same type."
   ]
  },
  {
   "cell_type": "code",
   "execution_count": 3,
   "id": "fe7b30c2",
   "metadata": {},
   "outputs": [
    {
     "data": {
      "text/plain": [
       "array([[ 1.5, -0.1,  3. ],\n",
       "       [ 0. , -3. ,  6.5]])"
      ]
     },
     "execution_count": 3,
     "metadata": {},
     "output_type": "execute_result"
    }
   ],
   "source": [
    "data = np.array([[1.5,\n",
    "-0.1, 3], [0,\n",
    "-3, 6.5]])\n",
    "data"
   ]
  },
  {
   "cell_type": "code",
   "execution_count": 4,
   "id": "e8333bcf",
   "metadata": {},
   "outputs": [
    {
     "data": {
      "text/plain": [
       "(2, 3)"
      ]
     },
     "execution_count": 4,
     "metadata": {},
     "output_type": "execute_result"
    }
   ],
   "source": [
    "data.shape"
   ]
  },
  {
   "cell_type": "markdown",
   "id": "aec23e1a",
   "metadata": {},
   "source": [
    "We can get the type of data stored inside the array "
   ]
  },
  {
   "cell_type": "code",
   "execution_count": 5,
   "id": "8fcb8a3b",
   "metadata": {},
   "outputs": [
    {
     "data": {
      "text/plain": [
       "dtype('float64')"
      ]
     },
     "execution_count": 5,
     "metadata": {},
     "output_type": "execute_result"
    }
   ],
   "source": [
    "data.dtype"
   ]
  },
  {
   "cell_type": "markdown",
   "id": "17ec8ace",
   "metadata": {},
   "source": [
    "We can create an array of zeros "
   ]
  },
  {
   "cell_type": "code",
   "execution_count": 8,
   "id": "cd82c023",
   "metadata": {},
   "outputs": [
    {
     "name": "stdout",
     "output_type": "stream",
     "text": [
      "zeros array 1x7 \n",
      " [0. 0. 0. 0. 0. 0. 0.] \n",
      "\n",
      "zeros array 7x3 \n",
      " [[0. 0. 0.]\n",
      " [0. 0. 0.]\n",
      " [0. 0. 0.]\n",
      " [0. 0. 0.]\n",
      " [0. 0. 0.]\n",
      " [0. 0. 0.]\n",
      " [0. 0. 0.]] \n",
      "\n"
     ]
    }
   ],
   "source": [
    "print(\"zeros array 1x7\", \"\\n\", np.zeros(7), \"\\n\")\n",
    "print(\"zeros array 7x3\", \"\\n\", np.zeros((7,3)), \"\\n\")"
   ]
  },
  {
   "cell_type": "markdown",
   "id": "55149d2e",
   "metadata": {},
   "source": [
    "We can also create an empty array"
   ]
  },
  {
   "cell_type": "code",
   "execution_count": 10,
   "id": "797b1bb9",
   "metadata": {},
   "outputs": [
    {
     "name": "stdout",
     "output_type": "stream",
     "text": [
      "Empty array 7x3 \n",
      " [[0. 0. 0.]\n",
      " [0. 0. 0.]\n",
      " [0. 0. 0.]\n",
      " [0. 0. 0.]\n",
      " [0. 0. 0.]\n",
      " [0. 0. 0.]\n",
      " [0. 0. 0.]] \n",
      "\n",
      "Empty array 4 3x2 \n",
      " [[[0. 0.]\n",
      "  [0. 0.]\n",
      "  [0. 0.]]\n",
      "\n",
      " [[0. 0.]\n",
      "  [0. 0.]\n",
      "  [0. 0.]]\n",
      "\n",
      " [[0. 0.]\n",
      "  [0. 0.]\n",
      "  [0. 0.]]\n",
      "\n",
      " [[0. 0.]\n",
      "  [0. 0.]\n",
      "  [0. 0.]]] \n",
      "\n"
     ]
    }
   ],
   "source": [
    "print(\"Empty array 7x3\", \"\\n\", np.empty((7,3)), \"\\n\")\n",
    "print(\"Empty array 4 3x2\", \"\\n\", np.empty((4,3, 2)), \"\\n\")"
   ]
  },
  {
   "cell_type": "markdown",
   "id": "85b47a9c",
   "metadata": {},
   "source": [
    "We can create an array of ordered numbers "
   ]
  },
  {
   "cell_type": "code",
   "execution_count": 11,
   "id": "052fb925",
   "metadata": {},
   "outputs": [
    {
     "name": "stdout",
     "output_type": "stream",
     "text": [
      "Array of ordered numbers from 0 to 15 \n",
      " [ 0  1  2  3  4  5  6  7  8  9 10 11 12 13 14] \n",
      "\n"
     ]
    }
   ],
   "source": [
    "print(\"Array of ordered numbers from 0 to 15\", \"\\n\", np.arange(15), \"\\n\")"
   ]
  },
  {
   "cell_type": "markdown",
   "id": "f8209760",
   "metadata": {},
   "source": [
    "## Arithmetic with numpy arrays"
   ]
  },
  {
   "cell_type": "markdown",
   "id": "46f2aa44",
   "metadata": {},
   "source": [
    "* arr*arr\n",
    "* arr-arr\n",
    "* arr/c\n",
    "* arr**c\n",
    "* arr1 > arr2"
   ]
  },
  {
   "cell_type": "code",
   "execution_count": 15,
   "id": "1273116d",
   "metadata": {},
   "outputs": [
    {
     "name": "stdout",
     "output_type": "stream",
     "text": [
      "Array 2X3 \n",
      " [[1 2 3]\n",
      " [4 5 6]] \n",
      "\n"
     ]
    }
   ],
   "source": [
    "arr = np.array([[1,2,3],[4,5,6]])\n",
    "print(\"Array 2X3\", \"\\n\", arr, \"\\n\")"
   ]
  },
  {
   "cell_type": "markdown",
   "id": "9059c2cd",
   "metadata": {},
   "source": [
    "Multiplication of two arrays "
   ]
  },
  {
   "cell_type": "code",
   "execution_count": 17,
   "id": "2e36872d",
   "metadata": {},
   "outputs": [
    {
     "name": "stdout",
     "output_type": "stream",
     "text": [
      "Multiplication of array element by element \n",
      " [[ 1  4  9]\n",
      " [16 25 36]] \n",
      "\n"
     ]
    }
   ],
   "source": [
    "print(\"Multiplication of array element by element\", \"\\n\", arr*arr, \"\\n\")"
   ]
  },
  {
   "cell_type": "markdown",
   "id": "bfc07076",
   "metadata": {},
   "source": [
    "Substraction of two arrays"
   ]
  },
  {
   "cell_type": "code",
   "execution_count": 18,
   "id": "6f213870",
   "metadata": {},
   "outputs": [
    {
     "name": "stdout",
     "output_type": "stream",
     "text": [
      "Substraction \n",
      " [[0 0 0]\n",
      " [0 0 0]] \n",
      "\n"
     ]
    }
   ],
   "source": [
    "print(\"Substraction\", \"\\n\", arr-arr, \"\\n\")"
   ]
  },
  {
   "cell_type": "markdown",
   "id": "c738f693",
   "metadata": {},
   "source": [
    "Division by an scalar"
   ]
  },
  {
   "cell_type": "code",
   "execution_count": 20,
   "id": "5e2b6992",
   "metadata": {},
   "outputs": [
    {
     "name": "stdout",
     "output_type": "stream",
     "text": [
      "Division by 2 \n",
      " [[0.5 1.  1.5]\n",
      " [2.  2.5 3. ]] \n",
      "\n"
     ]
    }
   ],
   "source": [
    "print(\"Division by 2\", \"\\n\", arr/2, \"\\n\")"
   ]
  },
  {
   "cell_type": "markdown",
   "id": "99f0240d",
   "metadata": {},
   "source": [
    "Power of an scalar"
   ]
  },
  {
   "cell_type": "code",
   "execution_count": 21,
   "id": "c0d3c4e9",
   "metadata": {},
   "outputs": [
    {
     "name": "stdout",
     "output_type": "stream",
     "text": [
      "Each element to the square \n",
      " [[ 1  4  9]\n",
      " [16 25 36]] \n",
      "\n"
     ]
    }
   ],
   "source": [
    "print(\"Each element to the square\", \"\\n\", arr**2, \"\\n\")"
   ]
  },
  {
   "cell_type": "markdown",
   "id": "854f52fe",
   "metadata": {},
   "source": [
    "Comparisons of arrays "
   ]
  },
  {
   "cell_type": "code",
   "execution_count": 23,
   "id": "a7684d0a",
   "metadata": {},
   "outputs": [
    {
     "name": "stdout",
     "output_type": "stream",
     "text": [
      "For which elements arr1 > arr2 \n",
      " [[False False  True]\n",
      " [False False False]] \n",
      "\n"
     ]
    }
   ],
   "source": [
    "arr1 = np.array([[1,3,5], [7,9,5]])\n",
    "arr2 = np.array([[2,3,4], [8,9,7]])\n",
    "print(\"For which elements arr1 > arr2\", \"\\n\", arr1 > arr2, \"\\n\")"
   ]
  },
  {
   "cell_type": "markdown",
   "id": "ec9b03e5",
   "metadata": {},
   "source": [
    "## Basic Indexing and Slicing "
   ]
  },
  {
   "cell_type": "markdown",
   "id": "7bdebe08",
   "metadata": {},
   "source": [
    "* arr[i]\n",
    "* arr[a:b]\n",
    "* arr[:]\n",
    "* arr[i,j]\n",
    "* arr[i][j]\n"
   ]
  },
  {
   "cell_type": "code",
   "execution_count": 25,
   "id": "55e67c80",
   "metadata": {},
   "outputs": [
    {
     "name": "stdout",
     "output_type": "stream",
     "text": [
      "arr \n",
      " [0 1 2 3 4 5 6 7 8 9] \n",
      "\n"
     ]
    }
   ],
   "source": [
    "arr = np.arange(10)\n",
    "print(\"arr\", \"\\n\", arr, \"\\n\")"
   ]
  },
  {
   "cell_type": "code",
   "execution_count": 27,
   "id": "1efd7a51",
   "metadata": {},
   "outputs": [
    {
     "name": "stdout",
     "output_type": "stream",
     "text": [
      "Slice element 5 \n",
      " 5 \n",
      "\n"
     ]
    }
   ],
   "source": [
    "print(\"Slice element 5\", \"\\n\", arr[5], \"\\n\")"
   ]
  },
  {
   "cell_type": "code",
   "execution_count": 28,
   "id": "d98c84b0",
   "metadata": {},
   "outputs": [
    {
     "name": "stdout",
     "output_type": "stream",
     "text": [
      "Slice element 5 to 7 \n",
      " [5 6 7] \n",
      "\n"
     ]
    }
   ],
   "source": [
    "print(\"Slice element 5 to 7\", \"\\n\", arr[5:8], \"\\n\")"
   ]
  },
  {
   "cell_type": "markdown",
   "id": "5c2f8f56",
   "metadata": {},
   "source": [
    "Arrays are mutable "
   ]
  },
  {
   "cell_type": "code",
   "execution_count": 29,
   "id": "b392da16",
   "metadata": {},
   "outputs": [
    {
     "name": "stdout",
     "output_type": "stream",
     "text": [
      "arr mutated \n",
      " [ 0  1  2  3  4 13 13 13  8  9] \n",
      "\n"
     ]
    }
   ],
   "source": [
    "arr[5:8] = 13\n",
    "print(\"arr mutated\", \"\\n\", arr, \"\\n\")"
   ]
  },
  {
   "cell_type": "markdown",
   "id": "48d3a883",
   "metadata": {},
   "source": [
    "Modifying a slice modifies the original array "
   ]
  },
  {
   "cell_type": "code",
   "execution_count": 30,
   "id": "ddeee9be",
   "metadata": {},
   "outputs": [
    {
     "name": "stdout",
     "output_type": "stream",
     "text": [
      "arr mutated \n",
      " [ 0  1  2  3  4 42 13 13  8  9] \n",
      "\n"
     ]
    }
   ],
   "source": [
    "arr_slice = arr[5:8]\n",
    "arr_slice[0] = 42 #You need to specify which elemets of the array to modify \n",
    "print(\"arr mutated\", \"\\n\", arr, \"\\n\")"
   ]
  },
  {
   "cell_type": "code",
   "execution_count": 31,
   "id": "3abc19b5",
   "metadata": {},
   "outputs": [
    {
     "name": "stdout",
     "output_type": "stream",
     "text": [
      "arr mutated \n",
      " [ 0  1  2  3  4 42 42 42  8  9] \n",
      "\n"
     ]
    }
   ],
   "source": [
    "arr_slice[:] = 42 #You need to specify which elemets of the array to modify \n",
    "print(\"arr mutated\", \"\\n\", arr, \"\\n\")"
   ]
  },
  {
   "cell_type": "markdown",
   "id": "3184da69",
   "metadata": {},
   "source": [
    "Indexing two dimensional arrays"
   ]
  },
  {
   "cell_type": "code",
   "execution_count": 34,
   "id": "343fe447",
   "metadata": {},
   "outputs": [
    {
     "name": "stdout",
     "output_type": "stream",
     "text": [
      "Two dimensional array 3x3: \n",
      " [[1 2 3]\n",
      " [4 5 6]\n",
      " [7 8 9]] \n",
      "\n"
     ]
    }
   ],
   "source": [
    "arr2d = np.array([[1, 2, 3], [4, 5, 6], [7, 8, 9]])\n",
    "print(\"Two dimensional array 3x3:\", \"\\n\", arr2d, \"\\n\")"
   ]
  },
  {
   "cell_type": "code",
   "execution_count": 35,
   "id": "f7176390",
   "metadata": {},
   "outputs": [
    {
     "name": "stdout",
     "output_type": "stream",
     "text": [
      "Index 2 for a two dimensional arrax: \n",
      " [7 8 9] \n",
      "\n",
      "Index (2,1) for a two dimensional arrax: \n",
      " 8 \n",
      "\n",
      "Index (2,1) for a two dimensional arrax: \n",
      " 8 \n",
      "\n"
     ]
    }
   ],
   "source": [
    "print(\"Index 2 for a two dimensional arrax:\", \"\\n\", arr2d[2], \"\\n\")\n",
    "print(\"Index (2,1) for a two dimensional arrax:\", \"\\n\", arr2d[2][1], \"\\n\")\n",
    "print(\"Index (2,1) for a two dimensional arrax:\", \"\\n\", arr2d[2,1], \"\\n\")"
   ]
  },
  {
   "cell_type": "markdown",
   "id": "c94a5cc4",
   "metadata": {},
   "source": [
    "Indexing three dimensional arrays"
   ]
  },
  {
   "cell_type": "code",
   "execution_count": 38,
   "id": "78ed5076",
   "metadata": {},
   "outputs": [
    {
     "name": "stdout",
     "output_type": "stream",
     "text": [
      "Trhee dimensional array 2 of 2x3 \n",
      " [[[ 1  2  3]\n",
      "  [ 4  5  6]]\n",
      "\n",
      " [[ 7  8  9]\n",
      "  [10 11 12]]] \n",
      "\n"
     ]
    }
   ],
   "source": [
    "arr3d = np.array([[[1, 2, 3], [4, 5, 6]], [[7, 8, 9], [10, 11, 12]]])\n",
    "print(\"Trhee dimensional array 2 of 2x3\", \"\\n\", arr3d, \"\\n\")"
   ]
  },
  {
   "cell_type": "code",
   "execution_count": 39,
   "id": "92ed41d4",
   "metadata": {},
   "outputs": [
    {
     "name": "stdout",
     "output_type": "stream",
     "text": [
      "Index (1,0) for a two dimensional arrax: \n",
      " [7 8 9] \n",
      "\n"
     ]
    }
   ],
   "source": [
    "print(\"Index (1,0) for a two dimensional arrax:\", \"\\n\", arr3d[1,0], \"\\n\")"
   ]
  },
  {
   "cell_type": "markdown",
   "id": "a98fadce",
   "metadata": {},
   "source": [
    "## Indexing with slices "
   ]
  },
  {
   "cell_type": "markdown",
   "id": "ba0a1173",
   "metadata": {},
   "source": [
    "* arr[a:b]\n",
    "* arr[:b]\n",
    "* arr[:a,b:]\n",
    "* arr[:a,:b]\n",
    "* arr[:a,b]"
   ]
  },
  {
   "cell_type": "code",
   "execution_count": 43,
   "id": "cf3c959c",
   "metadata": {},
   "outputs": [
    {
     "name": "stdout",
     "output_type": "stream",
     "text": [
      "Array \n",
      " [0 1 2 3 4 5 6 7 8 9] \n",
      "\n",
      "Slice 1 to 5 \n",
      " [1 2 3 4 5] \n",
      "\n"
     ]
    }
   ],
   "source": [
    "arr = np.arange(10)\n",
    "print(\"Array\", \"\\n\", arr, \"\\n\")\n",
    "print(\"Slice 1 to 5\", \"\\n\", arr[1:6], \"\\n\")"
   ]
  },
  {
   "cell_type": "code",
   "execution_count": 49,
   "id": "9886dcaa",
   "metadata": {},
   "outputs": [
    {
     "name": "stdout",
     "output_type": "stream",
     "text": [
      "Array 3x3 \n",
      " [[1 2 3]\n",
      " [4 5 6]\n",
      " [7 8 9]] \n",
      "\n",
      "Slice row 0 to 1 \n",
      " [[1 2 3]\n",
      " [4 5 6]] \n",
      "\n",
      "Slice row 0 to 1 column 1 to 2 \n",
      " [[2 3]\n",
      " [5 6]] \n",
      "\n",
      "Slice row 0 to 1 column 0 to 0 \n",
      " [[1]\n",
      " [4]] \n",
      "\n",
      "Elements in row 0 to 2 column 0 to 0 \n",
      " [1 4] \n",
      "\n"
     ]
    }
   ],
   "source": [
    "arr2d = np.array([[1, 2, 3], [4, 5, 6], [7, 8, 9]])\n",
    "print(\"Array 3x3\", \"\\n\", arr2d, \"\\n\")\n",
    "print(\"Slice row 0 to 1\", \"\\n\", arr2d[:2], \"\\n\")\n",
    "print(\"Slice row 0 to 1 column 1 to 2\", \"\\n\", arr2d[:2, 1:], \"\\n\") #First Slice within the first bracket, second slice within the second bracket\n",
    "print(\"Slice row 0 to 1 column 0 to 0\", \"\\n\", arr2d[:2, :1], \"\\n\") \n",
    "print(\"Elements in row 0 to 2 column 0 to 0\", \"\\n\", arr2d[:2, 0], \"\\n\") "
   ]
  },
  {
   "cell_type": "markdown",
   "id": "a0844cf6",
   "metadata": {},
   "source": [
    "## Boolean indexing "
   ]
  },
  {
   "cell_type": "markdown",
   "id": "297cf403",
   "metadata": {},
   "source": [
    "* arr[c == b]"
   ]
  },
  {
   "cell_type": "code",
   "execution_count": 55,
   "id": "9b2a6bb3",
   "metadata": {},
   "outputs": [
    {
     "name": "stdout",
     "output_type": "stream",
     "text": [
      "Names \n",
      " ['Bob' 'Joe' 'Will' 'Bob' 'Will' 'Joe' 'Joe'] \n",
      "\n",
      "Values \n",
      " [[  4   7]\n",
      " [  0   2]\n",
      " [ -5   6]\n",
      " [  0   0]\n",
      " [  1   2]\n",
      " [-12  -4]\n",
      " [  3   4]] \n",
      "\n",
      "Bob values \n",
      " [[4 7]\n",
      " [0 0]] \n",
      "\n"
     ]
    }
   ],
   "source": [
    "names = np.array([\"Bob\", \"Joe\", \"Will\", \"Bob\", \"Will\", \"Joe\", \"Joe\"])\n",
    "data = np.array([[4, 7], [0, 2], [-5, 6], [0, 0], [1, 2], [-12,-4], [3, 4]])\n",
    "\n",
    "print(\"Names\", \"\\n\", names, \"\\n\")\n",
    "print(\"Values\", \"\\n\", data, \"\\n\")\n",
    "\n",
    "#suppose each name cosrresponds to a row, we can select all the rows corresponding to Bob\n",
    "print(\"Bob values\", \"\\n\", data[names == \"Bob\"], \"\\n\")"
   ]
  },
  {
   "cell_type": "markdown",
   "id": "e1d69cd0",
   "metadata": {},
   "source": [
    "Selecting data from an array by a Boolean and assigning the result to a new variable always creates a copy of the data"
   ]
  },
  {
   "cell_type": "code",
   "execution_count": 56,
   "id": "884eac0a",
   "metadata": {},
   "outputs": [
    {
     "name": "stdout",
     "output_type": "stream",
     "text": [
      "Data remains unchanged \n",
      " [[  4   7]\n",
      " [  0   2]\n",
      " [ -5   6]\n",
      " [  0   0]\n",
      " [  1   2]\n",
      " [-12  -4]\n",
      " [  3   4]] \n",
      "\n",
      "Data changes \n",
      " [[ 42  42]\n",
      " [  0   2]\n",
      " [ -5   6]\n",
      " [ 42  42]\n",
      " [  1   2]\n",
      " [-12  -4]\n",
      " [  3   4]] \n",
      "\n"
     ]
    }
   ],
   "source": [
    "dataBob = data[names == \"Bob\"] \n",
    "dataBob = 42\n",
    "print(\"Data remains unchanged\", \"\\n\", data, \"\\n\") \n",
    "\n",
    "data[names == \"Bob\"] = 42\n",
    "print(\"Data changes\", \"\\n\", data, \"\\n\") "
   ]
  },
  {
   "cell_type": "markdown",
   "id": "7c63fffd",
   "metadata": {},
   "source": [
    "## Fancy indexing "
   ]
  },
  {
   "cell_type": "markdown",
   "id": "e7624e41",
   "metadata": {},
   "source": [
    "* arr[[a,b,c,d]]\n",
    "* arr[[a,b,c,d],[e,f,g,h]]\n",
    "* arr.reshape(i,j)"
   ]
  },
  {
   "cell_type": "code",
   "execution_count": 54,
   "id": "b07c886a",
   "metadata": {},
   "outputs": [
    {
     "name": "stdout",
     "output_type": "stream",
     "text": [
      "Array \n",
      " [[0. 0. 0. 0.]\n",
      " [1. 1. 1. 1.]\n",
      " [2. 2. 2. 2.]\n",
      " [3. 3. 3. 3.]\n",
      " [4. 4. 4. 4.]\n",
      " [5. 5. 5. 5.]\n",
      " [6. 6. 6. 6.]\n",
      " [7. 7. 7. 7.]] \n",
      "\n"
     ]
    }
   ],
   "source": [
    "arr = np.zeros((8, 4))\n",
    "for i in range(8):\n",
    "  arr[i] = i\n",
    "\n",
    "print(\"Array\", \"\\n\", arr, \"\\n\") "
   ]
  },
  {
   "cell_type": "markdown",
   "id": "f110269f",
   "metadata": {},
   "source": [
    "To select a subset of the rows in a particular order, you can simply pass a list or ndarray of integers specifying the desired order:"
   ]
  },
  {
   "cell_type": "code",
   "execution_count": 57,
   "id": "f14bc3c6",
   "metadata": {},
   "outputs": [
    {
     "name": "stdout",
     "output_type": "stream",
     "text": [
      "Selecting rows 4, 3, 0 and 6 \n",
      " [[4. 4. 4. 4.]\n",
      " [3. 3. 3. 3.]\n",
      " [0. 0. 0. 0.]\n",
      " [6. 6. 6. 6.]] \n",
      "\n"
     ]
    }
   ],
   "source": [
    "print(\"Selecting rows 4, 3, 0 and 6\", \"\\n\", arr[[4, 3, 0, 6]], \"\\n\") "
   ]
  },
  {
   "cell_type": "markdown",
   "id": "bfe6708f",
   "metadata": {},
   "source": [
    "Negative indexes select from the back "
   ]
  },
  {
   "cell_type": "code",
   "execution_count": 59,
   "id": "2124c52e",
   "metadata": {},
   "outputs": [
    {
     "name": "stdout",
     "output_type": "stream",
     "text": [
      "Selecting rows 4, 5, 0 and 2 \n",
      " [[4. 4. 4. 4.]\n",
      " [5. 5. 5. 5.]\n",
      " [0. 0. 0. 0.]\n",
      " [2. 2. 2. 2.]] \n",
      "\n"
     ]
    }
   ],
   "source": [
    "print(\"Selecting rows 4, 5, 0 and 2\", \"\\n\", arr[[-4, -3, -0, -6]], \"\\n\") "
   ]
  },
  {
   "cell_type": "markdown",
   "id": "f9b4fea4",
   "metadata": {},
   "source": [
    "We can pass multiple indexes each element of the list is the elemet (i,j) in the whole array"
   ]
  },
  {
   "cell_type": "code",
   "execution_count": 60,
   "id": "62750dc7",
   "metadata": {},
   "outputs": [
    {
     "name": "stdout",
     "output_type": "stream",
     "text": [
      "array \n",
      " [ 0  1  2  3  4  5  6  7  8  9 10 11 12 13 14 15 16 17 18 19 20 21 22 23\n",
      " 24 25 26 27 28 29 30 31] \n",
      "\n",
      "array reshaped \n",
      " [[ 0  1  2  3]\n",
      " [ 4  5  6  7]\n",
      " [ 8  9 10 11]\n",
      " [12 13 14 15]\n",
      " [16 17 18 19]\n",
      " [20 21 22 23]\n",
      " [24 25 26 27]\n",
      " [28 29 30 31]] \n",
      "\n",
      "selection with multiple index \n",
      " [ 4 23 29 10] \n",
      "\n",
      "selection with multiple index \n",
      " [[ 4  7  5  6]\n",
      " [20 23 21 22]\n",
      " [28 31 29 30]\n",
      " [ 8 11  9 10]] \n",
      "\n"
     ]
    }
   ],
   "source": [
    "arr = np.arange(32)\n",
    "print(\"array\", \"\\n\", arr, \"\\n\") \n",
    "\n",
    "arr = np.arange(32).reshape((8,4))\n",
    "print(\"array reshaped\", \"\\n\", arr, \"\\n\") \n",
    "print(\"selection with multiple index\", \"\\n\", arr[[1, 5, 7, 2], [0, 3, 1, 2]], \"\\n\") #This selects the elements (1,0),(5,3),...,(2,2)\n",
    "print(\"selection with multiple index\", \"\\n\", arr[[1, 5, 7, 2]][:, [0, 3, 1, 2]], \"\\n\") #This selects the subset of the array given by the rows and columns "
   ]
  },
  {
   "cell_type": "markdown",
   "id": "3e6d1f06",
   "metadata": {},
   "source": [
    "## Transposing Arrays and Swapping Axes"
   ]
  },
  {
   "cell_type": "markdown",
   "id": "ed8e812a",
   "metadata": {},
   "source": [
    "* arr.T\n",
    "* np.dot(arr.T, arr)\n",
    "* arr.T@arr\n",
    "* arr.swapaxes(0,1)"
   ]
  },
  {
   "cell_type": "markdown",
   "id": "68cf36e3",
   "metadata": {},
   "source": [
    "We can transponse arrays "
   ]
  },
  {
   "cell_type": "code",
   "execution_count": 61,
   "id": "afd516e1",
   "metadata": {},
   "outputs": [
    {
     "name": "stdout",
     "output_type": "stream",
     "text": [
      "array \n",
      " [[ 0  1  2  3  4]\n",
      " [ 5  6  7  8  9]\n",
      " [10 11 12 13 14]] \n",
      "\n",
      "array transposed \n",
      " [[ 0  5 10]\n",
      " [ 1  6 11]\n",
      " [ 2  7 12]\n",
      " [ 3  8 13]\n",
      " [ 4  9 14]] \n",
      "\n"
     ]
    }
   ],
   "source": [
    "arr = np.arange(15).reshape((3, 5))\n",
    "print(\"array\", \"\\n\", arr, \"\\n\") \n",
    "print(\"array transposed\", \"\\n\", arr.T, \"\\n\") "
   ]
  },
  {
   "cell_type": "markdown",
   "id": "5d3968dc",
   "metadata": {},
   "source": [
    "We can take the inner matrix product "
   ]
  },
  {
   "cell_type": "code",
   "execution_count": 62,
   "id": "f7d6b7e7",
   "metadata": {},
   "outputs": [
    {
     "name": "stdout",
     "output_type": "stream",
     "text": [
      "inner matrix product \n",
      " [[39 20 12]\n",
      " [20 14  2]\n",
      " [12  2 10]] \n",
      "\n",
      "inner matrix product \n",
      " [[39 20 12]\n",
      " [20 14  2]\n",
      " [12  2 10]] \n",
      "\n"
     ]
    }
   ],
   "source": [
    "arr = np.array([[0, 1, 0], [1, 2,-2], [6, 3, 2], [-1, 0,-1], [1, 0, 1]])\n",
    "print(\"inner matrix product\", \"\\n\", np.dot(arr.T,arr), \"\\n\")\n",
    "print(\"inner matrix product\", \"\\n\", arr.T@arr, \"\\n\") "
   ]
  },
  {
   "cell_type": "markdown",
   "id": "5e29ba02",
   "metadata": {},
   "source": [
    "Transposing is a special of axis swapping "
   ]
  },
  {
   "cell_type": "code",
   "execution_count": 64,
   "id": "2876540a",
   "metadata": {},
   "outputs": [
    {
     "name": "stdout",
     "output_type": "stream",
     "text": [
      "Array \n",
      " [[ 0  1  0]\n",
      " [ 1  2 -2]\n",
      " [ 6  3  2]\n",
      " [-1  0 -1]\n",
      " [ 1  0  1]] \n",
      "\n",
      "Array transponsed \n",
      " [[ 0  1  6 -1  1]\n",
      " [ 1  2  3  0  0]\n",
      " [ 0 -2  2 -1  1]] \n",
      "\n"
     ]
    }
   ],
   "source": [
    "print(\"Array\", \"\\n\", arr, \"\\n\")\n",
    "print(\"Array transponsed\", \"\\n\", arr.swapaxes(0,1), \"\\n\") "
   ]
  },
  {
   "cell_type": "markdown",
   "id": "67654552",
   "metadata": {},
   "source": [
    "## Pseudorandom Random Generator "
   ]
  },
  {
   "cell_type": "markdown",
   "id": "8d94d304",
   "metadata": {},
   "source": [
    "* np.random.standard_normal(size=(a, b))"
   ]
  },
  {
   "cell_type": "code",
   "execution_count": 65,
   "id": "ae65af48",
   "metadata": {},
   "outputs": [
    {
     "name": "stdout",
     "output_type": "stream",
     "text": [
      "samples \n",
      " [[-0.83851254 -0.87984119  2.94156313  0.04210487]\n",
      " [ 0.53101397 -0.83300177 -0.64935628  1.03406002]\n",
      " [ 0.8646024   0.33470513  0.33380439 -1.52392218]\n",
      " [-0.9687483   0.46990163 -2.11818005 -0.7755872 ]] \n",
      "\n"
     ]
    }
   ],
   "source": [
    "samples = np.random.standard_normal(size=(4, 4))\n",
    "print(\"samples 4x4\", \"\\n\", samples, \"\\n\")\n",
    "# Page 104 has al random generator methods "
   ]
  },
  {
   "cell_type": "markdown",
   "id": "372ab7ba",
   "metadata": {},
   "source": [
    "## Universal Functions: Fast Element Wise Arise Functions "
   ]
  },
  {
   "cell_type": "markdown",
   "id": "5640810c",
   "metadata": {},
   "source": [
    "* np.sqrt(arr)\n",
    "* np.exp(arr)\n",
    "* rng = np.random.default_rng(seed)\n",
    "* rng.standard_normal(n)\n",
    "* np.maximum(x,y)\n",
    "* np.modf(arr)"
   ]
  },
  {
   "cell_type": "markdown",
   "id": "442d147b",
   "metadata": {},
   "source": [
    "Universal function perform element wise operations on data in arrays "
   ]
  },
  {
   "cell_type": "code",
   "execution_count": 66,
   "id": "a7ed0b90",
   "metadata": {},
   "outputs": [
    {
     "name": "stdout",
     "output_type": "stream",
     "text": [
      "array \n",
      " [0 1 2 3 4 5 6 7 8 9] \n",
      "\n",
      "array squared \n",
      " [0.         1.         1.41421356 1.73205081 2.         2.23606798\n",
      " 2.44948974 2.64575131 2.82842712 3.        ] \n",
      "\n",
      "array exponential \n",
      " [1.00000000e+00 2.71828183e+00 7.38905610e+00 2.00855369e+01\n",
      " 5.45981500e+01 1.48413159e+02 4.03428793e+02 1.09663316e+03\n",
      " 2.98095799e+03 8.10308393e+03] \n",
      "\n"
     ]
    }
   ],
   "source": [
    "arr = np.arange(10)\n",
    "print(\"array\", \"\\n\", arr, \"\\n\")\n",
    "print(\"array squared\", \"\\n\", np.sqrt(arr), \"\\n\")\n",
    "print(\"array exponential\", \"\\n\", np.exp(arr), \"\\n\")"
   ]
  },
  {
   "cell_type": "markdown",
   "id": "62d0ff37",
   "metadata": {},
   "source": [
    "Some universal function take two arrays and return one "
   ]
  },
  {
   "cell_type": "code",
   "execution_count": 68,
   "id": "24880a1d",
   "metadata": {},
   "outputs": [
    {
     "name": "stdout",
     "output_type": "stream",
     "text": [
      "x \n",
      " [-1.42382504  1.26372846 -0.87066174 -0.25917323 -0.07534331 -0.74088465\n",
      " -1.3677927   0.6488928 ] \n",
      "\n",
      "y \n",
      " [ 0.36105811 -1.95286306  2.34740965  0.96849691 -0.75938718  0.90219827\n",
      " -0.46695317 -0.06068952] \n",
      "\n",
      "maximum between x and y \n",
      " [ 0.36105811  1.26372846  2.34740965  0.96849691 -0.07534331  0.90219827\n",
      " -0.46695317  0.6488928 ] \n",
      "\n"
     ]
    }
   ],
   "source": [
    "rng = np.random.default_rng(seed=12345)\n",
    "x = rng.standard_normal(8)\n",
    "y = rng.standard_normal(8)\n",
    "print(\"x\", \"\\n\", x, \"\\n\")\n",
    "print(\"y\", \"\\n\", y, \"\\n\")\n",
    "print(\"maximum between x and y\", \"\\n\", np.maximum(x, y), \"\\n\")"
   ]
  },
  {
   "cell_type": "markdown",
   "id": "ac1b682c",
   "metadata": {},
   "source": [
    "A ufun can return multiple arrays "
   ]
  },
  {
   "cell_type": "code",
   "execution_count": 69,
   "id": "07d09927",
   "metadata": {},
   "outputs": [
    {
     "name": "stdout",
     "output_type": "stream",
     "text": [
      "remainder \n",
      " [ 0.94422172 -0.28334067  0.87928757  0.99489497  0.6114903  -0.49849258\n",
      "  0.51459671] \n",
      "\n",
      "whole part \n",
      " [ 3. -6.  2.  6.  6. -1.  4.] \n",
      "\n"
     ]
    }
   ],
   "source": [
    "arr = rng.standard_normal(7) * 5\n",
    "remainder, whole_part = np.modf(arr)\n",
    "print(\"remainder\", \"\\n\", remainder, \"\\n\")\n",
    "print(\"whole part\", \"\\n\", whole_part, \"\\n\")\n",
    "# Page 107 has a list of unfunc "
   ]
  },
  {
   "cell_type": "markdown",
   "id": "90cda2c8",
   "metadata": {},
   "source": [
    "## Expresing Conditional Logit as Array Operations "
   ]
  },
  {
   "cell_type": "markdown",
   "id": "e28be6bf",
   "metadata": {},
   "source": [
    "* np.where(condition,arr1, arr2)"
   ]
  },
  {
   "cell_type": "code",
   "execution_count": 71,
   "id": "01f3d1a7",
   "metadata": {},
   "outputs": [],
   "source": [
    "xarr = np.array([1.1, 1.2, 1.3, 1.4, 1.5])\n",
    "yarr = np.array([2.1, 2.2, 2.3, 2.4, 2.5])\n",
    "cond = np.array([True, False, True, True, False])"
   ]
  },
  {
   "cell_type": "code",
   "execution_count": 72,
   "id": "3a8899dc",
   "metadata": {},
   "outputs": [
    {
     "name": "stdout",
     "output_type": "stream",
     "text": [
      "result \n",
      " [1.1, 2.2, 1.3, 1.4, 2.5] \n",
      "\n"
     ]
    }
   ],
   "source": [
    "result = [(x if c else y) for x, y, c in zip(xarr, yarr, cond)]\n",
    "#Do x if c is true else do y, for x, y, c \n",
    "print(\"result\", \"\\n\", result, \"\\n\")"
   ]
  },
  {
   "cell_type": "code",
   "execution_count": 73,
   "id": "44b5b6fd",
   "metadata": {},
   "outputs": [
    {
     "name": "stdout",
     "output_type": "stream",
     "text": [
      "result \n",
      " [1.1 2.2 1.3 1.4 2.5] \n",
      "\n"
     ]
    }
   ],
   "source": [
    "result = np.where(cond, xarr, yarr) # For each element  creates a new array where if cond is true then x, else y \n",
    "print(\"result\", \"\\n\", result, \"\\n\")"
   ]
  },
  {
   "cell_type": "code",
   "execution_count": 74,
   "id": "34fb13eb",
   "metadata": {},
   "outputs": [
    {
     "name": "stdout",
     "output_type": "stream",
     "text": [
      "result \n",
      " [[-2 -2  2 -2]\n",
      " [-2  2  2  2]\n",
      " [ 2 -2 -2 -2]\n",
      " [ 2  2 -2 -2]] \n",
      "\n"
     ]
    }
   ],
   "source": [
    "arr = rng.standard_normal((4, 4))\n",
    "print(\"result\", \"\\n\", np.where(arr > 0, 2, -2), \"\\n\")"
   ]
  },
  {
   "cell_type": "markdown",
   "id": "76a04a4b",
   "metadata": {},
   "source": [
    "## Mathematical and Statistical Methods "
   ]
  },
  {
   "cell_type": "markdown",
   "id": "1c98e201",
   "metadata": {},
   "source": [
    "* arr.mean()\n",
    "* arr.sum()\n",
    "* arr.sum(axis = 1)\n",
    "* arr.sum(axis = 0)\n",
    "* arr.cumsum()"
   ]
  },
  {
   "cell_type": "code",
   "execution_count": 77,
   "id": "177376c5",
   "metadata": {},
   "outputs": [],
   "source": [
    "rng = np.random.default_rng(seed=12345)\n",
    "arr = rng.standard_normal((5,4))  "
   ]
  },
  {
   "cell_type": "code",
   "execution_count": 78,
   "id": "df08cce3",
   "metadata": {},
   "outputs": [
    {
     "name": "stdout",
     "output_type": "stream",
     "text": [
      "Array of iid normal 5x4 \n",
      " [[-1.42382504  1.26372846 -0.87066174 -0.25917323]\n",
      " [-0.07534331 -0.74088465 -1.3677927   0.6488928 ]\n",
      " [ 0.36105811 -1.95286306  2.34740965  0.96849691]\n",
      " [-0.75938718  0.90219827 -0.46695317 -0.06068952]\n",
      " [ 0.78884434 -1.25666813  0.57585751  1.39897899]] \n",
      "\n",
      "Mean \n",
      " 0.0010611661248891013 \n",
      "\n",
      "Sum \n",
      " 0.021223322497782027 \n",
      "\n",
      "Sum across columns \n",
      " [-1.28993155 -1.53512786  1.72410161 -0.3848316   1.50701272] \n",
      "\n",
      "Sum across rows \n",
      " [-1.10865307 -1.78448912  0.21785956  2.69650595] \n",
      "\n"
     ]
    }
   ],
   "source": [
    "print(\"Array of iid normal 5x4\", \"\\n\", arr, \"\\n\")\n",
    "print(\"Mean\", \"\\n\", arr.mean(), \"\\n\")\n",
    "print(\"Sum\", \"\\n\", arr.sum(), \"\\n\")\n",
    "print(\"Sum across columns\", \"\\n\", arr.sum(axis = 1), \"\\n\")\n",
    "print(\"Sum across rows\", \"\\n\", arr.sum(axis = 0), \"\\n\")"
   ]
  },
  {
   "cell_type": "code",
   "execution_count": 79,
   "id": "ef2ec6af",
   "metadata": {},
   "outputs": [
    {
     "name": "stdout",
     "output_type": "stream",
     "text": [
      "cum sum \n",
      " [ 0  1  3  6 10 15] \n",
      "\n"
     ]
    }
   ],
   "source": [
    "arr = np.array([0,1,2,3,4,5])\n",
    "print(\"cum sum\", \"\\n\", arr.cumsum(), \"\\n\")"
   ]
  },
  {
   "cell_type": "code",
   "execution_count": 80,
   "id": "62b9b669",
   "metadata": {},
   "outputs": [
    {
     "name": "stdout",
     "output_type": "stream",
     "text": [
      "array \n",
      " [[0 1 2]\n",
      " [3 4 5]\n",
      " [6 7 8]] \n",
      "\n",
      "sum along rows \n",
      " [[ 0  1  2]\n",
      " [ 3  5  7]\n",
      " [ 9 12 15]] \n",
      "\n",
      "sum along columns \n",
      " [[ 0  1  3]\n",
      " [ 3  7 12]\n",
      " [ 6 13 21]] \n",
      "\n"
     ]
    }
   ],
   "source": [
    "arr = np.array([[0, 1, 2], [3, 4, 5], [6, 7, 8]])\n",
    "print(\"Array 3x3\", \"\\n\", arr, \"\\n\")\n",
    "print(\"Sum along rows\", \"\\n\", arr.cumsum(axis=0), \"\\n\")\n",
    "print(\"Sum along columns\", \"\\n\", arr.cumsum(axis=1), \"\\n\")\n",
    "#Page has all methods"
   ]
  },
  {
   "cell_type": "markdown",
   "id": "21a35c48",
   "metadata": {},
   "source": [
    "## Methods for boolean arrays "
   ]
  },
  {
   "cell_type": "markdown",
   "id": "2ffee173",
   "metadata": {},
   "source": [
    "* (arr > c).sum()"
   ]
  },
  {
   "cell_type": "markdown",
   "id": "ba3a335c",
   "metadata": {},
   "source": [
    "We can do the above aperations conditional on something "
   ]
  },
  {
   "cell_type": "code",
   "execution_count": 82,
   "id": "76954086",
   "metadata": {},
   "outputs": [
    {
     "name": "stdout",
     "output_type": "stream",
     "text": [
      "Sum only the positive values \n",
      " 51 \n",
      "\n",
      "Sum only the negative values \n",
      " 49 \n",
      "\n"
     ]
    }
   ],
   "source": [
    "arr = rng.standard_normal(100)\n",
    "print(\"Sum only the positive values\", \"\\n\", (arr > 0).sum(), \"\\n\")\n",
    "print(\"Sum only the negative values\", \"\\n\", (arr < 0).sum(), \"\\n\")"
   ]
  },
  {
   "cell_type": "markdown",
   "id": "1767dfa6",
   "metadata": {},
   "source": [
    "## Sorting "
   ]
  },
  {
   "cell_type": "markdown",
   "id": "707545e1",
   "metadata": {},
   "source": [
    "* arr.sort()\n",
    "* arr.sort(axis=0)\n",
    "* arr.sort(axis=1)\n",
    "* np.sort(arr)"
   ]
  },
  {
   "cell_type": "markdown",
   "id": "d46ddb85",
   "metadata": {},
   "source": [
    "We can sort elements inside an array "
   ]
  },
  {
   "cell_type": "code",
   "execution_count": 83,
   "id": "aece5c81",
   "metadata": {},
   "outputs": [
    {
     "name": "stdout",
     "output_type": "stream",
     "text": [
      "unordered array \n",
      " [-1.42382504  1.26372846 -0.87066174 -0.25917323 -0.07534331 -0.74088465] \n",
      "\n",
      "ordered array \n",
      " [-1.42382504 -0.87066174 -0.74088465 -0.25917323 -0.07534331  1.26372846] \n",
      "\n"
     ]
    }
   ],
   "source": [
    "rng = np.random.default_rng(seed=12345)\n",
    "arr = rng.standard_normal(6)\n",
    "print(\"unordered array\", \"\\n\", arr, \"\\n\")\n",
    "arr.sort()\n",
    "print(\"ordered array\", \"\\n\", arr, \"\\n\")"
   ]
  },
  {
   "cell_type": "markdown",
   "id": "147f5b22",
   "metadata": {},
   "source": [
    "We can also sort one dimensional sections in a multidimensional array "
   ]
  },
  {
   "cell_type": "code",
   "execution_count": 87,
   "id": "34150cc3",
   "metadata": {},
   "outputs": [
    {
     "name": "stdout",
     "output_type": "stream",
     "text": [
      "unordered array \n",
      " [[-0.29969852  0.90291934 -1.62158273]\n",
      " [-0.15818926  0.44948393 -1.34360107]\n",
      " [-0.08168759  1.72473993  2.61815943]\n",
      " [ 0.77736134  0.8286332  -0.95898831]\n",
      " [-1.20938829 -1.41229201  0.54154683]] \n",
      "\n",
      "ordered array by columns \n",
      " [[-1.20938829 -1.41229201 -1.62158273]\n",
      " [-0.29969852  0.44948393 -1.34360107]\n",
      " [-0.15818926  0.8286332  -0.95898831]\n",
      " [-0.08168759  0.90291934  0.54154683]\n",
      " [ 0.77736134  1.72473993  2.61815943]] \n",
      "\n",
      "ordered array by rows \n",
      " [[-1.62158273 -1.41229201 -1.20938829]\n",
      " [-1.34360107 -0.29969852  0.44948393]\n",
      " [-0.95898831 -0.15818926  0.8286332 ]\n",
      " [-0.08168759  0.54154683  0.90291934]\n",
      " [ 0.77736134  1.72473993  2.61815943]] \n",
      "\n"
     ]
    }
   ],
   "source": [
    "arr = rng.standard_normal((5,3))\n",
    "print(\"unordered array\", \"\\n\", arr, \"\\n\")\n",
    "arr.sort(axis=0)\n",
    "print(\"ordered array by columns\", \"\\n\", arr, \"\\n\")\n",
    "arr.sort(axis=1)\n",
    "print(\"ordered array by rows\", \"\\n\", arr, \"\\n\")"
   ]
  },
  {
   "cell_type": "markdown",
   "id": "340abc19",
   "metadata": {},
   "source": [
    "numpy.sort returns a sorted copy of an array"
   ]
  },
  {
   "cell_type": "code",
   "execution_count": 89,
   "id": "4f8edbb7",
   "metadata": {},
   "outputs": [
    {
     "name": "stdout",
     "output_type": "stream",
     "text": [
      "unordered array \n",
      " [  5 -10   7   1   0  -3] \n",
      "\n",
      "ordered array \n",
      " [-10  -3   0   1   5   7] \n",
      "\n"
     ]
    }
   ],
   "source": [
    "arr2 = np.array([5, -10, 7, 1, 0, -3])\n",
    "sorted_arr2 = np.sort(arr2)\n",
    "print(\"unordered array\", \"\\n\", arr2, \"\\n\")\n",
    "print(\"ordered array\", \"\\n\", sorted_arr2, \"\\n\")"
   ]
  },
  {
   "cell_type": "markdown",
   "id": "cce2bd6c",
   "metadata": {},
   "source": [
    "## Unique and Other Set Logic "
   ]
  },
  {
   "cell_type": "markdown",
   "id": "0d3ac748",
   "metadata": {},
   "source": [
    "* np.unique(array)\n",
    "* np.in1d()"
   ]
  },
  {
   "cell_type": "markdown",
   "id": "2c1f0da1",
   "metadata": {},
   "source": [
    "We can get the unique values of an array "
   ]
  },
  {
   "cell_type": "code",
   "execution_count": 90,
   "id": "1284f62e",
   "metadata": {},
   "outputs": [
    {
     "name": "stdout",
     "output_type": "stream",
     "text": [
      "Names \n",
      " ['Bob' 'Will' 'Joe' 'Bob' 'Will' 'Joe' 'Joe'] \n",
      "\n",
      "Unique names \n",
      " ['Bob' 'Joe' 'Will'] \n",
      "\n"
     ]
    }
   ],
   "source": [
    "names = np.array([\"Bob\", \"Will\", \"Joe\", \"Bob\", \"Will\", \"Joe\", \"Joe\"])\n",
    "print(\"Names\", \"\\n\", names, \"\\n\")\n",
    "print(\"Unique names\", \"\\n\", np.unique(names), \"\\n\")"
   ]
  },
  {
   "cell_type": "markdown",
   "id": "5856553a",
   "metadata": {},
   "source": [
    "We can also test the memebership of the values of one array into another"
   ]
  },
  {
   "cell_type": "code",
   "execution_count": 91,
   "id": "70d9d9a7",
   "metadata": {},
   "outputs": [
    {
     "name": "stdout",
     "output_type": "stream",
     "text": [
      "Values \n",
      " [6 0 0 3 2 5 6] \n",
      "\n",
      "Are values in the set [2,3,6] \n",
      " [ True False False  True  True False  True] \n",
      "\n"
     ]
    }
   ],
   "source": [
    "values = np.array([6, 0, 0, 3, 2, 5, 6])\n",
    "print(\"Values\", \"\\n\", values, \"\\n\")\n",
    "print(\"Are values in the set [2,3,6]\", \"\\n\", np.in1d(values, [2, 3, 6]), \"\\n\")\n",
    "#More Array operations page 115 "
   ]
  },
  {
   "cell_type": "markdown",
   "id": "24ee76a5",
   "metadata": {},
   "source": [
    "## Linear Algebra "
   ]
  },
  {
   "cell_type": "markdown",
   "id": "8aa0a9bc",
   "metadata": {},
   "source": [
    "* arrx.dot(arry)\n",
    "* np.dot(arrx,arry)\n",
    "* from numpy.linalg import inv, qr\n",
    "* inv(mat)"
   ]
  },
  {
   "cell_type": "code",
   "execution_count": 92,
   "id": "90cffd05",
   "metadata": {},
   "outputs": [
    {
     "name": "stdout",
     "output_type": "stream",
     "text": [
      "x \n",
      " [[1. 2. 3.]\n",
      " [4. 5. 6.]] \n",
      "\n",
      "y \n",
      " [[ 6. 23.]\n",
      " [-1.  7.]\n",
      " [ 8.  9.]] \n",
      "\n",
      "Matrix multiplication \n",
      " [[ 28.  64.]\n",
      " [ 67. 181.]] \n",
      "\n",
      "Matrix multiplication \n",
      " [[ 28.  64.]\n",
      " [ 67. 181.]] \n",
      "\n"
     ]
    }
   ],
   "source": [
    "x = np.array([[1., 2., 3.], [4., 5., 6.]])\n",
    "y = np.array([[6., 23.], [-1, 7], [8, 9]])\n",
    "print(\"x\", \"\\n\", x, \"\\n\")\n",
    "print(\"y\", \"\\n\", y, \"\\n\")\n",
    "print(\"Matrix multiplication\", \"\\n\", x.dot(y), \"\\n\")\n",
    "print(\"Matrix multiplication\", \"\\n\", np.dot(x,y), \"\\n\")"
   ]
  },
  {
   "cell_type": "markdown",
   "id": "6988e1c0",
   "metadata": {},
   "source": [
    "linalg has a standard set of matrix decompositions and things like inverse and determinant:"
   ]
  },
  {
   "cell_type": "code",
   "execution_count": null,
   "id": "04502121",
   "metadata": {},
   "outputs": [],
   "source": [
    "from numpy.linalg import inv, qr\n",
    "rng = np.random.default_rng(seed=12345)\n",
    "X = rng.standard_normal((5, 5))\n",
    "mat = X.T @ X\n",
    "print(\"Matrix\", \"\\n\", mat, \"\\n\")\n",
    "print(\"Inverse matrix\", \"\\n\", inv(mat), \"\\n\")\n",
    "print(\"Inverse matrix times matrix\", \"\\n\", inv(mat).dot(mat), \"\\n\")\n",
    "\n",
    "\n",
    "#Page 118 has commonly used linear algebra matrix expressions "
   ]
  },
  {
   "cell_type": "markdown",
   "id": "fd5d1777",
   "metadata": {},
   "source": [
    "## Example random walks "
   ]
  },
  {
   "cell_type": "code",
   "execution_count": 93,
   "id": "10a49be4",
   "metadata": {},
   "outputs": [],
   "source": [
    "import random\n",
    "import matplotlib.pyplot as plt"
   ]
  },
  {
   "cell_type": "code",
   "execution_count": 94,
   "id": "d9581b9d",
   "metadata": {},
   "outputs": [
    {
     "data": {
      "text/plain": [
       "[<matplotlib.lines.Line2D at 0x11ffd0e90>]"
      ]
     },
     "execution_count": 94,
     "metadata": {},
     "output_type": "execute_result"
    },
    {
     "data": {
      "image/png": "[encoded data removed]",
      "text/plain": [
       "<Figure size 640x480 with 1 Axes>"
      ]
     },
     "metadata": {},
     "output_type": "display_data"
    }
   ],
   "source": [
    "position = 0\n",
    "walk = [position]\n",
    "nsteps = 1000\n",
    "for _ in range(nsteps):\n",
    "  step = 1 if random.randint(0, 1) else -1\n",
    "  position += step\n",
    "  walk.append(position)\n",
    "plt.plot(walk[:100])"
   ]
  },
  {
   "cell_type": "markdown",
   "id": "9e9b1c94",
   "metadata": {},
   "source": [
    "We can also use numpy to achieve this random walk "
   ]
  },
  {
   "cell_type": "code",
   "execution_count": 99,
   "id": "77b03af0",
   "metadata": {},
   "outputs": [
    {
     "name": "stdout",
     "output_type": "stream",
     "text": [
      "Walk min \n",
      " -8 \n",
      "\n",
      "Walk max \n",
      " 50 \n",
      "\n",
      "First time the walk is 10 or -10 \n",
      " 155 \n",
      "\n"
     ]
    },
    {
     "data": {
      "image/png": "[encoded data removed]",
      "text/plain": [
       "<Figure size 640x480 with 1 Axes>"
      ]
     },
     "metadata": {},
     "output_type": "display_data"
    }
   ],
   "source": [
    "nsteps = 1000\n",
    "rng = np.random.default_rng(seed=12345) #Set seed for the random generator\n",
    "draws = rng.integers(0, 2, size=nsteps) #List of 1000 random numbers from [0,2)\n",
    "steps = np.where(draws == 0, 1,-1) #When the draw is 0 put a 1 otherwise put a -1\n",
    "walk = steps.cumsum() #List uf the cum sum of steps \n",
    "\n",
    "print(\"Walk min\", \"\\n\", walk.min(), \"\\n\")\n",
    "print(\"Walk max\", \"\\n\", walk.max(), \"\\n\")\n",
    "print(\"First time the walk is 10 or -10\", \"\\n\", (np.abs(walk) >= 10).argmax(), \"\\n\") #The first index where it reaches a maximum. Here the maximum is a TRUE, so it gets the index of the first TRUE \n",
    "\n",
    "plt.plot(walk[:100])"
   ]
  },
  {
   "cell_type": "markdown",
   "id": "af3dbe17",
   "metadata": {},
   "source": [
    "We can generate many random walks at the same time "
   ]
  },
  {
   "cell_type": "code",
   "execution_count": 100,
   "id": "a5381642",
   "metadata": {},
   "outputs": [
    {
     "name": "stdout",
     "output_type": "stream",
     "text": [
      "Walk min \n",
      " -114 \n",
      "\n",
      "Walk max \n",
      " 120 \n",
      "\n",
      "Number of walks that reach the 30 \n",
      " 3395 \n",
      "\n",
      "List of the walks that actually crossed 30 or -30 at some time \n",
      " [[ -1   0  -1 ...  48  47  46]\n",
      " [ -1   0   1 ...  50  49  48]\n",
      " [ -1  -2  -3 ... -50 -49 -48]\n",
      " ...\n",
      " [  1   0   1 ...  26  25  26]\n",
      " [ -1  -2  -1 ... -44 -43 -44]\n",
      " [  1   2   1 ...  10   9  10]] \n",
      "\n",
      "List of the True/False values for each walk when they cross 30 or -30 \n",
      " [[False False False ...  True  True  True]\n",
      " [False False False ...  True  True  True]\n",
      " [False False False ...  True  True  True]\n",
      " ...\n",
      " [False False False ... False False False]\n",
      " [False False False ...  True  True  True]\n",
      " [False False False ... False False False]] \n",
      "\n",
      "List of the first True value for each walk when they cross 30 or -30 \n",
      " [705 201 491 ... 149 219 259] \n",
      "\n",
      "On average when was. the first time they crossed \n",
      " 500.6182621502209 \n",
      "\n"
     ]
    }
   ],
   "source": [
    "nwalks = 5000\n",
    "nsteps = 1000\n",
    "rng = np.random.default_rng(seed=12345) #Set seed for the random generator\n",
    "draws = rng.integers(0, 2, size=(nwalks, nsteps)) #List of 5000 lists of 1000 random numbers from [0,2)\n",
    "steps = np.where(draws == 0, 1,-1) #When the draw is 0 put a 1 otherwise put a -1\n",
    "walks = steps.cumsum(axis = 1) #List of the cum sum of steps across columns \n",
    "\n",
    "print(\"Walk min\", \"\\n\", walks.min(), \"\\n\")\n",
    "print(\"Walk max\", \"\\n\", walks.max(), \"\\n\")\n",
    "\n",
    "hits30 = (np.abs(walks) >= 30).any(axis=1) #True when the walk reaches 30 at some point\n",
    "print(\"Number of walks that reach the 30\", \"\\n\", hits30.sum(), \"\\n\")\n",
    "print(\"List of the walks that actually crossed 30 or -30 at some time\", \"\\n\", walks[hits30], \"\\n\")\n",
    "print(\"List of the True/False values for each walk when they cross 30 or -30\", \"\\n\", np.abs(walks[hits30])>=30, \"\\n\")\n",
    "\n",
    "first_cross = (np.abs(walks[hits30])>=30).argmax(axis = 1)\n",
    "print(\"List of the first True value for each walk when they cross 30 or -30\", \"\\n\", first_cross, \"\\n\") \n",
    "print(\"On average when was. the first time they crossed\", \"\\n\", first_cross.mean(), \"\\n\")"
   ]
  },
  {
   "cell_type": "code",
   "execution_count": null,
   "id": "0c2fa7e1",
   "metadata": {},
   "outputs": [],
   "source": []
  }
 ],
 "metadata": {
  "kernelspec": {
   "display_name": "Python 3 (ipykernel)",
   "language": "python",
   "name": "python3"
  },
  "language_info": {
   "codemirror_mode": {
    "name": "ipython",
    "version": 3
   },
   "file_extension": ".py",
   "mimetype": "text/x-python",
   "name": "python",
   "nbconvert_exporter": "python",
   "pygments_lexer": "ipython3",
   "version": "3.11.5"
  }
 },
 "nbformat": 4,
 "nbformat_minor": 5
}
